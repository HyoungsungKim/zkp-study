{
 "cells": [
  {
   "cell_type": "code",
   "execution_count": null,
   "metadata": {},
   "outputs": [],
   "source": [
    "from py_ecc.bn128 import G1, G2, multiply, pairing, add, neg, eq, curve_order\n",
    "from galois import Poly, GF\n",
    "import random"
   ]
  },
  {
   "cell_type": "code",
   "execution_count": null,
   "metadata": {},
   "outputs": [],
   "source": [
    "c.bn128 import G1, G2, multiply, pairing, add, neg, eq, curve_order\n",
    "from galois import Poly, GF\n",
    "import random"
   ]
  },
  {
   "cell_type": "code",
   "execution_count": 2,
   "metadata": {},
   "outputs": [],
   "source": [
    "field = GF(curve_order) # Define the finite field based on the curve order"
   ]
  },
  {
   "cell_type": "code",
   "execution_count": null,
   "metadata": {},
   "outputs": [],
   "source": [
    "class KZGCommitment:\n",
    "    # Setup a KZG Commitment Scheme with a trusted setup phase.     \n",
    "    def __init__(self, max_degree, field):\n",
    "        self.max_degree = max_degree\n",
    "        self.field = field\n",
    "        self.srs = random.randint(1, curve_order - 1)\n",
    "        self.srs_g1 = [multiply(G1, self.srs**i) for i in range(max_degree + 1)]\n",
    "        self.srs_g2 = [G2, multiply(G2, self.srs)]\n",
    "        #print(self.srs_g1)\n",
    "        #print(self.srs_g2)\n",
    "        \n",
    "    # Commit to a polynomial using the SRS.  Returns a point in G1.  The commitment is a linear combination of the SRS points weighted by the coefficients of the polynomial.  If the coefficient is zero, we skip that term.  We use the multiply function from py_ecc.bn128 to compute the scalar multiplication of the SRS point with the coefficient.  We use the add function from py_ecc.bn128 to add the commitments for each term.  The commitment is returned in G1.  If the polynomial has degree greater than max_degree, we raise a ValueError. \n",
    "    def commit(self, poly: Poly):\n",
    "        coeffs = poly.coefficients()       \n",
    "        commitment = None\n",
    "        # Compute the commitment to the polynomial using the SRS\n",
    "        # Reverse the coefficients as they are stored from highest degree to lowest in Poly object. \n",
    "        for coeff, s in zip(coeffs[::-1], self.srs_g1):\n",
    "            if coeff == 0:\n",
    "                continue\n",
    "            term_commitment = multiply(s, int(coeff))\n",
    "            commitment = add(commitment, term_commitment) if commitment else term_commitment\n",
    "        # Return the commitment in G1\n",
    "        # srs = [[1]_1, [s]_1, ..., [s^n]_1]\n",
    "        # [f(s)]_1 = a_0*[1]_1 + a_1*[s]_1 + ... + a_n*[s^n]_1\n",
    "        return commitment\n",
    "    \n",
    "    def open(self, poly:Poly, z_point):\n",
    "        f_z = poly(z_point)\n",
    "        numberator = poly - field(f_z)        \n",
    "        denominator = Poly([1, -z_point], field=field)\n",
    "        quotient = numberator //  denominator\n",
    "        proof = self.commit(quotient)\n",
    "        return f_z, proof\n",
    "    \n",
    "    def verify(self, commitment, z_point, poly:Poly):\n",
    "        # q(s) = [f(s) - f(z)] / (s - z) in G1\n",
    "        # [f(s)]_1 - [f(z)]_1 = [q(s)]_1 * (s - z)\n",
    "        #e([f(s)]_1 - [f(z)]_1, G2) == e([q(s)]_1, [s]_2 - [z]_2)\n",
    "        f_z, proof = self.open(poly, z_point)\n",
    "        f_z_g1 = self.commit(Poly([f_z], field=field))        \n",
    "        s = self.srs\n",
    "        lhs = add(commitment, neg(f_z_g1))\n",
    "        lhs_pairing = pairing(self.srs_g2[0], lhs)\n",
    "        rhs_pairing = pairing(\n",
    "            add(\n",
    "                self.srs_g2[1],\n",
    "                multiply(neg(self.srs_g2[0]), int(z_point))\n",
    "            ),\n",
    "            proof\n",
    "        )\n",
    "        # Debugging line to see the pairings for comparison. Can be removed in production code.\n",
    "        #print(f\"lhs_pairing: {lhs_pairing}\") \n",
    "        #print(f\"rhs_pairing: {rhs_pairing}\") \n",
    "        return lhs_pairing == rhs_pairing"
   ]
  },
  {
   "cell_type": "code",
   "execution_count": 173,
   "metadata": {},
   "outputs": [
    {
     "name": "stdout",
     "output_type": "stream",
     "text": [
      "[1 2 3 0]\n"
     ]
    }
   ],
   "source": [
    "kzg = KZGCommitment(3, field)\n",
    "poly = Poly([1, 2, 3, 0], field=field) # f(x) = x^3 + 2x^2 + 3x + 0\n",
    "print(poly.coefficients())"
   ]
  },
  {
   "cell_type": "code",
   "execution_count": 174,
   "metadata": {},
   "outputs": [
    {
     "name": "stdout",
     "output_type": "stream",
     "text": [
      "(9953335635914614939829934415496832188241572235654832090561615548078357654700, 17206522999725458237328610884307598504359551828740947891776895448968538333577)\n"
     ]
    }
   ],
   "source": [
    "commitment = kzg.commit(poly)\n",
    "print(commitment)"
   ]
  },
  {
   "cell_type": "code",
   "execution_count": 175,
   "metadata": {},
   "outputs": [
    {
     "name": "stdout",
     "output_type": "stream",
     "text": [
      "f(z) = 15660262963832404716596791646158523948812039572817471521199125877306333397077\n",
      "(7078526594979175394119242622319255889785551335103852469310179285143485300647, 7205735234049035568519808979835918775081647893054951404282672896406027511544)\n"
     ]
    }
   ],
   "source": [
    "z_point = field.Random(1)[0]\n",
    "f_z, proof = kzg.open(poly, z_point)\n",
    "print(f\"f(z) = {f_z}\")\n",
    "print(proof)"
   ]
  },
  {
   "cell_type": "code",
   "execution_count": 176,
   "metadata": {},
   "outputs": [
    {
     "name": "stdout",
     "output_type": "stream",
     "text": [
      "lhs_pairing: (17940726559316152136534235094918619837659637812623765132091811630288608823725, 14532728522988339825372655117465070763600287613277451252610271669628604621895, 21750323611109516835134662252215185355828107691959271561310235113325864279674, 8993021742618597535838162355330249368881480955501870426602755490251716064087, 5923848068248490578184152416742075875201949202674107976583872588642462592295, 5351716301210347756950399198621338277949444063120802284132636617406280799565, 18753758207359458361106877844129195357729447992527245916269151106934417808464, 1460106484377835192317078647277700548086969733587011786488201252088323141894, 462606270038137723191687166701332657554580472112838359195529429572919915087, 8014420729298777074246438256114908870692403611713227623431564701703189355099, 1831253566955229352198209913268943194401786231369425401843794404050798253496, 1477998165994918686176343221846286474189090168578955737444751540303209919772)\n",
      "rhs_pairing: (17940726559316152136534235094918619837659637812623765132091811630288608823725, 14532728522988339825372655117465070763600287613277451252610271669628604621895, 21750323611109516835134662252215185355828107691959271561310235113325864279674, 8993021742618597535838162355330249368881480955501870426602755490251716064087, 5923848068248490578184152416742075875201949202674107976583872588642462592295, 5351716301210347756950399198621338277949444063120802284132636617406280799565, 18753758207359458361106877844129195357729447992527245916269151106934417808464, 1460106484377835192317078647277700548086969733587011786488201252088323141894, 462606270038137723191687166701332657554580472112838359195529429572919915087, 8014420729298777074246438256114908870692403611713227623431564701703189355099, 1831253566955229352198209913268943194401786231369425401843794404050798253496, 1477998165994918686176343221846286474189090168578955737444751540303209919772)\n"
     ]
    },
    {
     "data": {
      "text/plain": [
       "True"
      ]
     },
     "execution_count": 176,
     "metadata": {},
     "output_type": "execute_result"
    }
   ],
   "source": [
    "kzg.verify(commitment, z_point, poly)"
   ]
  },
  {
   "cell_type": "code",
   "execution_count": 183,
   "metadata": {},
   "outputs": [],
   "source": [
    "import json\n",
    "from collections import defaultdict\n",
    "\n",
    "with open(\"r1cs.json\") as f:\n",
    "    r1cs_data = json.load(f)\n",
    "    \n",
    "with open(\"witness.json\") as f:\n",
    "    witness_data = json.load(f)"
   ]
  },
  {
   "cell_type": "code",
   "execution_count": 234,
   "metadata": {},
   "outputs": [],
   "source": [
    "class PlonkIOP:\n",
    "    def __init__(self, r1cs_json_path, witness_json_path, field):\n",
    "        self.field = field\n",
    "        with open(r1cs_json_path) as f:\n",
    "            r1cs_data = json.load(f)\n",
    "\n",
    "        with open(witness_json_path) as f:\n",
    "            witness_data = json.load(f)\n",
    "\n",
    "        self.n_constraints = r1cs_data[\"nConstraints\"]\n",
    "        self.nVars = r1cs_data['nVars']\n",
    "        self.constraints = r1cs_data['constraints']\n",
    "        self.nOutputs = r1cs_data['nOutputs']\n",
    "        self.nPubInputs = r1cs_data['nPubInputs']\n",
    "\n",
    "        self.witness = [self.field(int(x, 16)) for x in witness_data['witness']]\n",
    "\n",
    "        # 중요: 필드 원소로 초기화\n",
    "        self.QL = [self.field(0)] * self.n_constraints\n",
    "        self.QR = [self.field(0)] * self.n_constraints\n",
    "        self.QO = [self.field(0)] * self.n_constraints\n",
    "        self.QM = [self.field(0)] * self.n_constraints\n",
    "        self.PI = [self.field(0)] * self.n_constraints\n",
    "\n",
    "        for i in range(min(self.nPubInputs, self.n_constraints)):\n",
    "            self.PI[i] = self.witness[self.nOutputs + i + 1]\n",
    "\n",
    "        for i, c in enumerate(self.constraints):\n",
    "            A_terms = c[0]\n",
    "            B_terms = c[1]\n",
    "            C_terms = c[2]\n",
    "\n",
    "            if A_terms:\n",
    "                self.QL[i] = sum([self.field(int(v)) for v in A_terms.values()], start=self.field(0))\n",
    "            if B_terms:\n",
    "                self.QR[i] = sum([self.field(int(v)) for v in B_terms.values()], start=self.field(0))\n",
    "            if C_terms:\n",
    "                self.QO[i] = -sum([self.field(int(v)) for v in C_terms.values()], start=self.field(0))\n",
    "\n",
    "    def evaluate_gate(self, i, a, b, c):\n",
    "        return (\n",
    "            self.QL[i] * a +\n",
    "            self.QR[i] * b +\n",
    "            self.QM[i] * a * b +\n",
    "            self.QO[i] * c +\n",
    "            self.PI[i]\n",
    "        )\n",
    "\n",
    "    def verify(self):\n",
    "        for i, (A_term, B_term, C_term) in enumerate(self.constraints):\n",
    "            a_val = self.field(0)\n",
    "            b_val = self.field(0)\n",
    "            c_val = self.field(0)\n",
    "\n",
    "            if A_term:\n",
    "                a_wire = int(next(iter(A_term.keys())))\n",
    "                a_val = self.witness[a_wire]\n",
    "            if B_term:\n",
    "                b_wire = int(next(iter(B_term.keys())))\n",
    "                b_val = self.witness[b_wire]\n",
    "            if C_term:\n",
    "                c_wire = int(next(iter(C_term.keys())))\n",
    "                c_val = self.witness[c_wire]\n",
    "\n",
    "            eval_result = self.evaluate_gate(i, a_val, b_val, c_val)\n",
    "            if eval_result != self.field(0):\n",
    "                print(f\"❌ Constraint {i} failed: result={eval_result}, a={a_val}, b={b_val}, c={c_val}\")\n",
    "                return False\n",
    "        print(\"✅ All constraints satisfied.\")\n",
    "        return True\n"
   ]
  },
  {
   "cell_type": "code",
   "execution_count": 235,
   "metadata": {},
   "outputs": [
    {
     "name": "stdout",
     "output_type": "stream",
     "text": [
      "❌ Constraint 0 failed: result=8, a=3, b=2, c=6\n"
     ]
    },
    {
     "data": {
      "text/plain": [
       "False"
      ]
     },
     "execution_count": 235,
     "metadata": {},
     "output_type": "execute_result"
    }
   ],
   "source": [
    "r1cs_json_path = 'r1cs.json'\n",
    "witness_json_path = 'witness.json'\n",
    "\n",
    "plonkIoP = PlonkIOP(r1cs_json_path, witness_json_path, field)\n",
    "plonkIoP.verify()"
   ]
  },
  {
   "cell_type": "code",
   "execution_count": 212,
   "metadata": {},
   "outputs": [
    {
     "ename": "TypeError",
     "evalue": "'dict_keys' object is not subscriptable",
     "output_type": "error",
     "traceback": [
      "\u001b[0;31m---------------------------------------------------------------------------\u001b[0m",
      "\u001b[0;31mTypeError\u001b[0m                                 Traceback (most recent call last)",
      "Cell \u001b[0;32mIn[212], line 2\u001b[0m\n\u001b[1;32m      1\u001b[0m a \u001b[38;5;241m=\u001b[39m {\u001b[38;5;241m1\u001b[39m:\u001b[38;5;241m1\u001b[39m}\n\u001b[0;32m----> 2\u001b[0m \u001b[43ma\u001b[49m\u001b[38;5;241;43m.\u001b[39;49m\u001b[43mkeys\u001b[49m\u001b[43m(\u001b[49m\u001b[43m)\u001b[49m\u001b[43m[\u001b[49m\u001b[38;5;241;43m0\u001b[39;49m\u001b[43m]\u001b[49m\n",
      "\u001b[0;31mTypeError\u001b[0m: 'dict_keys' object is not subscriptable"
     ]
    }
   ],
   "source": [
    "a = {1:1}\n",
    "a.keys()[0]"
   ]
  },
  {
   "cell_type": "code",
   "execution_count": null,
   "metadata": {},
   "outputs": [],
   "source": []
  }
 ],
 "metadata": {
  "kernelspec": {
   "display_name": "Python 3",
   "language": "python",
   "name": "python3"
  },
  "language_info": {
   "codemirror_mode": {
    "name": "ipython",
    "version": 3
   },
   "file_extension": ".py",
   "mimetype": "text/x-python",
   "name": "python",
   "nbconvert_exporter": "python",
   "pygments_lexer": "ipython3",
   "version": "3.8.20"
  }
 },
 "nbformat": 4,
 "nbformat_minor": 2
}
