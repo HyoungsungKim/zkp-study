{
 "cells": [
  {
   "cell_type": "code",
   "execution_count": null,
   "metadata": {},
   "outputs": [],
   "source": [
    "from py_ecc.bn128 import G1, G2, multiply, pairing, add, neg, eq, curve_order\n",
    "from galois import Poly, GF\n",
    "import random"
   ]
  },
  {
   "cell_type": "code",
   "execution_count": 2,
   "metadata": {},
   "outputs": [],
   "source": [
    "field = GF(curve_order) # Define the finite field based on the curve order"
   ]
  },
  {
   "cell_type": "code",
   "execution_count": null,
   "metadata": {},
   "outputs": [],
   "source": [
    "class KZGCommitment:\n",
    "    # Setup a KZG Commitment Scheme with a trusted setup phase.     \n",
    "    def __init__(self, max_degree, field):\n",
    "        self.max_degree = max_degree\n",
    "        self.field = field\n",
    "        self.srs = random.randint(1, curve_order - 1)\n",
    "        self.srs_g1 = [multiply(G1, self.srs**i) for i in range(max_degree + 1)]\n",
    "        self.srs_g2 = [G2, multiply(G2, self.srs)]\n",
    "        #print(self.srs_g1)\n",
    "        #print(self.srs_g2)\n",
    "        \n",
    "    # Commit to a polynomial using the SRS.  Returns a point in G1.  The commitment is a linear combination of the SRS points weighted by the coefficients of the polynomial.  If the coefficient is zero, we skip that term.  We use the multiply function from py_ecc.bn128 to compute the scalar multiplication of the SRS point with the coefficient.  We use the add function from py_ecc.bn128 to add the commitments for each term.  The commitment is returned in G1.  If the polynomial has degree greater than max_degree, we raise a ValueError. \n",
    "    def commit(self, poly: Poly):\n",
    "        coeffs = poly.coefficients()       \n",
    "        commitment = None\n",
    "        # Compute the commitment to the polynomial using the SRS\n",
    "        # Reverse the coefficients as they are stored from highest degree to lowest in Poly object. \n",
    "        for coeff, s in zip(coeffs[::-1], self.srs_g1):\n",
    "            if coeff == 0:\n",
    "                continue\n",
    "            term_commitment = multiply(s, int(coeff))\n",
    "            commitment = add(commitment, term_commitment) if commitment else term_commitment\n",
    "        # Return the commitment in G1\n",
    "        # srs = [[1]_1, [s]_1, ..., [s^n]_1]\n",
    "        # [f(s)]_1 = a_0*[1]_1 + a_1*[s]_1 + ... + a_n*[s^n]_1\n",
    "        return commitment\n",
    "    \n",
    "    def open(self, poly:Poly, z_point):\n",
    "        f_z = poly(z_point)\n",
    "        numberator = poly - field(f_z)        \n",
    "        denominator = Poly([1, -z_point], field=field)\n",
    "        quotient = numberator //  denominator\n",
    "        proof = self.commit(quotient)\n",
    "        return f_z, proof\n",
    "    \n",
    "    def verify(self, commitment, z_point, poly:Poly):\n",
    "        # q(s) = [f(s) - f(z)] / (s - z) in G1\n",
    "        # [f(s)]_1 - [f(z)]_1 = [q(s)]_1 * (s - z)\n",
    "        #e([f(s)]_1 - [f(z)]_1, G2) == e([q(s)]_1, [s]_2 - [z]_2)\n",
    "        f_z, proof = self.open(poly, z_point)\n",
    "        f_z_g1 = self.commit(Poly([f_z], field=field))        \n",
    "        s = self.srs\n",
    "        lhs = add(commitment, neg(f_z_g1))\n",
    "        lhs_pairing = pairing(self.srs_g2[0], lhs)\n",
    "        rhs_pairing = pairing(\n",
    "            add(\n",
    "                self.srs_g2[1],\n",
    "                multiply(neg(self.srs_g2[0]), int(z_point))\n",
    "            ),\n",
    "            proof\n",
    "        )\n",
    "        # Debugging line to see the pairings for comparison. Can be removed in production code.\n",
    "        #print(f\"lhs_pairing: {lhs_pairing}\") \n",
    "        #print(f\"rhs_pairing: {rhs_pairing}\") \n",
    "        return lhs_pairing == rhs_pairing"
   ]
  },
  {
   "cell_type": "code",
   "execution_count": 173,
   "metadata": {},
   "outputs": [
    {
     "name": "stdout",
     "output_type": "stream",
     "text": [
      "[1 2 3 0]\n"
     ]
    }
   ],
   "source": [
    "kzg = KZGCommitment(3, field)\n",
    "poly = Poly([1, 2, 3, 0], field=field) # f(x) = x^3 + 2x^2 + 3x + 0\n",
    "print(poly.coefficients())"
   ]
  },
  {
   "cell_type": "code",
   "execution_count": 174,
   "metadata": {},
   "outputs": [
    {
     "name": "stdout",
     "output_type": "stream",
     "text": [
      "(9953335635914614939829934415496832188241572235654832090561615548078357654700, 17206522999725458237328610884307598504359551828740947891776895448968538333577)\n"
     ]
    }
   ],
   "source": [
    "commitment = kzg.commit(poly)\n",
    "print(commitment)"
   ]
  },
  {
   "cell_type": "code",
   "execution_count": 175,
   "metadata": {},
   "outputs": [
    {
     "name": "stdout",
     "output_type": "stream",
     "text": [
      "f(z) = 15660262963832404716596791646158523948812039572817471521199125877306333397077\n",
      "(7078526594979175394119242622319255889785551335103852469310179285143485300647, 7205735234049035568519808979835918775081647893054951404282672896406027511544)\n"
     ]
    }
   ],
   "source": [
    "z_point = field.Random(1)[0]\n",
    "f_z, proof = kzg.open(poly, z_point)\n",
    "print(f\"f(z) = {f_z}\")\n",
    "print(proof)"
   ]
  },
  {
   "cell_type": "code",
   "execution_count": 176,
   "metadata": {},
   "outputs": [
    {
     "name": "stdout",
     "output_type": "stream",
     "text": [
      "lhs_pairing: (17940726559316152136534235094918619837659637812623765132091811630288608823725, 14532728522988339825372655117465070763600287613277451252610271669628604621895, 21750323611109516835134662252215185355828107691959271561310235113325864279674, 8993021742618597535838162355330249368881480955501870426602755490251716064087, 5923848068248490578184152416742075875201949202674107976583872588642462592295, 5351716301210347756950399198621338277949444063120802284132636617406280799565, 18753758207359458361106877844129195357729447992527245916269151106934417808464, 1460106484377835192317078647277700548086969733587011786488201252088323141894, 462606270038137723191687166701332657554580472112838359195529429572919915087, 8014420729298777074246438256114908870692403611713227623431564701703189355099, 1831253566955229352198209913268943194401786231369425401843794404050798253496, 1477998165994918686176343221846286474189090168578955737444751540303209919772)\n",
      "rhs_pairing: (17940726559316152136534235094918619837659637812623765132091811630288608823725, 14532728522988339825372655117465070763600287613277451252610271669628604621895, 21750323611109516835134662252215185355828107691959271561310235113325864279674, 8993021742618597535838162355330249368881480955501870426602755490251716064087, 5923848068248490578184152416742075875201949202674107976583872588642462592295, 5351716301210347756950399198621338277949444063120802284132636617406280799565, 18753758207359458361106877844129195357729447992527245916269151106934417808464, 1460106484377835192317078647277700548086969733587011786488201252088323141894, 462606270038137723191687166701332657554580472112838359195529429572919915087, 8014420729298777074246438256114908870692403611713227623431564701703189355099, 1831253566955229352198209913268943194401786231369425401843794404050798253496, 1477998165994918686176343221846286474189090168578955737444751540303209919772)\n"
     ]
    },
    {
     "data": {
      "text/plain": [
       "True"
      ]
     },
     "execution_count": 176,
     "metadata": {},
     "output_type": "execute_result"
    }
   ],
   "source": [
    "kzg.verify(commitment, z_point, poly)"
   ]
  },
  {
   "cell_type": "code",
   "execution_count": 183,
   "metadata": {},
   "outputs": [],
   "source": [
    "import json\n",
    "from collections import defaultdict\n",
    "\n",
    "with open(\"r1cs.json\") as f:\n",
    "    r1cs_data = json.load(f)\n",
    "    \n",
    "with open(\"witness.json\") as f:\n",
    "    witness_data = json.load(f)"
   ]
  },
  {
   "cell_type": "code",
   "execution_count": null,
   "metadata": {},
   "outputs": [
    {
     "name": "stdout",
     "output_type": "stream",
     "text": [
      "Omega elements for z(x): [GF(1,\n",
      "   order=21888242871839275222246405745257275088548364400416034343698204186575808495617), GF(4407920970296243842393367215006156084916469457145843978461,\n",
      "   order=21888242871839275222246405745257275088548364400416034343698204186575808495617), GF(21888242871839275217838484774961031246154997185409878258781734729429964517155,\n",
      "   order=21888242871839275222246405745257275088548364400416034343698204186575808495617)]\n",
      "Omega elements for T(x): [GF(1,\n",
      "   order=21888242871839275222246405745257275088548364400416034343698204186575808495617), GF(7890059333988994465574740005840865221433745984419803513342428278253292184207,\n",
      "   order=21888242871839275222246405745257275088548364400416034343698204186575808495617), GF(21753035119881904180964963008150682033897938407632563941302855815390755029584,\n",
      "   order=21888242871839275222246405745257275088548364400416034343698204186575808495617), GF(4833374017787122887595405489557386282696242896932280905628839833224856877419,\n",
      "   order=21888242871839275222246405745257275088548364400416034343698204186575808495617), GF(16692984165022866950353798705254578199558701463361431942046244399187910046085,\n",
      "   order=21888242871839275222246405745257275088548364400416034343698204186575808495617), GF(14884005152850707151303872745586796813908622480883149597111437625157383536158,\n",
      "   order=21888242871839275222246405745257275088548364400416034343698204186575808495617), GF(10713868413459434575441403605577831253062903746768198203009893483393436522562,\n",
      "   order=21888242871839275222246405745257275088548364400416034343698204186575808495617), GF(9415870570504145394282252296056665940831629490406054150057606550365866692215,\n",
      "   order=21888242871839275222246405745257275088548364400416034343698204186575808495617), GF(5949360670765693609492868562813710288015780603871941022418358186058363355155,\n",
      "   order=21888242871839275222246405745257275088548364400416034343698204186575808495617), GF(1665755470375983387866452138342777664353042004716872627476380684144448607712,\n",
      "   order=21888242871839275222246405745257275088548364400416034343698204186575808495617), GF(1260762789417942252794340297374345054952556401919953728461150210015333218982,\n",
      "   order=21888242871839275222246405745257275088548364400416034343698204186575808495617), GF(9925092992630320971093322032721386847459695236591234251433725878181360175127,\n",
      "   order=21888242871839275222246405745257275088548364400416034343698204186575808495617), GF(18920256425396471013827191521555917629318413557378987264045865106264494187593,\n",
      "   order=21888242871839275222246405745257275088548364400416034343698204186575808495617), GF(10505797073388364848167567110774533293922011380694386779278817425270542827837,\n",
      "   order=21888242871839275222246405745257275088548364400416034343698204186575808495617), GF(18467890961840629465829727908516050843395597409022743927249747931811807003901,\n",
      "   order=21888242871839275222246405745257275088548364400416034343698204186575808495617)]\n",
      "T_vals: [GF(3,\n",
      "   order=21888242871839275222246405745257275088548364400416034343698204186575808495617), GF(2,\n",
      "   order=21888242871839275222246405745257275088548364400416034343698204186575808495617), GF(1,\n",
      "   order=21888242871839275222246405745257275088548364400416034343698204186575808495617), GF(7,\n",
      "   order=21888242871839275222246405745257275088548364400416034343698204186575808495617), GF(5,\n",
      "   order=21888242871839275222246405745257275088548364400416034343698204186575808495617), GF(4,\n",
      "   order=21888242871839275222246405745257275088548364400416034343698204186575808495617), GF(3,\n",
      "   order=21888242871839275222246405745257275088548364400416034343698204186575808495617), GF(2,\n",
      "   order=21888242871839275222246405745257275088548364400416034343698204186575808495617), GF(6,\n",
      "   order=21888242871839275222246405745257275088548364400416034343698204186575808495617), GF(1,\n",
      "   order=21888242871839275222246405745257275088548364400416034343698204186575808495617), GF(6,\n",
      "   order=21888242871839275222246405745257275088548364400416034343698204186575808495617), GF(48,\n",
      "   order=21888242871839275222246405745257275088548364400416034343698204186575808495617), GF(1,\n",
      "   order=21888242871839275222246405745257275088548364400416034343698204186575808495617), GF(7,\n",
      "   order=21888242871839275222246405745257275088548364400416034343698204186575808495617), GF(72,\n",
      "   order=21888242871839275222246405745257275088548364400416034343698204186575808495617)]\n",
      "T_poly: 13558884991866300437037945547107416215670665976219360067340113445644367223838x^14 + 6121840487219502239248892862943931605471448555215526615810084023154704181676x^13 + 13495325242064946745433204157319455503056704047459439817812247948104096419597x^12 + 9627055661627363283463976050832154354854785983110450238454908877637526848322x^11 + 2817015417987271735052402409781067823860981748812228761489667879522872944129x^10 + 808720430087389295054518361326721475278525417218368352038618437261320139416x^9 + 8164562117820434147069932751566804899269662866838761902053407190429281532602x^8 + 10052265593395823566616591396068659854877644312908595684362844117671385670361x^7 + 542889402889697243317240537540486557054306957705464831879890293847277661395x^6 + 8338196870173546531360922194355492671316245450486115936222687616440558494622x^5 + 3236849334722546414472251705522172765473281427608275851860033706421737244838x^4 + 17895939098425256075036403868863844847056884728804478035069066479384617977220x^3 + 8693577113667190399574176124266488889340546185872005217514473518374556682113x^2 + 21867444799944035959163332130409158983414185414643746737554788768805346826520x + 6108890669144347261576644373639794085294317329593388012726392816755201127056\n",
      "=== Sigma Cycles Generated ===\n",
      "Signal usage (for debugging):\n",
      "main.c1: [(0, 'A')]\n",
      "main.c2: [(0, 'B')]\n",
      "main.c7: [(0, 'C'), (1, 'B')]\n",
      "main.c3: [(1, 'A'), (2, 'A')]\n",
      "main.c4: [(1, 'A'), (2, 'A')]\n",
      "main.c8: [(1, 'C')]\n",
      "main.c5: [(2, 'B')]\n",
      "main.c6: [(2, 'B')]\n",
      "main.c9: [(2, 'C')]\n",
      "sigma1: [0, 2, 1]\n",
      "sigma2: [0, 0, 2]\n",
      "sigma3: [1, 1, 2]\n",
      "sigma1: [0, 2, 1]\n",
      "sigma2: [0, 0, 2]\n",
      "sigma3: [1, 1, 2]\n",
      "a: [GF(21888242871839275222246405745257275088548364400416034343698204186575808495614,\n",
      "   order=21888242871839275222246405745257275088548364400416034343698204186575808495617), GF(21888242871839275222246405745257275088548364400416034343698204186575808495609,\n",
      "   order=21888242871839275222246405745257275088548364400416034343698204186575808495617), GF(21888242871839275222246405745257275088548364400416034343698204186575808495609,\n",
      "   order=21888242871839275222246405745257275088548364400416034343698204186575808495617)], b: [GF(2,\n",
      "   order=21888242871839275222246405745257275088548364400416034343698204186575808495617), GF(6,\n",
      "   order=21888242871839275222246405745257275088548364400416034343698204186575808495617), GF(9,\n",
      "   order=21888242871839275222246405745257275088548364400416034343698204186575808495617)], c: [GF(21888242871839275222246405745257275088548364400416034343698204186575808495611,\n",
      "   order=21888242871839275222246405745257275088548364400416034343698204186575808495617), GF(21888242871839275222246405745257275088548364400416034343698204186575808495569,\n",
      "   order=21888242871839275222246405745257275088548364400416034343698204186575808495617), GF(21888242871839275222246405745257275088548364400416034343698204186575808495545,\n",
      "   order=21888242871839275222246405745257275088548364400416034343698204186575808495617)]\n",
      "beta: 21675432924190806756613208911988239265126986588332777501919999336714115542037, gamma: 15404832588335419984312485411440467027784144582566686477476900133155763938957\n",
      "i=0, z[1]=9974604387820520657643693965997217637658822037515251541058593748322405234809, left=8048370390577849351647679278069538237835132871296456842812451642817737373547, right=792493103047086618313964475326290805757369544689968058862416982841255023583, ratio=9974604387820520657643693965997217637658822037515251541058593748322405234809\n",
      "i=1, z[2]=11700443752767334175508782709613630658935862591141017466118475670783321540808, left=4852982016821369704773194634495999285740503817970621312234745321088279605037, right=10518015400870037601710532596634194829052490598708141331168239065680089922933, ratio=7877979120668450534589227972430446758002932275520107426259979320924935481291\n",
      "i=2, z[3]=2022237042614746233520568920281660806717769089457629517851829994280855911950, left=6545516318927929901598702566707449974969114612246026446715276647745333908069, right=4946653801996626972186804947326356789298516118143536342165716321494187323127, ratio=20997070173472170626232837757126252486594151145807845841638203507902025592983\n",
      "❌ Permutation check failed: z(omega^3)=2022237042614746233520568920281660806717769089457629517851829994280855911950 != z(omega^0)=1\n"
     ]
    },
    {
     "data": {
      "text/plain": [
       "False"
      ]
     },
     "execution_count": 518,
     "metadata": {},
     "output_type": "execute_result"
    }
   ],
   "source": [
    "import importlib\n",
    "importlib.reload(logging)\n",
    "#logging.basicConfig(level=logging.DEBUG)  # 전역 설정\n",
    "r1cs_json_path = 'r1cs.json'\n",
    "witness_json_path = 'witness.json'\n",
    "\n",
    "plonkIoP = PlonkIOP(r1cs_json_path, witness_json_path, field)\n",
    "plonkIoP.verify_R1CS()\n",
    "plonkIoP.permutation_check()"
   ]
  },
  {
   "cell_type": "code",
   "execution_count": 523,
   "metadata": {},
   "outputs": [
    {
     "name": "stdout",
     "output_type": "stream",
     "text": [
      "=== Copy Constraints (Permutation Cycles) ===\n",
      "Wire 1 (main.c7) appears in constraints: [0, 1]  -> Permutation cycle\n",
      "Wire 6 (main.c3) appears in constraints: [1, 2]  -> Permutation cycle\n",
      "Wire 7 (main.c4) appears in constraints: [1, 2]  -> Permutation cycle\n"
     ]
    },
    {
     "data": {
      "text/plain": [
       "{1: [0, 1], 6: [1, 2], 7: [1, 2]}"
      ]
     },
     "execution_count": 523,
     "metadata": {},
     "output_type": "execute_result"
    }
   ],
   "source": [
    "import json\n",
    "from collections import defaultdict\n",
    "\n",
    "def extract_copy_cycles(r1cs_json_path, sym_path):\n",
    "    with open(r1cs_json_path) as f:\n",
    "        r1cs_data = json.load(f)\n",
    "    with open(sym_path) as f:\n",
    "        sym_lines = f.readlines()\n",
    "\n",
    "    # wire_idx -> label 매핑\n",
    "    wire_labels = {}\n",
    "    for line in sym_lines:\n",
    "        parts = line.strip().split(\",\")\n",
    "        if len(parts) >= 4:\n",
    "            wire_id = int(parts[1])\n",
    "            label = parts[3]\n",
    "            wire_labels[wire_id] = label\n",
    "\n",
    "    appearances = defaultdict(list)  # wire 인덱스가 constraint 어디에 등장하는지 저장\n",
    "    constraints = r1cs_data[\"constraints\"]\n",
    "\n",
    "    for i, c in enumerate(constraints):\n",
    "        A_terms, B_terms, C_terms = c\n",
    "        for wire_idx in list(A_terms.keys()) + list(B_terms.keys()) + list(C_terms.keys()):\n",
    "            appearances[int(wire_idx)].append(i)\n",
    "\n",
    "    # 복사 cycle 찾기: 두 번 이상 나타나는 wire는 cycle!\n",
    "    cycles = {wire: cons for wire, cons in appearances.items() if len(cons) > 1}\n",
    "\n",
    "    print(\"=== Copy Constraints (Permutation Cycles) ===\")\n",
    "    for wire, cons_list in cycles.items():\n",
    "        label = wire_labels.get(wire, f\"wire_{wire}\")\n",
    "        print(f\"Wire {wire} ({label}) appears in constraints: {cons_list}  -> Permutation cycle\")\n",
    "\n",
    "    return cycles\n",
    "\n",
    "# 사용 예시:\n",
    "r1cs_json_path = \"r1cs.json\"\n",
    "sym_path = \"circuit.sym\"\n",
    "extract_copy_cycles(r1cs_json_path, sym_path)"
   ]
  },
  {
   "cell_type": "code",
   "execution_count": 557,
   "metadata": {},
   "outputs": [],
   "source": [
    "import json\n",
    "import logging\n",
    "from galois import lagrange_poly\n",
    "from collections import defaultdict\n",
    "import random\n",
    "\n",
    "class PlonkIOP:\n",
    "    def __init__(self, r1cs_json_path, witness_json_path, sym_path, field):\n",
    "        self.logger = logging.getLogger(\"PlonkIOP\")\n",
    "        self.logger.setLevel(logging.DEBUG)\n",
    "\n",
    "        self.r1cs_json_path = r1cs_json_path\n",
    "        self.witness_json_path = witness_json_path\n",
    "        self.sym_path = sym_path\n",
    "\n",
    "        self.field = field\n",
    "\n",
    "        with open(self.r1cs_json_path) as f:\n",
    "            r1cs_data = json.load(f)\n",
    "\n",
    "        with open(self.witness_json_path) as f:\n",
    "            witness_data = json.load(f)\n",
    "\n",
    "        self.n_constraints = r1cs_data[\"nConstraints\"]\n",
    "        self.constraints = r1cs_data[\"constraints\"]\n",
    "\n",
    "        self.witness = [self.field(int(x)) for x in witness_data['witness']]\n",
    "\n",
    "        self.a_vals = [self.field(0)] * self.n_constraints\n",
    "        self.b_vals = [self.field(0)] * self.n_constraints\n",
    "        self.c_vals = [self.field(0)] * self.n_constraints\n",
    "\n",
    "        for i, c in enumerate(self.constraints):\n",
    "            A_terms, B_terms, C_terms = c\n",
    "\n",
    "            a_wire = int(list(A_terms.keys())[0])\n",
    "            b_wire = int(list(B_terms.keys())[0])\n",
    "            c_wire = int(list(C_terms.keys())[0])\n",
    "\n",
    "            self.a_vals[i] = self.witness[a_wire]\n",
    "            self.b_vals[i] = self.witness[b_wire]\n",
    "            self.c_vals[i] = self.witness[c_wire]\n",
    "            \n",
    "        # permutation_check 내부나 그 전에\n",
    "        omega = self._nth_root_of_unity(self.n_constraints)\n",
    "        domain_points = [omega**i for i in range(self.n_constraints)]\n",
    "\n",
    "        self.a_poly = galois.lagrange_poly(field(domain_points), field(self.a_vals))\n",
    "        self.b_poly = galois.lagrange_poly(field(domain_points), field(self.b_vals))\n",
    "        self.c_poly = galois.lagrange_poly(field(domain_points), field(self.c_vals))\n",
    "        \n",
    "\n",
    "\n",
    "    def _nth_root_of_unity(self, order):\n",
    "        g = self.field.primitive_element\n",
    "        return g ** ((self.field.order - 1) // order)\n",
    "\n",
    "    def build_sigma_cycles_position_based(self):\n",
    "        constraints = self.constraints\n",
    "        n_positions = 3 * self.n_constraints\n",
    "\n",
    "        wire_positions = defaultdict(list)  # wire_id -> [position indices]\n",
    "\n",
    "        for i, constraint in enumerate(constraints):\n",
    "            A_terms, B_terms, C_terms = constraint\n",
    "            a_wire = int(list(A_terms.keys())[0])\n",
    "            b_wire = int(list(B_terms.keys())[0])\n",
    "            c_wire = int(list(C_terms.keys())[0])\n",
    "\n",
    "            wire_positions[a_wire].append(i)  # A column\n",
    "            wire_positions[b_wire].append(i + self.n_constraints)  # B column\n",
    "            wire_positions[c_wire].append(i + 2 * self.n_constraints)  # C column\n",
    "\n",
    "        sigma = list(range(n_positions))\n",
    "\n",
    "        for wire, positions in wire_positions.items():\n",
    "            if len(positions) > 1:\n",
    "                for idx, pos in enumerate(positions):\n",
    "                    next_pos = positions[(idx + 1) % len(positions)]\n",
    "                    sigma[pos] = next_pos\n",
    "\n",
    "        print(\"=== Sigma (position based) ===\")\n",
    "        for wire, positions in wire_positions.items():\n",
    "            print(f\"Wire {wire} -> positions {positions}\")\n",
    "        print(f\"sigma: {sigma}\")\n",
    "\n",
    "        return sigma\n",
    "\n",
    "    def permutation_check(self):\n",
    "        omega = self._nth_root_of_unity(self.n_constraints)\n",
    "        omega_elements = [omega ** i for i in range(self.n_constraints)]\n",
    "\n",
    "        sigma = self.build_sigma_cycles_position_based()\n",
    "\n",
    "        all_wires = self.a_vals + self.b_vals + self.c_vals  # length = 3 * n_constraints\n",
    "\n",
    "        beta = self.field(random.randint(1, self.field.order - 1))\n",
    "        gamma = self.field(random.randint(1, self.field.order - 1))\n",
    "\n",
    "        z = [self.field(1)]\n",
    "\n",
    "        for i in range(3 * self.n_constraints):\n",
    "            # 도메인 인덱스: position i -> omega^(i mod n_constraints)\n",
    "            k_i = omega_elements[i % self.n_constraints]\n",
    "\n",
    "            left = all_wires[i] + beta * k_i + gamma\n",
    "\n",
    "            sigma_i = sigma[i]\n",
    "            right = all_wires[i] + beta * omega_elements[sigma_i % self.n_constraints] + gamma\n",
    "\n",
    "            ratio = left / right\n",
    "            z_next = z[-1] * ratio\n",
    "            z.append(z_next)\n",
    "\n",
    "        if z[0] != z[-1]:\n",
    "            print(f\"❌ Permutation check failed: z[last]={z[-1]} != z[0]={z[0]}\")\n",
    "            return False\n",
    "\n",
    "        # ✅ 여기서 z_poly 보간 후 저장\n",
    "        omega_points = [self._nth_root_of_unity(3 * self.n_constraints) ** i for i in range(3 * self.n_constraints)]\n",
    "        z_values = z[:-1]\n",
    "        self.z_poly = galois.lagrange_poly(field(omega_points), field(z_values))\n",
    "        print(\"✅ Permutation check passed!\")\n",
    "        \n",
    "        return True\n"
   ]
  },
  {
   "cell_type": "code",
   "execution_count": 561,
   "metadata": {},
   "outputs": [
    {
     "name": "stdout",
     "output_type": "stream",
     "text": [
      "=== Sigma (position based) ===\n",
      "Wire 4 -> positions [0]\n",
      "Wire 5 -> positions [3]\n",
      "Wire 1 -> positions [6, 4]\n",
      "Wire 6 -> positions [1, 2]\n",
      "Wire 2 -> positions [7]\n",
      "Wire 8 -> positions [5]\n",
      "Wire 3 -> positions [8]\n",
      "sigma: [0, 2, 1, 3, 6, 5, 4, 7, 8]\n",
      "✅ Permutation check passed!\n"
     ]
    },
    {
     "data": {
      "text/plain": [
       "True"
      ]
     },
     "execution_count": 561,
     "metadata": {},
     "output_type": "execute_result"
    }
   ],
   "source": [
    "r1cs_json_path = \"r1cs.json\"\n",
    "witness_json_path = \"witness.json\"\n",
    "sym_path = \"circuit.sym\"\n",
    "\n",
    "# Plonk IOP 초기화 및 값 준비\n",
    "plonk = PlonkIOP(r1cs_json_path, witness_json_path, sym_path, field)\n",
    "plonk.permutation_check()"
   ]
  },
  {
   "cell_type": "code",
   "execution_count": 562,
   "metadata": {},
   "outputs": [],
   "source": [
    "a_poly = plonk.a_poly\n",
    "b_poly = plonk.b_poly\n",
    "c_poly = plonk.c_poly\n",
    "\n",
    "# (임시) z(x), t(x) 다항식 예시 생성\n",
    "z_poly = plonk.z_poly\n",
    "t_poly = Poly([3, 1, 5, 2], field=field)  # quotient polynomial 예시"
   ]
  },
  {
   "cell_type": "code",
   "execution_count": 563,
   "metadata": {},
   "outputs": [
    {
     "name": "stdout",
     "output_type": "stream",
     "text": [
      "A_commit: (5910183705316751616995749724008520562521578563449927414090424708688402025652, 4504485863993189657862934273756548325484781779293279521271319225348212381585)\n",
      "B_commit: (491067480121328607198909758153803191523859306715026407378771205402105980909, 17933938912707421612816376829822084521712755707182886911746068383613659021963)\n",
      "C_commit: (997075362124060219481453790721810560750741315913135409048576040434287234865, 21497254753949712894924453717195090957458165701151629910036267031614847844822)\n",
      "Z_commit: (11247530580126195993228939701689815266224513039909380554751059641383213475691, 16276561646379957016155221652343598932590363860406403784315535909152333021240)\n",
      "T_commit: (2589649451993758842503236463147753290543521282660313931707285880761333187940, 15534155914957630747453376943612282615429422729511118280111756391622539814016)\n"
     ]
    }
   ],
   "source": [
    "kzg = KZGCommitment(max_degree=8, field=field)\n",
    "\n",
    "# 커밋\n",
    "A_commit = kzg.commit(a_poly)\n",
    "B_commit = kzg.commit(b_poly)\n",
    "C_commit = kzg.commit(c_poly)\n",
    "Z_commit = kzg.commit(z_poly)\n",
    "T_commit = kzg.commit(t_poly)\n",
    "\n",
    "print(\"A_commit:\", A_commit)\n",
    "print(\"B_commit:\", B_commit)\n",
    "print(\"C_commit:\", C_commit)\n",
    "print(\"Z_commit:\", Z_commit)\n",
    "print(\"T_commit:\", T_commit)"
   ]
  },
  {
   "cell_type": "code",
   "execution_count": 564,
   "metadata": {},
   "outputs": [
    {
     "name": "stdout",
     "output_type": "stream",
     "text": [
      "a(10) = 75, proof: (8258549238801558924241141376363426934833709269883464302700379019768292397731, 14697048764916141786618311567587382009783153601658441108286867704736960756925)\n",
      "lhs_pairing: (20329691272564511523752731035173542542607208157777175497202429142563446487704, 5082048087934796953914443073661354727846184653297341122789884930985196371768, 15919773038250229745616625809260371114312770809553191710459754423436137179460, 16905944932899247524585145959299162920066248253911486684734721651554841819015, 9535213782531931961061550421848942398722769482902292600656452337019856490224, 10023837438745168664876764878708458356140673377246135468160190501480657024421, 11521463981965687886253223426547887883685265440508689808060384119876010327725, 6912704858511725265204886585160841508708140529034448462684256871588014353137, 6467194555916663594897590116134088979656329805894628598752915633321887998402, 16390418457850157753033595149719674986501173050549752185477655094978944596021, 13344726666741443988571630453337886269378792598484671457667055689230297333405, 1994673232621644299482398973454419340271878369720454931078386550136910885989)\n",
      "rhs_pairing: (20329691272564511523752731035173542542607208157777175497202429142563446487704, 5082048087934796953914443073661354727846184653297341122789884930985196371768, 15919773038250229745616625809260371114312770809553191710459754423436137179460, 16905944932899247524585145959299162920066248253911486684734721651554841819015, 9535213782531931961061550421848942398722769482902292600656452337019856490224, 10023837438745168664876764878708458356140673377246135468160190501480657024421, 11521463981965687886253223426547887883685265440508689808060384119876010327725, 6912704858511725265204886585160841508708140529034448462684256871588014353137, 6467194555916663594897590116134088979656329805894628598752915633321887998402, 16390418457850157753033595149719674986501173050549752185477655094978944596021, 13344726666741443988571630453337886269378792598484671457667055689230297333405, 1994673232621644299482398973454419340271878369720454931078386550136910885989)\n",
      "KZG Opening Verification (a_poly): ✅\n"
     ]
    }
   ],
   "source": [
    "# opening 검증\n",
    "z_eval_point = field(10)  # 검증 시 임의 z\n",
    "f_z, proof = kzg.open(a_poly, z_eval_point)\n",
    "print(f\"a({z_eval_point}) = {f_z}, proof:\", proof)\n",
    "\n",
    "valid = kzg.verify(A_commit, z_eval_point, a_poly)\n",
    "print(\"KZG Opening Verification (a_poly):\", \"✅\" if valid else \"❌\")"
   ]
  }
 ],
 "metadata": {
  "kernelspec": {
   "display_name": "Python 3",
   "language": "python",
   "name": "python3"
  },
  "language_info": {
   "codemirror_mode": {
    "name": "ipython",
    "version": 3
   },
   "file_extension": ".py",
   "mimetype": "text/x-python",
   "name": "python",
   "nbconvert_exporter": "python",
   "pygments_lexer": "ipython3",
   "version": "3.8.20"
  }
 },
 "nbformat": 4,
 "nbformat_minor": 2
}
