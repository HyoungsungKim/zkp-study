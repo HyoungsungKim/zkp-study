{
 "cells": [
  {
   "cell_type": "code",
   "execution_count": 1,
   "metadata": {},
   "outputs": [
    {
     "name": "stdout",
     "output_type": "stream",
     "text": [
      "Requirement already satisfied: numpy in /usr/local/lib/python3.8/site-packages (1.24.4)\n",
      "Requirement already satisfied: sympy in /usr/local/lib/python3.8/site-packages (1.13.3)\n",
      "Requirement already satisfied: gmpy2 in /usr/local/lib/python3.8/site-packages (2.2.1)\n",
      "Requirement already satisfied: matplotlib in /usr/local/lib/python3.8/site-packages (3.7.5)\n",
      "Requirement already satisfied: mpmath<1.4,>=1.1.0 in /usr/local/lib/python3.8/site-packages (from sympy) (1.3.0)\n",
      "Requirement already satisfied: contourpy>=1.0.1 in /usr/local/lib/python3.8/site-packages (from matplotlib) (1.1.1)\n",
      "Requirement already satisfied: cycler>=0.10 in /usr/local/lib/python3.8/site-packages (from matplotlib) (0.12.1)\n",
      "Requirement already satisfied: fonttools>=4.22.0 in /usr/local/lib/python3.8/site-packages (from matplotlib) (4.55.3)\n",
      "Requirement already satisfied: kiwisolver>=1.0.1 in /usr/local/lib/python3.8/site-packages (from matplotlib) (1.4.7)\n",
      "Requirement already satisfied: packaging>=20.0 in /usr/local/lib/python3.8/site-packages (from matplotlib) (24.2)\n",
      "Requirement already satisfied: pillow>=6.2.0 in /usr/local/lib/python3.8/site-packages (from matplotlib) (10.4.0)\n",
      "Requirement already satisfied: pyparsing>=2.3.1 in /usr/local/lib/python3.8/site-packages (from matplotlib) (3.1.4)\n",
      "Requirement already satisfied: python-dateutil>=2.7 in /usr/local/lib/python3.8/site-packages (from matplotlib) (2.9.0.post0)\n",
      "Requirement already satisfied: importlib-resources>=3.2.0 in /usr/local/lib/python3.8/site-packages (from matplotlib) (6.4.5)\n",
      "Requirement already satisfied: zipp>=3.1.0 in /usr/local/lib/python3.8/site-packages (from importlib-resources>=3.2.0->matplotlib) (3.20.2)\n",
      "Requirement already satisfied: six>=1.5 in /usr/local/lib/python3.8/site-packages (from python-dateutil>=2.7->matplotlib) (1.17.0)\n",
      "\u001b[33mWARNING: Running pip as the 'root' user can result in broken permissions and conflicting behaviour with the system package manager, possibly rendering your system unusable.It is recommended to use a virtual environment instead: https://pip.pypa.io/warnings/venv. Use the --root-user-action option if you know what you are doing and want to suppress this warning.\u001b[0m\u001b[33m\n",
      "\u001b[0m"
     ]
    }
   ],
   "source": [
    "! pip install numpy sympy gmpy2 matplotlib"
   ]
  },
  {
   "cell_type": "code",
   "execution_count": 2,
   "metadata": {},
   "outputs": [],
   "source": [
    "class FiniteField:\n",
    "    def __init__(self, value, prime):\n",
    "        self.value = value % prime\n",
    "        self.prime = prime\n",
    "\n",
    "    def __add__(self, other: \"FiniteField\") -> \"FiniteField\":\n",
    "        return FiniteField(self.value + other.value, self.prime)\n",
    "\n",
    "    def __mul__(self, other: \"FiniteField\") -> \"FiniteField\":\n",
    "        return FiniteField(self.value * other.value, self.prime)\n",
    "    \n",
    "    def __neg__(self) -> \"FiniteField\":\n",
    "        return FiniteField(-self.value, self.prime)\n",
    "    \n",
    "    def __truediv__(self, other: \"FiniteField\") -> \"FiniteField\":\n",
    "        return FiniteField(self.value * pow(other.value, -1, self.prime), self.prime)\n",
    "    \n",
    "    def __repr__(self):\n",
    "        return f'{self.value} (mod {self.prime})'\n",
    "        \n",
    "        "
   ]
  },
  {
   "cell_type": "code",
   "execution_count": 3,
   "metadata": {},
   "outputs": [
    {
     "data": {
      "text/plain": [
       "[0 (mod 7), 1 (mod 7), 2 (mod 7), 3 (mod 7), 4 (mod 7), 5 (mod 7), 6 (mod 7)]"
      ]
     },
     "execution_count": 3,
     "metadata": {},
     "output_type": "execute_result"
    }
   ],
   "source": [
    "prime = 7\n",
    "finite_field_list = [ FiniteField(i, prime) for i in range(7)]\n",
    "finite_field_list"
   ]
  },
  {
   "cell_type": "code",
   "execution_count": 4,
   "metadata": {},
   "outputs": [
    {
     "data": {
      "text/plain": [
       "2 (mod 7)"
      ]
     },
     "execution_count": 4,
     "metadata": {},
     "output_type": "execute_result"
    }
   ],
   "source": [
    "target = FiniteField(1, prime)\n",
    "target + finite_field_list[1]"
   ]
  },
  {
   "cell_type": "code",
   "execution_count": 5,
   "metadata": {},
   "outputs": [],
   "source": [
    "class Polynomial:\n",
    "    def __init__(self, coefficients):\n",
    "        self.coefficients = coefficients  # 리스트 형태\n",
    "\n",
    "    def evaluate(self, x):\n",
    "        return sum([coef * x**i for i, coef in enumerate(self.coefficients)])\n",
    "\n",
    "    def __add__(self, other: \"Polynomial\") -> \"Polynomial\":\n",
    "        placeholder = [0] * max(len(self.coefficients), len(other.coefficients))\n",
    "        for i, coeff in enumerate(self.coefficients):\n",
    "            placeholder[i] += coeff\n",
    "        for i, coeff in enumerate(other.coefficients):\n",
    "            placeholder[i] += coeff\n",
    "        return Polynomial(placeholder)\n",
    "\n",
    "    def __mul__(self, other: \"Polynomial\") -> \"Polynomial\":\n",
    "        placeholder = [0] * (len(self.coefficients) + len(other.coefficients) - 1)\n",
    "        for i, self_coeff in enumerate(self.coefficients):\n",
    "            for j, other_coeff in enumerate(other.coefficients):\n",
    "                placeholder[i+j] += self_coeff * other_coeff\n",
    "        return Polynomial(placeholder)\n",
    "\n",
    "    def __repr__(self):\n",
    "        return \" + \".join([f\"{coef}x^{i}\" for i, coef in enumerate(self.coefficients)])"
   ]
  },
  {
   "cell_type": "code",
   "execution_count": 6,
   "metadata": {},
   "outputs": [],
   "source": [
    "import numpy as np\n",
    "\n",
    "def fft(poly, omega, n):\n",
    "    # n은 평가할 점의 개수\n",
    "    if n == 1:\n",
    "        return poly\n",
    "    even = fft(poly[0::2], omega ** 2, n // 2)\n",
    "    odd = fft(poly[1::2], omega ** 2, n // 2)\n",
    "    factor = [omega ** i for i in range(n // 2)]\n",
    "    return [even[i] + factor[i] * odd[i] for i in range(n // 2)] + \\\n",
    "           [even[i] - factor[i] * odd[i] for i in range(n // 2)]"
   ]
  },
  {
   "cell_type": "code",
   "execution_count": 7,
   "metadata": {},
   "outputs": [],
   "source": [
    "def vanishing_polynomial(omega, n):\n",
    "    result = Polynomial([1])  # 상수항 1\n",
    "    for i in range(n):\n",
    "        result *= Polynomial([-omega**i, 1])  # (X - \\omega^i)\n",
    "    return result"
   ]
  },
  {
   "cell_type": "code",
   "execution_count": 8,
   "metadata": {},
   "outputs": [],
   "source": [
    "def permutation_check(f_vals, g_vals):\n",
    "    product = 1\n",
    "    for f, g in zip(f_vals, g_vals):\n",
    "        product *= f / g\n",
    "    return product == 1"
   ]
  },
  {
   "cell_type": "code",
   "execution_count": 9,
   "metadata": {},
   "outputs": [],
   "source": [
    "# Polynomial (x1+x2)(x2+w)\n",
    "def gate0(v1: FiniteField, v2: FiniteField) -> FiniteField:\n",
    "    return v1 + v2\n",
    "\n",
    "def gate1(v2: FiniteField, w: FiniteField) -> FiniteField:\n",
    "    return v2 + w\n",
    "\n",
    "def gate2(gate0_result: FiniteField, gate1_result: FiniteField) -> FiniteField:\n",
    "    return gate0_result * gate1_result\n"
   ]
  },
  {
   "cell_type": "code",
   "execution_count": 10,
   "metadata": {},
   "outputs": [
    {
     "name": "stdout",
     "output_type": "stream",
     "text": [
      "Generator for 101: 2\n"
     ]
    }
   ],
   "source": [
    "import sympy as sp\n",
    "\n",
    "def find_generator(prime):\n",
    "    prime_factors = sp.primefactors(prime - 1)  # p-1의 소인수분해 \n",
    "    for g in range(2, prime):  # 2부터 prime-1까지 제너레이터 후보 검사\n",
    "        if all(pow(g, (prime - 1) // q, prime) != 1 for q in prime_factors):  # 모든 조건 확인\n",
    "            return g\n",
    "    return None  # 제너레이터가 없으면 None 반환\n",
    "\n",
    "# 실행\n",
    "generator = find_generator(101)\n",
    "print(f\"Generator for 101: {generator}\")"
   ]
  },
  {
   "cell_type": "code",
   "execution_count": 35,
   "metadata": {},
   "outputs": [
    {
     "name": "stdout",
     "output_type": "stream",
     "text": [
      "5-th Root of Unity for 101: 16\n"
     ]
    }
   ],
   "source": [
    "def find_nth_root_of_unity(prime, n):\n",
    "    # 제너레이터 찾기\n",
    "    generator = find_generator(prime)\n",
    "    # n-th root of unity 계산\n",
    "    omega = pow(generator, (prime - 1) // n, prime)\n",
    "    return omega\n",
    "\n",
    "# 실행\n",
    "prime = 101\n",
    "n = sp.primefactors(prime - 1)[1]\n",
    "omega = find_nth_root_of_unity(prime, 25)\n",
    "print(f\"{n}-th Root of Unity for {prime}: {omega}\")"
   ]
  },
  {
   "cell_type": "code",
   "execution_count": 109,
   "metadata": {},
   "outputs": [],
   "source": [
    "prime = 101\n",
    "x1 = FiniteField(5, prime)\n",
    "x2 = FiniteField(6, prime)\n",
    "w = FiniteField(1, prime)\n",
    "C = 3 # number of gates\n",
    "I = 3 # number of input wires\n",
    "D = 12 # degree of the polynomial\n",
    "poly_T_pv = [\n",
    "    (pow(omega, -3, prime), w),\n",
    "    (pow(omega, -2, prime), x2),\n",
    "    (pow(omega, -1, prime), x1),\n",
    "    (pow(omega, 0, prime), x1),\n",
    "    (pow(omega, 1, prime), x2),\n",
    "    (pow(omega, 2, prime), gate0(x1, x2)),\n",
    "    (pow(omega, 3, prime), x2),\n",
    "    (pow(omega, 4, prime), w),\n",
    "    (pow(omega, 5, prime), gate1(x2, w)),\n",
    "    (pow(omega, 6, prime), gate0(x1, x2)),\n",
    "    (pow(omega, 7, prime), gate1(x2, w)),\n",
    "    (pow(omega, 8, prime), gate2(gate0(x1, x2), gate1(x2, w)))\n",
    "] "
   ]
  },
  {
   "cell_type": "code",
   "execution_count": 110,
   "metadata": {},
   "outputs": [
    {
     "data": {
      "text/plain": [
       "[(92, 1 (mod 101)),\n",
       " (58, 6 (mod 101)),\n",
       " (19, 5 (mod 101)),\n",
       " (1, 5 (mod 101)),\n",
       " (16, 6 (mod 101)),\n",
       " (54, 11 (mod 101)),\n",
       " (56, 6 (mod 101)),\n",
       " (88, 1 (mod 101)),\n",
       " (95, 7 (mod 101)),\n",
       " (5, 11 (mod 101)),\n",
       " (80, 7 (mod 101)),\n",
       " (68, 77 (mod 101))]"
      ]
     },
     "execution_count": 110,
     "metadata": {},
     "output_type": "execute_result"
    }
   ],
   "source": [
    "poly_T_pv"
   ]
  },
  {
   "cell_type": "code",
   "execution_count": 111,
   "metadata": {},
   "outputs": [],
   "source": [
    "def lagrange_interpolation(inputs, outputs, prime):\n",
    "    x = symbols('x')  # 다항식 변수\n",
    "    n = len(inputs)\n",
    "    poly = 0  # 초기화\n",
    "    \n",
    "    for j in range(n):\n",
    "        # 라그랑주 다항식 구성\n",
    "        lj = 1\n",
    "        for i in range(n):\n",
    "            if i != j:\n",
    "                lj *= (x - inputs[i]) * pow(inputs[j] - inputs[i], -1, prime)\n",
    "        poly += outputs[j] * lj\n",
    "\n",
    "    # 다항식 모듈로 p에서 계산\n",
    "    poly = expand(poly) % prime\n",
    "    return poly"
   ]
  },
  {
   "cell_type": "code",
   "execution_count": 117,
   "metadata": {},
   "outputs": [
    {
     "data": {
      "text/latex": [
       "$\\displaystyle \\left(434651999820320190192 x^{11} - 252844496382055482569472 x^{10} + 64313245847799577910738016 x^{9} - 9382057058899747503374118528 x^{8} + 864895310579079487887679524720 x^{7} - 52300377868034879918969157099648 x^{6} + 2082473448514205372873345010540864 x^{5} - 53269747297989750485451264041190912 x^{4} + 824653174574788171690030422915806208 x^{3} - 6869934674332083354340771521484554240 x^{2} + 24248293536860353042441881848999116800 x + 93\\right) \\bmod 101$"
      ],
      "text/plain": [
       "Mod(434651999820320190192*x**11 - 252844496382055482569472*x**10 + 64313245847799577910738016*x**9 - 9382057058899747503374118528*x**8 + 864895310579079487887679524720*x**7 - 52300377868034879918969157099648*x**6 + 2082473448514205372873345010540864*x**5 - 53269747297989750485451264041190912*x**4 + 824653174574788171690030422915806208*x**3 - 6869934674332083354340771521484554240*x**2 + 24248293536860353042441881848999116800*x + 93, 101)"
      ]
     },
     "execution_count": 117,
     "metadata": {},
     "output_type": "execute_result"
    }
   ],
   "source": [
    "poly_T_inputs = [poly_T_pv[i][0] for i in range(len(poly_T_pv))]\n",
    "poly_T_outputs = [poly_T_pv[i][1].value for i in range(len(poly_T_pv))]\n",
    "poly_T = lagrange_interpolation(poly_T_inputs, poly_T_outputs, prime)\n",
    "poly_T"
   ]
  },
  {
   "cell_type": "code",
   "execution_count": 149,
   "metadata": {},
   "outputs": [
    {
     "name": "stdout",
     "output_type": "stream",
     "text": [
      "[0, 0, 0]\n"
     ]
    }
   ],
   "source": [
    "# Prove (1)\n",
    "prime = 101\n",
    "inputs = [pow(omega, i, prime) for i in [-3, -2, -1]]\n",
    "outputs = [w.value, x2.value, x1.value]\n",
    "poly_v = lagrange_interpolation(inputs, outputs, prime)\n",
    "poly_v_values = [poly_v.evalf(subs={x: pow(omega, -i, prime)}) % prime for i in [3, 2, 1]]\n",
    "poly_T_values = [poly_T.evalf(subs={x: pow(omega, -i, prime)}) % prime for i in [3, 2, 1]]\n",
    "comparison = [poly_v_values[i] -  poly_T_values[i] for i in range(3)]\n",
    "print(comparison)\n"
   ]
  },
  {
   "cell_type": "code",
   "execution_count": null,
   "metadata": {},
   "outputs": [
    {
     "name": "stdout",
     "output_type": "stream",
     "text": [
      "[0, 0, 0]\n"
     ]
    }
   ],
   "source": [
    "# Prove (2)\n",
    "gates_y = [omega ** (3*i) for i in range(3)]\n",
    "poly_T = lagrange_interpolation(poly_T_inputs, poly_T_outputs, prime)\n",
    "poly_S = lagrange_interpolation(gates_y, [1, 1, 0], prime)\n",
    "\n",
    "# 검증 함수 정의\n",
    "def verification(i):\n",
    "    left_input = poly_T.subs(x, i)\n",
    "    right_input = poly_T.subs(x, omega * i)\n",
    "    s_value = poly_S.subs(x, i)\n",
    "    \n",
    "    result = s_value * (left_input + right_input) + (1 - s_value) * (left_input * right_input) - poly_T.subs(x, omega ** 2 * i)\n",
    "    return result % prime\n",
    "\n",
    "print([verification(i) for i in gates_y])"
   ]
  },
  {
   "cell_type": "code",
   "execution_count": 152,
   "metadata": {},
   "outputs": [
    {
     "data": {
      "text/plain": [
       "[5, 6, 11]"
      ]
     },
     "execution_count": 152,
     "metadata": {},
     "output_type": "execute_result"
    }
   ],
   "source": [
    "# Prove (3)\n"
   ]
  },
  {
   "cell_type": "code",
   "execution_count": 135,
   "metadata": {},
   "outputs": [
    {
     "name": "stdout",
     "output_type": "stream",
     "text": [
      "[59.0000000000000, 37.0000000000000, -35.0000000000000]\n"
     ]
    }
   ],
   "source": [
    "print([comparison(i) for i in gates_y])"
   ]
  },
  {
   "cell_type": "code",
   "execution_count": 160,
   "metadata": {},
   "outputs": [
    {
     "data": {
      "text/latex": [
       "$\\displaystyle 94$"
      ],
      "text/plain": [
       "94"
      ]
     },
     "execution_count": 160,
     "metadata": {},
     "output_type": "execute_result"
    }
   ],
   "source": [
    "poly_T.subs(x,77) % prime"
   ]
  },
  {
   "cell_type": "code",
   "execution_count": 164,
   "metadata": {},
   "outputs": [],
   "source": [
    "verification_point = pow(omega, 3 * 3 - 1, prime)\n",
    "value_at_verification = poly_T.subs(x, verification_point) % prime"
   ]
  },
  {
   "cell_type": "code",
   "execution_count": 165,
   "metadata": {},
   "outputs": [
    {
     "data": {
      "text/latex": [
       "$\\displaystyle 77$"
      ],
      "text/plain": [
       "77"
      ]
     },
     "execution_count": 165,
     "metadata": {},
     "output_type": "execute_result"
    }
   ],
   "source": [
    "value_at_verification"
   ]
  },
  {
   "cell_type": "code",
   "execution_count": null,
   "metadata": {},
   "outputs": [],
   "source": []
  }
 ],
 "metadata": {
  "kernelspec": {
   "display_name": "Python 3",
   "language": "python",
   "name": "python3"
  },
  "language_info": {
   "codemirror_mode": {
    "name": "ipython",
    "version": 3
   },
   "file_extension": ".py",
   "mimetype": "text/x-python",
   "name": "python",
   "nbconvert_exporter": "python",
   "pygments_lexer": "ipython3",
   "version": "3.8.20"
  }
 },
 "nbformat": 4,
 "nbformat_minor": 2
}
