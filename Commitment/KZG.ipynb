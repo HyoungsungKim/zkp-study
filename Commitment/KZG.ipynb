{
 "cells": [
  {
   "cell_type": "code",
   "execution_count": 1,
   "metadata": {},
   "outputs": [],
   "source": [
    "import numpy as np\n",
    "import sympy as sp"
   ]
  },
  {
   "cell_type": "code",
   "execution_count": 2,
   "metadata": {},
   "outputs": [],
   "source": [
    "class FiniteField:\n",
    "    def __init__(self, value, prime):\n",
    "        self.value = value % prime\n",
    "        self.prime = prime\n",
    "    \n",
    "    def __add__(self, other: 'FiniteField') -> 'FiniteField':\n",
    "        if self.prime != other.prime:\n",
    "            raise ValueError(\"Primes must be the same\")\n",
    "        return FiniteField(self.value + other.value, self.prime)\n",
    "    \n",
    "    def __mul__(self, other: 'FiniteField') -> 'FiniteField':\n",
    "        if self.prime != other.prime:\n",
    "            raise ValueError(\"Primes must be the same\")\n",
    "        return FiniteField(self.value * other.value, self.prime)\n",
    "    \n",
    "    def __neg__(self) -> 'FiniteField':\n",
    "        return FiniteField(-self.value, self.prime)\n",
    "    \n",
    "    def __truediv__(self, other: 'FiniteField') -> 'FiniteField':\n",
    "        if self.prime != other.prime:\n",
    "            raise ValueError(\"Primes must be the same\")\n",
    "        return FiniteField(self.value * pow(other.value, -1, self.prime), self.prime)\n",
    "    \n",
    "    def __repr__(self):\n",
    "        return f\"{self.value} (mod {self.prime})\"\n",
    "    "
   ]
  },
  {
   "cell_type": "code",
   "execution_count": 3,
   "metadata": {},
   "outputs": [],
   "source": [
    "class UnivariatePolynomial:\n",
    "    def __init__(self, coeffcients, symbol='x'):\n",
    "        self.coefficients = coeffcients\n",
    "        self.symbol = symbol\n",
    "        \n",
    "    def initialize(self):\n",
    "        x = sp.symbols(self.symbol)\n",
    "        # 딕셔너리를 이용해 다항식 생성\n",
    "        return sp.expand(sum(coeff * x**exp for exp, coeff in self.coefficients.items()))  \n",
    "    \n"
   ]
  },
  {
   "cell_type": "code",
   "execution_count": 4,
   "metadata": {},
   "outputs": [],
   "source": [
    "def lagrange_interpolation(points, prime):\n",
    "    x = sp.symbols('x')\n",
    "    n = len(points)    \n",
    "    poly= 0\n",
    "    \n",
    "    for i in range(n):\n",
    "        lj_basis = 1\n",
    "        for j in range(n):\n",
    "            if i != j:\n",
    "                lj_basis *= (x - points[j][0]) * pow(points[i][0] - points[j][0], -1, prime)\n",
    "        poly += lj_basis * points[i][1]    \n",
    "                   \n",
    "    return sp.expand(poly) % prime"
   ]
  },
  {
   "cell_type": "code",
   "execution_count": 5,
   "metadata": {},
   "outputs": [
    {
     "data": {
      "text/latex": [
       "$\\displaystyle \\left(74 x^{2} - 312 x + 2\\right) \\bmod 7$"
      ],
      "text/plain": [
       "Mod(74*x**2 - 312*x + 2, 7)"
      ]
     },
     "execution_count": 5,
     "metadata": {},
     "output_type": "execute_result"
    }
   ],
   "source": [
    "points = [(1, 2), (2, 3), (3, 5)]\n",
    "result = lagrange_interpolation(points, 7)\n",
    "result"
   ]
  },
  {
   "cell_type": "code",
   "execution_count": 6,
   "metadata": {},
   "outputs": [
    {
     "data": {
      "text/latex": [
       "$\\displaystyle 5$"
      ],
      "text/plain": [
       "5"
      ]
     },
     "execution_count": 6,
     "metadata": {},
     "output_type": "execute_result"
    }
   ],
   "source": [
    "result.subs('x', 3)"
   ]
  },
  {
   "cell_type": "code",
   "execution_count": 7,
   "metadata": {},
   "outputs": [
    {
     "data": {
      "text/latex": [
       "$\\displaystyle 3 x - 5 + \\frac{2}{x^{2}}$"
      ],
      "text/plain": [
       "3*x - 5 + 2/x**2"
      ]
     },
     "execution_count": 7,
     "metadata": {},
     "output_type": "execute_result"
    }
   ],
   "source": [
    "coeffs = {\n",
    "    -2: 2,  # 2/x\n",
    "    1: 3,   # 3x\n",
    "    0: -5   # -5\n",
    "}\n",
    "poly = UnivariatePolynomial(coeffs)\n",
    "result = poly.initialize()\n",
    "result"
   ]
  },
  {
   "cell_type": "code",
   "execution_count": 8,
   "metadata": {},
   "outputs": [],
   "source": [
    "def find_generators(prime):\n",
    "    prime_factors = sp.factorint(prime-1)\n",
    "    \n",
    "    for g in range(2, prime):\n",
    "        if all(pow(g, (prime-1)//factor, prime) != 1 for factor in prime_factors.keys()):\n",
    "            return g\n",
    "    return None"
   ]
  },
  {
   "cell_type": "code",
   "execution_count": 9,
   "metadata": {},
   "outputs": [],
   "source": [
    "def find_nth_root_of_unity(prime, n):\n",
    "    g = find_generators(prime)\n",
    "    return pow(g, (prime-1)//n, prime)"
   ]
  },
  {
   "cell_type": "code",
   "execution_count": 10,
   "metadata": {},
   "outputs": [],
   "source": [
    "class EllipticCurve:\n",
    "    def __init__(self, a, b, prime):\n",
    "        self.a = a\n",
    "        self.b = b\n",
    "        self.prime = prime        \n",
    "        self.discriminant = FiniteField(4 * a**3 + 27 * b**2, prime)\n",
    "        if self.discriminant.value == 0:\n",
    "            raise ValueError(\"This curve is not elliptic\")\n",
    "        \n",
    "        self.poly = UnivariatePolynomial({3: 1, 1: self.a, 0: self.b}).initialize() % prime\n",
    "    \n",
    "    def is_point_on_curve(self, x, y):\n",
    "        if x is None and y is None:  # 무한점 처리\n",
    "            return True\n",
    "        return (y * y) % self.prime == self.poly.subs('x', x)\n",
    "\n",
    "    def generate_points(self):\n",
    "        points = []\n",
    "        for x in range(self.prime):\n",
    "            rhs = self.poly.subs('x', x)\n",
    "            for y in range(self.prime):\n",
    "                if (y * y) % self.prime == rhs:\n",
    "                    points.append((x, y))\n",
    "        return points"
   ]
  },
  {
   "cell_type": "code",
   "execution_count": 11,
   "metadata": {},
   "outputs": [
    {
     "data": {
      "text/plain": [
       "[(1, 3), (1, 4), (4, 2), (4, 5), (6, 1), (6, 6)]"
      ]
     },
     "execution_count": 11,
     "metadata": {},
     "output_type": "execute_result"
    }
   ],
   "source": [
    "ecc = EllipticCurve(3, 5, 7)\n",
    "points = ecc.generate_points()\n",
    "points"
   ]
  },
  {
   "cell_type": "code",
   "execution_count": 12,
   "metadata": {},
   "outputs": [
    {
     "data": {
      "text/plain": [
       "True"
      ]
     },
     "execution_count": 12,
     "metadata": {},
     "output_type": "execute_result"
    }
   ],
   "source": [
    "ecc.is_point_on_curve(4,5)"
   ]
  },
  {
   "cell_type": "code",
   "execution_count": 13,
   "metadata": {},
   "outputs": [],
   "source": [
    "class EllipticCurvePoint:\n",
    "    def __init__(self, x, y, curve: EllipticCurve):\n",
    "        self.x = x\n",
    "        self.y = y\n",
    "        self.curve = curve\n",
    "        if not curve.is_point_on_curve(x, y):\n",
    "            raise ValueError(\"Point is not on the curve\")\n",
    "    \n",
    "    def __add__(self, other):\n",
    "        if self.x is None:  # 무한점 처리\n",
    "            return other\n",
    "        if other.x is None:\n",
    "            return self\n",
    "\n",
    "        if self.x == other.x:\n",
    "            if self.y == -other.y:  # P + (-P) = 무한점\n",
    "                return EllipticCurvePoint(None, None, self.curve)\n",
    "            else:  # 점 두 배\n",
    "                steep = (3 * self.x**2 + self.curve.a) * pow(2 * self.y, -1, self.curve.prime) % self.curve.prime\n",
    "        else:  # 서로 다른 두 점\n",
    "            steep = (other.y - self.y) * pow(other.x - self.x, -1, self.curve.prime) % self.curve.prime\n",
    "\n",
    "        result_x = (steep**2 - self.x - other.x) % self.curve.prime\n",
    "        result_y = (steep * (self.x - result_x) - self.y) % self.curve.prime\n",
    "\n",
    "        return EllipticCurvePoint(result_x, result_y, self.curve)\n",
    "        \n",
    "    def __mul__(self, n):\n",
    "        result = EllipticCurvePoint(None, None, self.curve)  # 무한점으로 초기화\n",
    "        temp = self  # 현재 점\n",
    "\n",
    "        while n > 0:\n",
    "            if n & 1:  # 마지막 비트가 1이면 현재 점을 결과에 더함\n",
    "                result = result + temp\n",
    "            temp = temp + temp  # 점 두 배\n",
    "            n >>= 1  # n을 오른쪽으로 비트 이동 (n // 2)\n",
    "        \n",
    "        return result"
   ]
  },
  {
   "cell_type": "code",
   "execution_count": 17,
   "metadata": {},
   "outputs": [
    {
     "name": "stdout",
     "output_type": "stream",
     "text": [
      "(1, 3) (4, 2)\n"
     ]
    }
   ],
   "source": [
    "P = EllipticCurvePoint(points[0][0], points[0][1], ecc)\n",
    "Q = EllipticCurvePoint(points[2][0], points[2][1], ecc)\n",
    "print(points[0], points[2])\n",
    "ecc.is_point_on_curve(P.x,P.y), ecc.is_point_on_curve(Q.x,Q.y)\n",
    "R = P + P + P"
   ]
  },
  {
   "cell_type": "code",
   "execution_count": 18,
   "metadata": {},
   "outputs": [
    {
     "data": {
      "text/plain": [
       "(4, 5)"
      ]
     },
     "execution_count": 18,
     "metadata": {},
     "output_type": "execute_result"
    }
   ],
   "source": [
    "R.x, R.y"
   ]
  },
  {
   "cell_type": "code",
   "execution_count": 19,
   "metadata": {},
   "outputs": [
    {
     "data": {
      "text/plain": [
       "(4, 5)"
      ]
     },
     "execution_count": 19,
     "metadata": {},
     "output_type": "execute_result"
    }
   ],
   "source": [
    "M = P * 3\n",
    "M.x, M.y"
   ]
  },
  {
   "cell_type": "code",
   "execution_count": 134,
   "metadata": {},
   "outputs": [],
   "source": [
    "def generate_srs(generator, tau, n, prime):\n",
    "    return [pow(generator, tau**i, prime) for i in range(n)]\n",
    "\n",
    "def evaluate(gp, coeffs, u, prime):\n",
    "    # 다항식 생성\n",
    "    polynomial = UnivariatePolynomial(coeffs).initialize()\n",
    "    f_u = polynomial.subs('x', u) % prime\n",
    "\n",
    "    # 나눗셈 후 단순화\n",
    "    numerator = polynomial - f_u\n",
    "    denominator = UnivariatePolynomial({1: 1, 0: -u}).initialize()\n",
    "    q_x = (numerator / denominator) % prime\n",
    "\n",
    "    # 커밋먼트 증명 생성\n",
    "    pi = 1\n",
    "    for i, coeff in enumerate([coeffs[key] for key in sorted(coeffs.keys())]):  # 정렬된 순서로 계수 사용\n",
    "        pi *= pow(gp[i], int(coeff), prime)\n",
    "        pi %= prime  # 안전하게 모듈로 연산\n",
    "    \n",
    "    return f_u, pi"
   ]
  },
  {
   "cell_type": "code",
   "execution_count": 135,
   "metadata": {},
   "outputs": [
    {
     "data": {
      "text/plain": [
       "(42, 38)"
      ]
     },
     "execution_count": 135,
     "metadata": {},
     "output_type": "execute_result"
    }
   ],
   "source": [
    "evaluate(gp, coeffs, 11, prime)"
   ]
  },
  {
   "cell_type": "code",
   "execution_count": 136,
   "metadata": {},
   "outputs": [],
   "source": [
    "prime = 101\n",
    "tau = 13\n",
    "generator = find_generators(prime)\n",
    "\n",
    "coeffs = {\n",
    "    0: 2,    \n",
    "    1: 2,\n",
    "    3: 1    \n",
    "}\n",
    "\n",
    "gp = generate_srs(generator, tau, len(coeffs), prime)\n",
    "\n",
    "polynomial = UnivariatePolynomial(coeffs).initialize() % prime\n",
    "commitment = pow(generator, int(polynomial.subs('x', tau)), prime)"
   ]
  },
  {
   "cell_type": "code",
   "execution_count": 137,
   "metadata": {},
   "outputs": [
    {
     "data": {
      "text/plain": [
       "[0, 1, 3]"
      ]
     },
     "execution_count": 137,
     "metadata": {},
     "output_type": "execute_result"
    }
   ],
   "source": [
    "list(coeffs.keys())"
   ]
  },
  {
   "cell_type": "code",
   "execution_count": 138,
   "metadata": {},
   "outputs": [
    {
     "data": {
      "text/plain": [
       "(42, 38)"
      ]
     },
     "execution_count": 138,
     "metadata": {},
     "output_type": "execute_result"
    }
   ],
   "source": [
    "evaluate(gp, coeffs, 11, prime)"
   ]
  },
  {
   "cell_type": "code",
   "execution_count": 139,
   "metadata": {},
   "outputs": [
    {
     "data": {
      "text/plain": [
       "(42, 38)"
      ]
     },
     "execution_count": 139,
     "metadata": {},
     "output_type": "execute_result"
    }
   ],
   "source": [
    "evaluate(gp, coeffs, 11, prime)"
   ]
  },
  {
   "cell_type": "code",
   "execution_count": null,
   "metadata": {},
   "outputs": [],
   "source": []
  }
 ],
 "metadata": {
  "kernelspec": {
   "display_name": "Python 3",
   "language": "python",
   "name": "python3"
  },
  "language_info": {
   "codemirror_mode": {
    "name": "ipython",
    "version": 3
   },
   "file_extension": ".py",
   "mimetype": "text/x-python",
   "name": "python",
   "nbconvert_exporter": "python",
   "pygments_lexer": "ipython3",
   "version": "3.8.20"
  }
 },
 "nbformat": 4,
 "nbformat_minor": 2
}
