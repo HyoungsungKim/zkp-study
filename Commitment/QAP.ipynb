{
 "cells": [
  {
   "cell_type": "code",
   "execution_count": 1,
   "metadata": {},
   "outputs": [],
   "source": [
    "import numpy as np\n",
    "import sympy as sp"
   ]
  },
  {
   "cell_type": "code",
   "execution_count": 17,
   "metadata": {},
   "outputs": [],
   "source": [
    "class Node:\n",
    "    def __init__(self, operation=None, left=None, right=None, value=None):\n",
    "        self.operation = operation\n",
    "        self.left = left\n",
    "        self.right = right\n",
    "        self.value = value\n",
    "        \n",
    "    def evaluate(self):\n",
    "        if self.operation is None:\n",
    "            return self.value\n",
    "        elif self.operation == '+':\n",
    "            return self.left.evaluate() + self.right.evaluate()\n",
    "        elif self.operation == '*':\n",
    "            return self.left.evaluate() * self.right.evaluate()\n",
    "        \n",
    "        \n",
    "    def __repr__(self):\n",
    "        \"\"\"노드 정보 보기 쉽게 출력\"\"\"\n",
    "        if self.operation is None:\n",
    "            return f\"({self.value})\"\n",
    "        return f\"({self.left} {self.operation} {self.right})\"\n",
    "        "
   ]
  },
  {
   "cell_type": "code",
   "execution_count": 21,
   "metadata": {},
   "outputs": [],
   "source": [
    "input_nodes = [\n",
    "    Node(value=3),\n",
    "    Node(value=2),\n",
    "    Node(value=1),\n",
    "    Node(value=7),\n",
    "    Node(value=5),\n",
    "    Node(value=4),\n",
    "]"
   ]
  },
  {
   "cell_type": "code",
   "execution_count": 22,
   "metadata": {},
   "outputs": [],
   "source": [
    "gate1 = Node(operation='*', left=input_nodes[0], right=input_nodes[1])\n",
    "gate2 = Node(operation='*', left=gate1, right=Node(operation='+', left=input_nodes[2], right=input_nodes[3]))\n",
    "gate3 = Node(operation='*', left=Node(operation='+', left=input_nodes[2], right=input_nodes[3]),  right=Node(operation='+', left=input_nodes[4], right=input_nodes[5]))"
   ]
  },
  {
   "cell_type": "code",
   "execution_count": 23,
   "metadata": {},
   "outputs": [
    {
     "name": "stdout",
     "output_type": "stream",
     "text": [
      "Gate Structure:\n",
      "Gate 1: ((3) * (2))\n",
      "Gate 2: (((3) * (2)) * ((1) + (7)))\n",
      "Gate 3: (((1) + (7)) * ((5) + (4)))\n",
      "\n",
      "Evaluations:\n",
      "Gate 1 Result: 6\n",
      "Gate 2 Result: 48\n",
      "Gate 3 Result: 72\n"
     ]
    }
   ],
   "source": [
    "print(\"Gate Structure:\")\n",
    "print(f\"Gate 1: {gate1}\")\n",
    "print(f\"Gate 2: {gate2}\")\n",
    "print(f\"Gate 3: {gate3}\")\n",
    "\n",
    "print(\"\\nEvaluations:\")\n",
    "print(f\"Gate 1 Result: {gate1.evaluate()}\")\n",
    "print(f\"Gate 2 Result: {gate2.evaluate()}\")\n",
    "print(f\"Gate 3 Result: {gate3.evaluate()}\")"
   ]
  },
  {
   "cell_type": "code",
   "execution_count": 82,
   "metadata": {},
   "outputs": [],
   "source": [
    "transcript_table = [3, 2, 1, 7, 5, 4, 6, 48, 72]\n",
    "gate_list = [gate1, gate2, gate3]\n",
    "\n",
    "\n",
    "def find_left_selector(gate, gate_idx, c, selector):    \n",
    "    if gate.operation == None:\n",
    "        if gate.evaluate() == c:\n",
    "            selector[gate_idx] = 1        \n",
    "            print(f\"gate_idx: {gate_idx}, c: {c}, selector: {selector}\")    \n",
    "    elif gate.left.operation == None:\n",
    "        if gate.left.evaluate() == c:\n",
    "            selector[gate_idx] = 1        \n",
    "            print(f\"gate_idx: {gate_idx}, c: {c}, selector: {selector}\")\n",
    "    elif gate.left.operation == '+':\n",
    "        find_left_selector(gate.left.left, gate_idx, c, selector)\n",
    "        find_left_selector(gate.left.right, gate_idx, c, selector)\n",
    "    elif gate.operation == '*':\n",
    "        if gate.left.evaluate() == c:\n",
    "            selector[gate_idx] = 1        \n",
    "            print(f\"gate_idx: {gate_idx}, c: {c}, selector: {selector}\")\n",
    "\n",
    "    return selector\n",
    "\n",
    "def find_right_selector(gate, gate_idx, c, selector):    \n",
    "    if gate.operation == None:\n",
    "        if gate.evaluate() == c:\n",
    "            selector[gate_idx] = 1        \n",
    "            print(f\"gate_idx: {gate_idx}, c: {c}, selector: {selector}\")    \n",
    "    elif gate.right.operation == None:\n",
    "        if gate.right.evaluate() == c:\n",
    "            selector[gate_idx] = 1        \n",
    "            print(f\"gate_idx: {gate_idx}, c: {c}, selector: {selector}\")\n",
    "    elif gate.right.operation == '+':\n",
    "        find_right_selector(gate.right.right, gate_idx, c, selector)\n",
    "        find_right_selector(gate.right.left, gate_idx, c, selector)\n",
    "    elif gate.operation == '*':\n",
    "        if gate.right.evaluate() == c:\n",
    "            selector[gate_idx] = 1        \n",
    "            print(f\"gate_idx: {gate_idx}, c: {c}, selector: {selector}\")\n",
    "\n",
    "    return selector\n",
    "\n",
    "def gate_selector(gate_list, direction, transcript_table):\n",
    "    polynomial_table = []\n",
    "    if direction == 'left':\n",
    "        for c in transcript_table:\n",
    "            selector = [0] * len(gate_list)\n",
    "            for gate_idx, gate in enumerate(gate_list):\n",
    "                find_left_selector(gate, gate_idx, c, selector)\n",
    "            polynomial_table.append(selector)\n",
    "            \n",
    "    elif direction == 'right':\n",
    "        for c in transcript_table:\n",
    "            selector = [0] * len(gate_list)\n",
    "            for gate_idx, gate in enumerate(gate_list):\n",
    "                find_right_selector(gate, gate_idx, c, selector)\n",
    "            polynomial_table.append(selector)\n",
    "            \n",
    "    return polynomial_table\n"
   ]
  },
  {
   "cell_type": "code",
   "execution_count": 83,
   "metadata": {},
   "outputs": [
    {
     "name": "stdout",
     "output_type": "stream",
     "text": [
      "gate_idx: 0, c: 3, selector: [1, 0, 0]\n",
      "gate_idx: 2, c: 1, selector: [0, 0, 1]\n",
      "gate_idx: 2, c: 7, selector: [0, 0, 1]\n",
      "gate_idx: 1, c: 6, selector: [0, 1, 0]\n"
     ]
    },
    {
     "data": {
      "text/plain": [
       "[[1, 0, 0],\n",
       " [0, 0, 0],\n",
       " [0, 0, 1],\n",
       " [0, 0, 1],\n",
       " [0, 0, 0],\n",
       " [0, 0, 0],\n",
       " [0, 1, 0],\n",
       " [0, 0, 0],\n",
       " [0, 0, 0]]"
      ]
     },
     "execution_count": 83,
     "metadata": {},
     "output_type": "execute_result"
    }
   ],
   "source": [
    "gate_selector(gate_list, 'left', transcript_table)"
   ]
  },
  {
   "cell_type": "code",
   "execution_count": 84,
   "metadata": {},
   "outputs": [
    {
     "name": "stdout",
     "output_type": "stream",
     "text": [
      "gate_idx: 0, c: 2, selector: [1, 0, 0]\n",
      "gate_idx: 1, c: 1, selector: [0, 1, 0]\n",
      "gate_idx: 1, c: 7, selector: [0, 1, 0]\n",
      "gate_idx: 2, c: 5, selector: [0, 0, 1]\n",
      "gate_idx: 2, c: 4, selector: [0, 0, 1]\n"
     ]
    },
    {
     "data": {
      "text/plain": [
       "[[0, 0, 0],\n",
       " [1, 0, 0],\n",
       " [0, 1, 0],\n",
       " [0, 1, 0],\n",
       " [0, 0, 1],\n",
       " [0, 0, 1],\n",
       " [0, 0, 0],\n",
       " [0, 0, 0],\n",
       " [0, 0, 0]]"
      ]
     },
     "execution_count": 84,
     "metadata": {},
     "output_type": "execute_result"
    }
   ],
   "source": [
    "gate_selector(gate_list, 'right', transcript_table)"
   ]
  },
  {
   "cell_type": "code",
   "execution_count": 115,
   "metadata": {},
   "outputs": [],
   "source": [
    "def find_selector(gate, gate_idx, c, selector, direction):\n",
    "    \"\"\"Left 또는 Right Selector Polynomial을 찾는 함수\"\"\"\n",
    "    if gate is None:\n",
    "        return\n",
    "    \n",
    "    # 리프 노드라면 값을 확인\n",
    "    if gate.operation is None:\n",
    "        if gate.evaluate() == c:\n",
    "            selector[gate_idx] = 1        \n",
    "        return\n",
    "    \n",
    "    # 왼쪽 / 오른쪽 / 출력 선택\n",
    "    if direction == 'left':\n",
    "        target = gate.left \n",
    "    elif direction == 'right':\n",
    "        target = gate.right\n",
    "    elif direction == 'output':\n",
    "        target = gate\n",
    "\n",
    "    # 리프 값이 맞는 경우\n",
    "    if target and target.operation is None and target.evaluate() == c:\n",
    "        selector[gate_idx] = 1\n",
    "        return\n",
    "\n",
    "    # 덧셈 노드인 경우 재귀 호출\n",
    "    if target and target.operation == '+':\n",
    "        find_selector(target.left, gate_idx, c, selector, direction)\n",
    "        find_selector(target.right, gate_idx, c, selector, direction)\n",
    "\n",
    "    # 곱셈 노드이면서 직접 값이 맞는 경우\n",
    "    if gate.operation == '*' and target.evaluate() == c:\n",
    "        selector[gate_idx] = 1\n",
    "\n",
    "def gate_selector(gate_list, direction, transcript_table):\n",
    "    \"\"\"게이트에서 left 또는 right selector polynomial을 찾는 함수\"\"\"\n",
    "    polynomial_table = []\n",
    "    for c in transcript_table:\n",
    "        selector = [0] * len(gate_list)\n",
    "        for gate_idx, gate in enumerate(gate_list):\n",
    "            find_selector(gate, gate_idx, c, selector, direction)\n",
    "        polynomial_table.append(selector)\n",
    "    return polynomial_table\n",
    "\n"
   ]
  },
  {
   "cell_type": "code",
   "execution_count": 116,
   "metadata": {},
   "outputs": [
    {
     "name": "stdout",
     "output_type": "stream",
     "text": [
      "Left Selector Table:\n"
     ]
    },
    {
     "data": {
      "text/plain": [
       "[[1, 0, 0],\n",
       " [0, 0, 0],\n",
       " [0, 0, 1],\n",
       " [0, 0, 1],\n",
       " [0, 0, 0],\n",
       " [0, 0, 0],\n",
       " [0, 1, 0],\n",
       " [0, 0, 0],\n",
       " [0, 0, 0]]"
      ]
     },
     "execution_count": 116,
     "metadata": {},
     "output_type": "execute_result"
    }
   ],
   "source": [
    "\n",
    "# 실행 예시 (left selector 생성)\n",
    "left_selector_table = gate_selector(gate_list, 'left', transcript_table)\n",
    "print(\"Left Selector Table:\")\n",
    "left_selector_table"
   ]
  },
  {
   "cell_type": "code",
   "execution_count": 117,
   "metadata": {},
   "outputs": [
    {
     "name": "stdout",
     "output_type": "stream",
     "text": [
      "Right Selector Table:\n"
     ]
    },
    {
     "data": {
      "text/plain": [
       "[[0, 0, 0],\n",
       " [1, 0, 0],\n",
       " [0, 1, 0],\n",
       " [0, 1, 0],\n",
       " [0, 0, 1],\n",
       " [0, 0, 1],\n",
       " [0, 0, 0],\n",
       " [0, 0, 0],\n",
       " [0, 0, 0]]"
      ]
     },
     "execution_count": 117,
     "metadata": {},
     "output_type": "execute_result"
    }
   ],
   "source": [
    "\n",
    "# 실행 예시 (left selector 생성)\n",
    "right_selector_table = gate_selector(gate_list, 'right', transcript_table)\n",
    "print(\"Right Selector Table:\")\n",
    "right_selector_table"
   ]
  },
  {
   "cell_type": "code",
   "execution_count": 118,
   "metadata": {},
   "outputs": [
    {
     "name": "stdout",
     "output_type": "stream",
     "text": [
      "output Selector Table:\n"
     ]
    },
    {
     "data": {
      "text/plain": [
       "[[0, 0, 0],\n",
       " [0, 0, 0],\n",
       " [0, 0, 0],\n",
       " [0, 0, 0],\n",
       " [0, 0, 0],\n",
       " [0, 0, 0],\n",
       " [1, 0, 0],\n",
       " [0, 1, 0],\n",
       " [0, 0, 1]]"
      ]
     },
     "execution_count": 118,
     "metadata": {},
     "output_type": "execute_result"
    }
   ],
   "source": [
    "\n",
    "# 실행 예시 (left selector 생성)\n",
    "output_selector_table = gate_selector(gate_list, 'output', transcript_table)\n",
    "print(\"output Selector Table:\")\n",
    "output_selector_table"
   ]
  },
  {
   "cell_type": "code",
   "execution_count": 119,
   "metadata": {},
   "outputs": [],
   "source": [
    "def properties(transcript_table, gate_selector, omega):\n",
    "    result = 0\n",
    "    for idx, c in enumerate(transcript_table):\n",
    "        result += c * gate_selector[idx][omega]\n",
    "        \n",
    "    return result\n",
    "    "
   ]
  },
  {
   "cell_type": "code",
   "execution_count": 121,
   "metadata": {},
   "outputs": [
    {
     "name": "stdout",
     "output_type": "stream",
     "text": [
      "3\n",
      "6\n",
      "8\n"
     ]
    }
   ],
   "source": [
    "print(properties(transcript_table, left_selector_table, 0))\n",
    "print(properties(transcript_table, left_selector_table, 1))\n",
    "print(properties(transcript_table, left_selector_table, 2))"
   ]
  },
  {
   "cell_type": "code",
   "execution_count": 122,
   "metadata": {},
   "outputs": [
    {
     "name": "stdout",
     "output_type": "stream",
     "text": [
      "2\n",
      "8\n",
      "9\n"
     ]
    }
   ],
   "source": [
    "print(properties(transcript_table, right_selector_table, 0))\n",
    "print(properties(transcript_table, right_selector_table, 1))\n",
    "print(properties(transcript_table, right_selector_table, 2))"
   ]
  },
  {
   "cell_type": "code",
   "execution_count": 123,
   "metadata": {},
   "outputs": [
    {
     "name": "stdout",
     "output_type": "stream",
     "text": [
      "6\n",
      "48\n",
      "72\n"
     ]
    }
   ],
   "source": [
    "print(properties(transcript_table, output_selector_table, 0))\n",
    "print(properties(transcript_table, output_selector_table, 1))\n",
    "print(properties(transcript_table, output_selector_table, 2))"
   ]
  },
  {
   "cell_type": "code",
   "execution_count": 125,
   "metadata": {},
   "outputs": [],
   "source": [
    "def master_polynomial(transcript_table, left_selector_table, right_selector_table, output_selector_table, omega):\n",
    "    left_properties = properties(transcript_table, left_selector_table, omega)\n",
    "    right_properties = properties(transcript_table, right_selector_table, omega)\n",
    "    output_properties = properties(transcript_table, output_selector_table, omega)\n",
    "    \n",
    "    return left_properties * right_properties - output_properties"
   ]
  },
  {
   "cell_type": "code",
   "execution_count": 127,
   "metadata": {},
   "outputs": [
    {
     "name": "stdout",
     "output_type": "stream",
     "text": [
      "0\n",
      "0\n",
      "0\n"
     ]
    }
   ],
   "source": [
    "print(master_polynomial(transcript_table, left_selector_table, right_selector_table, output_selector_table, 0))\n",
    "print(master_polynomial(transcript_table, left_selector_table, right_selector_table, output_selector_table, 1))\n",
    "print(master_polynomial(transcript_table, left_selector_table, right_selector_table, output_selector_table, 2))"
   ]
  },
  {
   "cell_type": "code",
   "execution_count": 128,
   "metadata": {},
   "outputs": [],
   "source": [
    "def properties(transcript_table, gate_selector):\n",
    "    \"\"\"주어진 selector 테이블에 대해 property 값을 계산하는 함수\"\"\"\n",
    "    def compute(omega):\n",
    "        return sum(c * gate_selector[idx][omega] for idx, c in enumerate(transcript_table))\n",
    "    return compute\n",
    "\n",
    "def master_polynomial(transcript_table, selector_tables):\n",
    "    \"\"\"QAP의 master polynomial을 계산하는 클로저\"\"\"\n",
    "    def compute(omega):\n",
    "        left_properties = properties(transcript_table, selector_tables['left'])(omega)\n",
    "        right_properties = properties(transcript_table, selector_tables['right'])(omega)\n",
    "        output_properties = properties(transcript_table, selector_tables['output'])(omega)\n",
    "\n",
    "        return left_properties * right_properties - output_properties\n",
    "\n",
    "    return compute\n"
   ]
  },
  {
   "cell_type": "code",
   "execution_count": 130,
   "metadata": {},
   "outputs": [
    {
     "name": "stdout",
     "output_type": "stream",
     "text": [
      "0\n",
      "0\n",
      "0\n"
     ]
    }
   ],
   "source": [
    "selector_tables = {\n",
    "    'left': left_selector_table,\n",
    "    'right': right_selector_table,\n",
    "    'output': output_selector_table\n",
    "}\n",
    "\n",
    "master_poly = master_polynomial(transcript_table, selector_tables)\n",
    "\n",
    "# 특정한 omega 값으로 평가\n",
    "print(master_poly(0))\n",
    "print(master_poly(1))\n",
    "print(master_poly(2))\n"
   ]
  },
  {
   "cell_type": "code",
   "execution_count": 131,
   "metadata": {},
   "outputs": [],
   "source": [
    "def vanishing_polynomial(omegas):\n",
    "    \"\"\"주어진 selector 테이블에 대해 vanishing polynomial을 계산하는 함수\"\"\"\n",
    "    def compute(x):\n",
    "        return (x - omegas[0]) * (x - omegas[1]) * (x - omegas[2])\n",
    "    \n",
    "    return compute"
   ]
  },
  {
   "cell_type": "code",
   "execution_count": 288,
   "metadata": {},
   "outputs": [],
   "source": [
    "class FiniteField:\n",
    "    def __init__(self, value, prime):\n",
    "        if prime <= 1:\n",
    "            raise ValueError(\"Prime must be greater than 1\")\n",
    "        self.value = value % prime\n",
    "        self.prime = prime\n",
    "        \n",
    "    def __add__(self, other):\n",
    "        if not isinstance(other, FiniteField):\n",
    "            raise TypeError(\"Operand must be of type FiniteField\")\n",
    "        if self.prime != other.prime:\n",
    "            raise ValueError(\"Primes must be the same\")\n",
    "        return FiniteField(self.value + other.value, self.prime)\n",
    "    \n",
    "    def __sub__(self, other):\n",
    "        if not isinstance(other, FiniteField):\n",
    "            raise TypeError(\"Operand must be of type FiniteField\")\n",
    "        if self.prime != other.prime:\n",
    "            raise ValueError(\"Primes must be the same\")\n",
    "        return FiniteField(self.value - other.value, self.prime)\n",
    "\n",
    "    def __mul__(self, other):\n",
    "        if not isinstance(other, FiniteField):\n",
    "            raise TypeError(\"Operand must be of type FiniteField\")\n",
    "        if self.prime != other.prime:\n",
    "            raise ValueError(\"Primes must be the same\")\n",
    "        return FiniteField(self.value * other.value, self.prime)\n",
    "    \n",
    "    def __neg__(self):\n",
    "        return FiniteField(-self.value, self.prime)\n",
    "\n",
    "    def __truediv__(self, other):\n",
    "        if not isinstance(other, FiniteField):\n",
    "            raise TypeError(\"Operand must be of type FiniteField\")\n",
    "        if self.prime != other.prime:\n",
    "            raise ValueError(\"Primes must be the same\")\n",
    "        if other.value == 0:\n",
    "            raise ZeroDivisionError(\"Cannot divide by zero in Finite Field\")\n",
    "        \n",
    "        return FiniteField(self.value * pow(other.value, -1, self.prime), self.prime)\n",
    "    \n",
    "    def __eq__(self, other):\n",
    "        return isinstance(other, FiniteField) and self.value == other.value and self.prime == other.prime\n",
    "    \n",
    "    def __hash__(self):\n",
    "        \"\"\" Make FiniteField hashable so it can be used as a dictionary key \"\"\"\n",
    "        return hash((self.value, self.prime))\n",
    "\n",
    "    def __repr__(self):\n",
    "        return f\"FiniteField({self.value}, {self.prime})\"\n",
    "\n",
    "\n",
    "class EllipticCurve:\n",
    "    def __init__(self, a, b, prime):\n",
    "        \"\"\"타원 곡선 E: y^2 = x^3 + ax + b 정의\"\"\"\n",
    "        self.a = FiniteField(a, prime)\n",
    "        self.b = FiniteField(b, prime)\n",
    "        self.prime = prime        \n",
    "        self.infinity = None  # 무한대의 점 (Point at Infinity)\n",
    "        self.points = [self.infinity]\n",
    "\n",
    "        # Discriminant 체크 (4a^3 + 27b^2 != 0 이어야 타원 곡선)\n",
    "        self.discriminant = 4 * self.a.value**3 + 27 * self.b.value**2\n",
    "        if self.discriminant % prime == 0:\n",
    "            raise ValueError(\"This curve is not elliptic (discriminant is zero)\")\n",
    "\n",
    "        # 유한체 위에서 점 찾기\n",
    "        for x in range(prime):\n",
    "            for y in range(prime):\n",
    "                if self.is_point_on_curve(FiniteField(x, prime), FiniteField(y, prime)):\n",
    "                    self.points.append((FiniteField(x, prime), FiniteField(y, prime)))\n",
    "\n",
    "    def is_point_on_curve(self, x, y):\n",
    "        \"\"\"점 (x, y) 가 타원 곡선 위에 있는지 확인\"\"\"\n",
    "        return (y * y).value == (x * x * x + self.a * x + self.b).value % self.prime\n",
    "    \n",
    "    def add_points(self, p1:(FiniteField, FiniteField), p2:(FiniteField, FiniteField)) -> FiniteField:\n",
    "        if p1 not in self.points or p2 not in self.points:\n",
    "            raise ValueError(\"Points are not on the curve\")\n",
    "        \n",
    "        # 무한대의 점 처리\n",
    "        if p1 is None:\n",
    "            return p2\n",
    "        if p2 is None:\n",
    "            return p1     \n",
    "\n",
    "        x1, y1 = p1\n",
    "        x2, y2 = p2\n",
    "        \n",
    "        # Case 3: P와 Q가 서로 역원인 경우 (x 좌표가 같고, y 좌표가 반대인 경우)\n",
    "        if x1 == x2 and y1 != y2:\n",
    "            return None  # 무한대의 점 반환\n",
    "        \n",
    "        # Case 2: 점 두 배 연산 (Doubling, P == Q)\n",
    "        if p1 == p2:\n",
    "            if y1.value == 0:\n",
    "                return None  # 접선이 무한대인 경우\n",
    "            slope = (FiniteField(3, self.prime) * x1 * x1 + self.a) / (FiniteField(2, self.prime) * y1)\n",
    "        else:\n",
    "            if x1 == x2:\n",
    "                return None  # 기울기가 정의되지 않음\n",
    "            slope = (y2 - y1) / (x2 - x1)  # 기울기 계산\n",
    "            \n",
    "        # x3, y3 계산\n",
    "        x3 = slope * slope - x1 - x2\n",
    "        y3 = slope * (x1 - x3) - y1\n",
    "\n",
    "        return (x3, y3)\n",
    "\n",
    "\n",
    "    def __repr__(self):\n",
    "        return f\"EllipticCurve(y^2 = x^3 + {self.a.value}x + {self.b.value} over F_{self.prime})\"\n"
   ]
  },
  {
   "cell_type": "code",
   "execution_count": 289,
   "metadata": {},
   "outputs": [
    {
     "name": "stdout",
     "output_type": "stream",
     "text": [
      "[None, (FiniteField(0, 5), FiniteField(1, 5)), (FiniteField(0, 5), FiniteField(4, 5)), (FiniteField(2, 5), FiniteField(2, 5)), (FiniteField(2, 5), FiniteField(3, 5)), (FiniteField(4, 5), FiniteField(0, 5))]\n"
     ]
    }
   ],
   "source": [
    "ecc = EllipticCurve(0, 1, 5)\n",
    "print(ecc.points)"
   ]
  },
  {
   "cell_type": "code",
   "execution_count": 290,
   "metadata": {},
   "outputs": [
    {
     "data": {
      "text/plain": [
       "[None,\n",
       " (FiniteField(0, 5), FiniteField(1, 5)),\n",
       " (FiniteField(0, 5), FiniteField(4, 5)),\n",
       " (FiniteField(2, 5), FiniteField(2, 5)),\n",
       " (FiniteField(2, 5), FiniteField(3, 5)),\n",
       " (FiniteField(4, 5), FiniteField(0, 5))]"
      ]
     },
     "execution_count": 290,
     "metadata": {},
     "output_type": "execute_result"
    }
   ],
   "source": [
    "ecc.points"
   ]
  },
  {
   "cell_type": "code",
   "execution_count": 291,
   "metadata": {},
   "outputs": [
    {
     "name": "stdout",
     "output_type": "stream",
     "text": [
      "(FiniteField(0, 5), FiniteField(4, 5))\n",
      "None\n"
     ]
    }
   ],
   "source": [
    "print(ecc.add_points(ecc.points[1], ecc.points[1]))\n",
    "print(ecc.add_points(ecc.points[1], ecc.points[2]))"
   ]
  },
  {
   "cell_type": "code",
   "execution_count": 360,
   "metadata": {},
   "outputs": [],
   "source": [
    "from collections import Counter\n",
    "\n",
    "# https://crypto.stanford.edu/~dabo/papers/bfibe.pdf\n",
    "# Identity-Based Encryption from the Weil Pairing - Appendix: Definition of the Weil pairing\n",
    "class Divisor:\n",
    "    def __init__(self, curve:EllipticCurve):\n",
    "        self.curve = curve\n",
    "        self.points = curve.points        \n",
    "        \n",
    "    def find_intersection(self, linear_function):\n",
    "        # linear_function = (a, b, c) indicating ax + by + c\n",
    "        zeros = []\n",
    "        a, b, c = linear_function\n",
    "        for point in self.points:\n",
    "            if point == self.curve.infinity:\n",
    "                continue\n",
    "            \n",
    "            x, y = point\n",
    "            if a * x + b * y + c == FiniteField(0, self.curve.prime):\n",
    "                zeros.append(point)\n",
    "                \n",
    "        return zeros\n",
    "\n",
    "    def compute_divisor(self, linear_function):\n",
    "        \"\"\" 주어진 선형 함수로부터 divisor를 계산하는 메서드 (접점 고려) \"\"\"\n",
    "        zeros = self.find_intersection(linear_function)\n",
    "        divisor = Counter()\n",
    "\n",
    "        # 접점 감지 로직 추가: 동일한 점이 여러 번 나오면 차수를 증가!\n",
    "        for point in zeros:\n",
    "            divisor[point] += 1  # 접점이면 차수가 2 이상이 될 수 있음\n",
    "\n",
    "        # 무한대의 점을 divisor에 추가 (극점 차수는 3)\n",
    "        if len(zeros) > 0:\n",
    "            divisor[self.curve.infinity] = -3\n",
    "\n",
    "        return divisor \n",
    "    \n",
    "    def is_principal_divisor(self, divisor):\n",
    "        \"\"\" Principal Divisor 여부를 확인하는 함수 \"\"\"\n",
    "        # 첫 번째 조건: 모든 계수의 합이 0이어야 함\n",
    "        if sum(divisor.values()) != 0:\n",
    "            return False\n",
    "\n",
    "        # 두 번째 조건: 모든 점 덧셈 결과가 항등원(O)이어야 함\n",
    "        sum_of_points = self.curve.infinity  # 항등원으로 초기화\n",
    "\n",
    "        for point, count in divisor.items():\n",
    "            for _ in range(count):  # 계수(Weight)만큼 반복\n",
    "                sum_of_points = self.curve.add_points(sum_of_points, point)\n",
    "\n",
    "        return sum_of_points == self.curve.infinity\n",
    "\n",
    "    def is_equivalent_divisior(self, divisor_A, divisor_B):\n",
    "        difference = divisor_A.copy()\n",
    "        difference.subtract(divisor_B)\n",
    "        \n",
    "        return self.is_principal_divisor(difference)\n",
    "    \n",
    "    def evaluate_function(self, divisor, linear_function):\n",
    "        \"\"\" 함수를 divisor에 대해서 평가하는 함수 \"\"\"\n",
    "        result = 1\n",
    "        a, b, c = linear_function  # 선형 함수의 계수 추출\n",
    "\n",
    "        for point, exponent in divisor.items():\n",
    "            if point == self.curve.infinity:\n",
    "                continue  # 무한대의 점은 연산에서 제외\n",
    "            x, y = point\n",
    "\n",
    "            value = a*x + b*y + c\n",
    "            if value == 0:\n",
    "                raise ValueError(\"Function evaluation resulted in zero, which may cause invalid pairing.\")\n",
    "\n",
    "            result *= value.value ** exponent  # f(P)^a_P 연산 수행\n",
    "\n",
    "        return result"
   ]
  },
  {
   "cell_type": "code",
   "execution_count": 361,
   "metadata": {},
   "outputs": [
    {
     "name": "stdout",
     "output_type": "stream",
     "text": [
      "Counter({(FiniteField(0, 5), FiniteField(4, 5)): 1, (FiniteField(2, 5), FiniteField(2, 5)): 1, (FiniteField(4, 5), FiniteField(0, 5)): 1, None: -3})\n",
      "True\n",
      "True\n"
     ]
    }
   ],
   "source": [
    "div = Divisor(ecc)\n",
    "divisor = div.compute_divisor((FiniteField(1, 5), FiniteField(1, 5), FiniteField(1, 5)))\n",
    "print(divisor)\n",
    "print(div.is_principal_divisor(divisor))\n",
    "print(div.is_equivalent_divisior(divisor, divisor))"
   ]
  },
  {
   "cell_type": "code",
   "execution_count": 394,
   "metadata": {},
   "outputs": [],
   "source": [
    "class WeilPairing:\n",
    "    def __init__(self, curve:EllipticCurve, P: (FiniteField, FiniteField), Q: (FiniteField, FiniteField)):\n",
    "        self.curve = curve\n",
    "        self.P = P\n",
    "        self.Q = Q\n",
    "        \n",
    "        if P not in curve.points or Q not in curve.points:\n",
    "            raise ValueError(\"Points are not on the curve\")\n",
    "        \n",
    "        self.div = Divisor(curve)  # Divisor 객체를 한 번만 생성하여 사용\n",
    "        \n",
    "    def generate_linear_function(self, point: (FiniteField, FiniteField)):\n",
    "        \"\"\"주어진 점을 통해 선형 함수를 생성하는 메서드\"\"\"\n",
    "        if point == self.curve.infinity:\n",
    "            raise ValueError(\"Point at Infinity is not allowed\")\n",
    "        \n",
    "        x_P, y_P = point\n",
    "        \n",
    "        return (FiniteField(1, self.curve.prime), FiniteField(0, self.curve.prime), FiniteField(-x_P.value, self.curve.prime))\n",
    "        \n",
    "    def compute_pairing(self):\n",
    "        \"\"\" Weil Pairing 계산 \"\"\"\n",
    "        linear_function_P = self.generate_linear_function(self.P)\n",
    "        linear_function_Q = self.generate_linear_function(self.Q)\n",
    "\n",
    "        divisor_P = self.div.compute_divisor(linear_function_P)\n",
    "        divisor_Q = self.div.compute_divisor(linear_function_Q)\n",
    "        \n",
    "        # divisor에 대해 함수 평가\n",
    "        numerator = self.div.evaluate_function(divisor_Q, linear_function_P)  \n",
    "        denominator = self.div.evaluate_function(divisor_P, linear_function_Q)  \n",
    "\n",
    "        #return numerator * pow(denominator, -1, self.curve.prime)\n",
    "        return FiniteField(numerator, self.curve.prime**2) / FiniteField(denominator, self.curve.prime**2)\n",
    "        "
   ]
  },
  {
   "cell_type": "code",
   "execution_count": 395,
   "metadata": {},
   "outputs": [
    {
     "data": {
      "text/plain": [
       "[None,\n",
       " (FiniteField(0, 5), FiniteField(1, 5)),\n",
       " (FiniteField(0, 5), FiniteField(4, 5)),\n",
       " (FiniteField(2, 5), FiniteField(2, 5)),\n",
       " (FiniteField(2, 5), FiniteField(3, 5)),\n",
       " (FiniteField(4, 5), FiniteField(0, 5))]"
      ]
     },
     "execution_count": 395,
     "metadata": {},
     "output_type": "execute_result"
    }
   ],
   "source": [
    "ecc.points"
   ]
  },
  {
   "cell_type": "code",
   "execution_count": 396,
   "metadata": {},
   "outputs": [
    {
     "data": {
      "text/plain": [
       "FiniteField(6, 25)"
      ]
     },
     "execution_count": 396,
     "metadata": {},
     "output_type": "execute_result"
    }
   ],
   "source": [
    "P = (FiniteField(0, 5), FiniteField(4, 5))\n",
    "Q = (FiniteField(2, 5), FiniteField(2, 5))\n",
    "\n",
    "weil = WeilPairing(ecc, P, Q)\n",
    "\n",
    "weil.compute_pairing()"
   ]
  },
  {
   "cell_type": "code",
   "execution_count": null,
   "metadata": {},
   "outputs": [],
   "source": []
  },
  {
   "cell_type": "code",
   "execution_count": null,
   "metadata": {},
   "outputs": [],
   "source": []
  }
 ],
 "metadata": {
  "kernelspec": {
   "display_name": "Python 3",
   "language": "python",
   "name": "python3"
  },
  "language_info": {
   "codemirror_mode": {
    "name": "ipython",
    "version": 3
   },
   "file_extension": ".py",
   "mimetype": "text/x-python",
   "name": "python",
   "nbconvert_exporter": "python",
   "pygments_lexer": "ipython3",
   "version": "3.8.20"
  }
 },
 "nbformat": 4,
 "nbformat_minor": 2
}
