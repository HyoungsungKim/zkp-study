{
 "cells": [
  {
   "cell_type": "code",
   "execution_count": 1,
   "metadata": {},
   "outputs": [],
   "source": [
    "import numpy as np\n",
    "import sympy as sp"
   ]
  },
  {
   "cell_type": "code",
   "execution_count": 17,
   "metadata": {},
   "outputs": [],
   "source": [
    "class Node:\n",
    "    def __init__(self, operation=None, left=None, right=None, value=None):\n",
    "        self.operation = operation\n",
    "        self.left = left\n",
    "        self.right = right\n",
    "        self.value = value\n",
    "        \n",
    "    def evaluate(self):\n",
    "        if self.operation is None:\n",
    "            return self.value\n",
    "        elif self.operation == '+':\n",
    "            return self.left.evaluate() + self.right.evaluate()\n",
    "        elif self.operation == '*':\n",
    "            return self.left.evaluate() * self.right.evaluate()\n",
    "        \n",
    "        \n",
    "    def __repr__(self):\n",
    "        \"\"\"노드 정보 보기 쉽게 출력\"\"\"\n",
    "        if self.operation is None:\n",
    "            return f\"({self.value})\"\n",
    "        return f\"({self.left} {self.operation} {self.right})\"\n",
    "        "
   ]
  },
  {
   "cell_type": "code",
   "execution_count": 21,
   "metadata": {},
   "outputs": [],
   "source": [
    "input_nodes = [\n",
    "    Node(value=3),\n",
    "    Node(value=2),\n",
    "    Node(value=1),\n",
    "    Node(value=7),\n",
    "    Node(value=5),\n",
    "    Node(value=4),\n",
    "]"
   ]
  },
  {
   "cell_type": "code",
   "execution_count": 22,
   "metadata": {},
   "outputs": [],
   "source": [
    "gate1 = Node(operation='*', left=input_nodes[0], right=input_nodes[1])\n",
    "gate2 = Node(operation='*', left=gate1, right=Node(operation='+', left=input_nodes[2], right=input_nodes[3]))\n",
    "gate3 = Node(operation='*', left=Node(operation='+', left=input_nodes[2], right=input_nodes[3]),  right=Node(operation='+', left=input_nodes[4], right=input_nodes[5]))"
   ]
  },
  {
   "cell_type": "code",
   "execution_count": 23,
   "metadata": {},
   "outputs": [
    {
     "name": "stdout",
     "output_type": "stream",
     "text": [
      "Gate Structure:\n",
      "Gate 1: ((3) * (2))\n",
      "Gate 2: (((3) * (2)) * ((1) + (7)))\n",
      "Gate 3: (((1) + (7)) * ((5) + (4)))\n",
      "\n",
      "Evaluations:\n",
      "Gate 1 Result: 6\n",
      "Gate 2 Result: 48\n",
      "Gate 3 Result: 72\n"
     ]
    }
   ],
   "source": [
    "print(\"Gate Structure:\")\n",
    "print(f\"Gate 1: {gate1}\")\n",
    "print(f\"Gate 2: {gate2}\")\n",
    "print(f\"Gate 3: {gate3}\")\n",
    "\n",
    "print(\"\\nEvaluations:\")\n",
    "print(f\"Gate 1 Result: {gate1.evaluate()}\")\n",
    "print(f\"Gate 2 Result: {gate2.evaluate()}\")\n",
    "print(f\"Gate 3 Result: {gate3.evaluate()}\")"
   ]
  },
  {
   "cell_type": "code",
   "execution_count": 82,
   "metadata": {},
   "outputs": [],
   "source": [
    "transcript_table = [3, 2, 1, 7, 5, 4, 6, 48, 72]\n",
    "gate_list = [gate1, gate2, gate3]\n",
    "\n",
    "\n",
    "def find_left_selector(gate, gate_idx, c, selector):    \n",
    "    if gate.operation == None:\n",
    "        if gate.evaluate() == c:\n",
    "            selector[gate_idx] = 1        \n",
    "            print(f\"gate_idx: {gate_idx}, c: {c}, selector: {selector}\")    \n",
    "    elif gate.left.operation == None:\n",
    "        if gate.left.evaluate() == c:\n",
    "            selector[gate_idx] = 1        \n",
    "            print(f\"gate_idx: {gate_idx}, c: {c}, selector: {selector}\")\n",
    "    elif gate.left.operation == '+':\n",
    "        find_left_selector(gate.left.left, gate_idx, c, selector)\n",
    "        find_left_selector(gate.left.right, gate_idx, c, selector)\n",
    "    elif gate.operation == '*':\n",
    "        if gate.left.evaluate() == c:\n",
    "            selector[gate_idx] = 1        \n",
    "            print(f\"gate_idx: {gate_idx}, c: {c}, selector: {selector}\")\n",
    "\n",
    "    return selector\n",
    "\n",
    "def find_right_selector(gate, gate_idx, c, selector):    \n",
    "    if gate.operation == None:\n",
    "        if gate.evaluate() == c:\n",
    "            selector[gate_idx] = 1        \n",
    "            print(f\"gate_idx: {gate_idx}, c: {c}, selector: {selector}\")    \n",
    "    elif gate.right.operation == None:\n",
    "        if gate.right.evaluate() == c:\n",
    "            selector[gate_idx] = 1        \n",
    "            print(f\"gate_idx: {gate_idx}, c: {c}, selector: {selector}\")\n",
    "    elif gate.right.operation == '+':\n",
    "        find_right_selector(gate.right.right, gate_idx, c, selector)\n",
    "        find_right_selector(gate.right.left, gate_idx, c, selector)\n",
    "    elif gate.operation == '*':\n",
    "        if gate.right.evaluate() == c:\n",
    "            selector[gate_idx] = 1        \n",
    "            print(f\"gate_idx: {gate_idx}, c: {c}, selector: {selector}\")\n",
    "\n",
    "    return selector\n",
    "\n",
    "def gate_selector(gate_list, direction, transcript_table):\n",
    "    polynomial_table = []\n",
    "    if direction == 'left':\n",
    "        for c in transcript_table:\n",
    "            selector = [0] * len(gate_list)\n",
    "            for gate_idx, gate in enumerate(gate_list):\n",
    "                find_left_selector(gate, gate_idx, c, selector)\n",
    "            polynomial_table.append(selector)\n",
    "            \n",
    "    elif direction == 'right':\n",
    "        for c in transcript_table:\n",
    "            selector = [0] * len(gate_list)\n",
    "            for gate_idx, gate in enumerate(gate_list):\n",
    "                find_right_selector(gate, gate_idx, c, selector)\n",
    "            polynomial_table.append(selector)\n",
    "            \n",
    "    return polynomial_table\n"
   ]
  },
  {
   "cell_type": "code",
   "execution_count": 83,
   "metadata": {},
   "outputs": [
    {
     "name": "stdout",
     "output_type": "stream",
     "text": [
      "gate_idx: 0, c: 3, selector: [1, 0, 0]\n",
      "gate_idx: 2, c: 1, selector: [0, 0, 1]\n",
      "gate_idx: 2, c: 7, selector: [0, 0, 1]\n",
      "gate_idx: 1, c: 6, selector: [0, 1, 0]\n"
     ]
    },
    {
     "data": {
      "text/plain": [
       "[[1, 0, 0],\n",
       " [0, 0, 0],\n",
       " [0, 0, 1],\n",
       " [0, 0, 1],\n",
       " [0, 0, 0],\n",
       " [0, 0, 0],\n",
       " [0, 1, 0],\n",
       " [0, 0, 0],\n",
       " [0, 0, 0]]"
      ]
     },
     "execution_count": 83,
     "metadata": {},
     "output_type": "execute_result"
    }
   ],
   "source": [
    "gate_selector(gate_list, 'left', transcript_table)"
   ]
  },
  {
   "cell_type": "code",
   "execution_count": 84,
   "metadata": {},
   "outputs": [
    {
     "name": "stdout",
     "output_type": "stream",
     "text": [
      "gate_idx: 0, c: 2, selector: [1, 0, 0]\n",
      "gate_idx: 1, c: 1, selector: [0, 1, 0]\n",
      "gate_idx: 1, c: 7, selector: [0, 1, 0]\n",
      "gate_idx: 2, c: 5, selector: [0, 0, 1]\n",
      "gate_idx: 2, c: 4, selector: [0, 0, 1]\n"
     ]
    },
    {
     "data": {
      "text/plain": [
       "[[0, 0, 0],\n",
       " [1, 0, 0],\n",
       " [0, 1, 0],\n",
       " [0, 1, 0],\n",
       " [0, 0, 1],\n",
       " [0, 0, 1],\n",
       " [0, 0, 0],\n",
       " [0, 0, 0],\n",
       " [0, 0, 0]]"
      ]
     },
     "execution_count": 84,
     "metadata": {},
     "output_type": "execute_result"
    }
   ],
   "source": [
    "gate_selector(gate_list, 'right', transcript_table)"
   ]
  },
  {
   "cell_type": "code",
   "execution_count": 115,
   "metadata": {},
   "outputs": [],
   "source": [
    "def find_selector(gate, gate_idx, c, selector, direction):\n",
    "    \"\"\"Left 또는 Right Selector Polynomial을 찾는 함수\"\"\"\n",
    "    if gate is None:\n",
    "        return\n",
    "    \n",
    "    # 리프 노드라면 값을 확인\n",
    "    if gate.operation is None:\n",
    "        if gate.evaluate() == c:\n",
    "            selector[gate_idx] = 1        \n",
    "        return\n",
    "    \n",
    "    # 왼쪽 / 오른쪽 / 출력 선택\n",
    "    if direction == 'left':\n",
    "        target = gate.left \n",
    "    elif direction == 'right':\n",
    "        target = gate.right\n",
    "    elif direction == 'output':\n",
    "        target = gate\n",
    "\n",
    "    # 리프 값이 맞는 경우\n",
    "    if target and target.operation is None and target.evaluate() == c:\n",
    "        selector[gate_idx] = 1\n",
    "        return\n",
    "\n",
    "    # 덧셈 노드인 경우 재귀 호출\n",
    "    if target and target.operation == '+':\n",
    "        find_selector(target.left, gate_idx, c, selector, direction)\n",
    "        find_selector(target.right, gate_idx, c, selector, direction)\n",
    "\n",
    "    # 곱셈 노드이면서 직접 값이 맞는 경우\n",
    "    if gate.operation == '*' and target.evaluate() == c:\n",
    "        selector[gate_idx] = 1\n",
    "\n",
    "def gate_selector(gate_list, direction, transcript_table):\n",
    "    \"\"\"게이트에서 left 또는 right selector polynomial을 찾는 함수\"\"\"\n",
    "    polynomial_table = []\n",
    "    for c in transcript_table:\n",
    "        selector = [0] * len(gate_list)\n",
    "        for gate_idx, gate in enumerate(gate_list):\n",
    "            find_selector(gate, gate_idx, c, selector, direction)\n",
    "        polynomial_table.append(selector)\n",
    "    return polynomial_table\n",
    "\n"
   ]
  },
  {
   "cell_type": "code",
   "execution_count": 116,
   "metadata": {},
   "outputs": [
    {
     "name": "stdout",
     "output_type": "stream",
     "text": [
      "Left Selector Table:\n"
     ]
    },
    {
     "data": {
      "text/plain": [
       "[[1, 0, 0],\n",
       " [0, 0, 0],\n",
       " [0, 0, 1],\n",
       " [0, 0, 1],\n",
       " [0, 0, 0],\n",
       " [0, 0, 0],\n",
       " [0, 1, 0],\n",
       " [0, 0, 0],\n",
       " [0, 0, 0]]"
      ]
     },
     "execution_count": 116,
     "metadata": {},
     "output_type": "execute_result"
    }
   ],
   "source": [
    "\n",
    "# 실행 예시 (left selector 생성)\n",
    "left_selector_table = gate_selector(gate_list, 'left', transcript_table)\n",
    "print(\"Left Selector Table:\")\n",
    "left_selector_table"
   ]
  },
  {
   "cell_type": "code",
   "execution_count": 117,
   "metadata": {},
   "outputs": [
    {
     "name": "stdout",
     "output_type": "stream",
     "text": [
      "Right Selector Table:\n"
     ]
    },
    {
     "data": {
      "text/plain": [
       "[[0, 0, 0],\n",
       " [1, 0, 0],\n",
       " [0, 1, 0],\n",
       " [0, 1, 0],\n",
       " [0, 0, 1],\n",
       " [0, 0, 1],\n",
       " [0, 0, 0],\n",
       " [0, 0, 0],\n",
       " [0, 0, 0]]"
      ]
     },
     "execution_count": 117,
     "metadata": {},
     "output_type": "execute_result"
    }
   ],
   "source": [
    "\n",
    "# 실행 예시 (left selector 생성)\n",
    "right_selector_table = gate_selector(gate_list, 'right', transcript_table)\n",
    "print(\"Right Selector Table:\")\n",
    "right_selector_table"
   ]
  },
  {
   "cell_type": "code",
   "execution_count": 118,
   "metadata": {},
   "outputs": [
    {
     "name": "stdout",
     "output_type": "stream",
     "text": [
      "output Selector Table:\n"
     ]
    },
    {
     "data": {
      "text/plain": [
       "[[0, 0, 0],\n",
       " [0, 0, 0],\n",
       " [0, 0, 0],\n",
       " [0, 0, 0],\n",
       " [0, 0, 0],\n",
       " [0, 0, 0],\n",
       " [1, 0, 0],\n",
       " [0, 1, 0],\n",
       " [0, 0, 1]]"
      ]
     },
     "execution_count": 118,
     "metadata": {},
     "output_type": "execute_result"
    }
   ],
   "source": [
    "\n",
    "# 실행 예시 (left selector 생성)\n",
    "output_selector_table = gate_selector(gate_list, 'output', transcript_table)\n",
    "print(\"output Selector Table:\")\n",
    "output_selector_table"
   ]
  },
  {
   "cell_type": "code",
   "execution_count": null,
   "metadata": {},
   "outputs": [],
   "source": []
  }
 ],
 "metadata": {
  "kernelspec": {
   "display_name": "Python 3",
   "language": "python",
   "name": "python3"
  },
  "language_info": {
   "codemirror_mode": {
    "name": "ipython",
    "version": 3
   },
   "file_extension": ".py",
   "mimetype": "text/x-python",
   "name": "python",
   "nbconvert_exporter": "python",
   "pygments_lexer": "ipython3",
   "version": "3.8.20"
  }
 },
 "nbformat": 4,
 "nbformat_minor": 2
}
