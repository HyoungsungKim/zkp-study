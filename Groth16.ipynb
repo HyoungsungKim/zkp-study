{
 "cells": [
  {
   "cell_type": "markdown",
   "metadata": {},
   "source": [
    "# Groth16"
   ]
  },
  {
   "cell_type": "markdown",
   "metadata": {},
   "source": [
    "## Weil pairing"
   ]
  },
  {
   "cell_type": "code",
   "execution_count": 1,
   "metadata": {},
   "outputs": [],
   "source": [
    "class FiniteField:\n",
    "    def __init__(self, value, prime):\n",
    "        if prime <= 1:\n",
    "            raise ValueError(\"Prime must be greater than 1\")\n",
    "        self.value = value % prime\n",
    "        self.prime = prime\n",
    "        \n",
    "    def to_extension(self, r):\n",
    "        \"\"\"F_p 원소를 F_p^2로 변환\"\"\"\n",
    "        return FiniteFieldExtension(self.value, 0, self.prime, r)\n",
    "        \n",
    "    def __add__(self, other):\n",
    "        if not isinstance(other, FiniteField):\n",
    "            raise TypeError(\"Operand must be of type FiniteField\")\n",
    "        if self.prime != other.prime:\n",
    "            raise ValueError(\"Primes must be the same\")\n",
    "        return FiniteField(self.value + other.value, self.prime)\n",
    "    \n",
    "    def __sub__(self, other):\n",
    "        if not isinstance(other, FiniteField):\n",
    "            raise TypeError(\"Operand must be of type FiniteField\")\n",
    "        if self.prime != other.prime:\n",
    "            raise ValueError(\"Primes must be the same\")\n",
    "        return FiniteField(self.value - other.value, self.prime)\n",
    "\n",
    "    def __mul__(self, other):\n",
    "        if not isinstance(other, FiniteField):\n",
    "            raise TypeError(\"Operand must be of type FiniteField\")\n",
    "        if self.prime != other.prime:\n",
    "            raise ValueError(\"Primes must be the same\")\n",
    "        return FiniteField(self.value * other.value, self.prime)\n",
    "    \n",
    "    def __neg__(self):\n",
    "        return FiniteField(-self.value, self.prime)\n",
    "\n",
    "    def __truediv__(self, other):\n",
    "        if not isinstance(other, FiniteField):\n",
    "            raise TypeError(\"Operand must be of type FiniteField\")\n",
    "        if self.prime != other.prime:\n",
    "            raise ValueError(\"Primes must be the same\")\n",
    "        if other.value == 0:\n",
    "            raise ZeroDivisionError(\"Cannot divide by zero in Finite Field\")\n",
    "        \n",
    "        return FiniteField(self.value * pow(other.value, -1, self.prime), self.prime)\n",
    "    \n",
    "    def __eq__(self, other):\n",
    "        return isinstance(other, FiniteField) and self.value == other.value and self.prime == other.prime\n",
    "    \n",
    "    def __hash__(self):\n",
    "        \"\"\" Make FiniteField hashable so it can be used as a dictionary key \"\"\"\n",
    "        return hash((self.value, self.prime))\n",
    "\n",
    "    def __repr__(self):\n",
    "        return f\"FiniteField({self.value}, {self.prime})\"\n",
    "\n"
   ]
  },
  {
   "cell_type": "code",
   "execution_count": 99,
   "metadata": {},
   "outputs": [],
   "source": [
    "class FiniteFieldExtension:\n",
    "    def __init__(self, b, c, prime, r):\n",
    "        \"\"\"F_p^2 = F_p[alpha], alpha^2 = r\"\"\"\n",
    "        self.b = FiniteField(b, prime)\n",
    "        self.c = FiniteField(c, prime)\n",
    "        self.prime = prime\n",
    "        self.r = FiniteField(r, prime)\n",
    "        \n",
    "        squares = set((i * i) % prime for i in range(prime))\n",
    "        if self.r.value in squares:\n",
    "            raise ValueError(f\"{r} is a square in F_{prime}, cannot use for extension\")\n",
    "        \n",
    "    def __add__(self, other:\"FiniteFieldExtension\") -> \"FiniteFieldExtension\":\n",
    "        if self.prime != other.prime:\n",
    "            raise ValueError(\"Primes must be the same\")\n",
    "        \n",
    "        return FiniteFieldExtension(\n",
    "            (self.b + other.b).value,\n",
    "            (self.c + other.c).value,\n",
    "            self.prime,\n",
    "            self.r.value\n",
    "        )\n",
    "        \n",
    "    def __sub__(self, other):\n",
    "        if self.prime != other.prime or self.r != other.r:\n",
    "            raise ValueError(\"Fields must be the same\")\n",
    "        return FiniteFieldExtension(\n",
    "            (self.b - other.b).value,\n",
    "            (self.c - other.c).value,\n",
    "            self.prime,\n",
    "            self.r.value\n",
    "        )\n",
    "        \n",
    "    def __mul__(self, other):\n",
    "        if self.prime != other.prime or self.r != other.r:\n",
    "            raise ValueError(\"Fields must be the same\")\n",
    "        b_new = (self.b * other.b + self.c * other.c * self.r).value\n",
    "        c_new = (self.b * other.c + self.c * other.b).value\n",
    "        return FiniteFieldExtension(b_new, c_new, self.prime, self.r.value)\n",
    "    \n",
    "    def __truediv__(self, other):\n",
    "        if self.prime != other.prime or self.r != other.r:\n",
    "            raise ValueError(\"Fields must be the same\")\n",
    "        if other.b.value == 0 and other.c.value == 0:\n",
    "            raise ZeroDivisionError(\"Cannot divide by zero in FiniteFieldExtension\")\n",
    "        \n",
    "        # Denominator: (other.b + other.c*alpha) * (other.b - other.c*alpha) = other.b^2 - other.c^2 * r\n",
    "        # denom = other.b * other.b - other.c * other.c * self.r  # Keep as FiniteField\n",
    "        denom = FiniteFieldExtension((other.b * other.b - other.c * other.c * self.r).value, 0, self.prime, self.r.value)\n",
    "        \n",
    "        \n",
    "        # Numerator: (self.b + self.c*alpha) * (other.b - other.c*alpha) = (self.b*other.b - self.c*other.c*r) + (self.c*other.b - self.b*other.c)*alpha\n",
    "        num_b = (self.b * other.b - self.c * other.c * self.r).value\n",
    "        num_c = (self.c * other.b - self.b * other.c).value\n",
    "        num = FiniteFieldExtension(num_b, num_c, self.prime, self.r.value)\n",
    "        \n",
    "        return num * denom.inverse()\n",
    "\n",
    "    def __neg__(self):\n",
    "        return FiniteFieldExtension((-self.b).value, (-self.c).value, self.prime, self.r.value)\n",
    "\n",
    "    def __eq__(self, other):\n",
    "        return (isinstance(other, FiniteFieldExtension) and\n",
    "                self.b == other.b and self.c == other.c and\n",
    "                self.prime == other.prime and self.r == other.r)\n",
    "\n",
    "    def __hash__(self):\n",
    "        return hash((self.b.value, self.c.value, self.prime, self.r.value))\n",
    "\n",
    "    def __repr__(self):\n",
    "        return f\"FiniteFieldExtension({self.b.value} + {self.c.value}*alpha, prime={self.prime}, alpha^2={self.r.value})\"\n",
    "    \n",
    "    def inverse(self):\n",
    "        \"\"\"F_p^2에서 역원을 계산하는 메서드\"\"\"\n",
    "        if self.b.value == 0 and self.c.value == 0:\n",
    "            raise ZeroDivisionError(\"Cannot invert zero in FiniteFieldExtension\")\n",
    "\n",
    "        # 분모 계산: (b^2 - c^2 * r) mod p\n",
    "        denom = FiniteField((self.b * self.b - self.c * self.c * self.r).value, self.prime)\n",
    "\n",
    "        # 분모의 역원 계산 (pow()를 사용하여 모듈로 역원 구하기)\n",
    "        denom_inv = FiniteField(pow(denom.value, -1, self.prime), self.prime)\n",
    "\n",
    "        # 분자의 계수: 켤레(conjugate)를 사용\n",
    "        b_new = self.b * denom_inv\n",
    "        c_new = (-self.c) * denom_inv  # c에 -1을 곱함\n",
    "\n",
    "        return FiniteFieldExtension(b_new.value, c_new.value, self.prime, self.r.value)\n",
    "        "
   ]
  },
  {
   "cell_type": "code",
   "execution_count": 102,
   "metadata": {},
   "outputs": [
    {
     "name": "stdout",
     "output_type": "stream",
     "text": [
      "a * b = FiniteFieldExtension(3 + 0*alpha, prime=5, alpha^2=2)\n",
      "a^-1 = FiniteFieldExtension(4 + 1*alpha, prime=5, alpha^2=2)\n",
      "a*a^-1 = FiniteFieldExtension(1 + 0*alpha, prime=5, alpha^2=2)\n",
      "a / b = FiniteFieldExtension(1 + 4*alpha, prime=5, alpha^2=2)\n"
     ]
    }
   ],
   "source": [
    "# F_5 확장체 정의 (α^2 = 2)\n",
    "a = FiniteFieldExtension(1, 1, 5, 2)\n",
    "b = FiniteFieldExtension(2, 3, 5, 2)\n",
    "\n",
    "# 곱셈 테스트\n",
    "print(f\"a * b = {a * b}\")\n",
    "\n",
    "# 역원 테스트\n",
    "print(f\"a^-1 = {a.inverse()}\")\n",
    "print(f\"a*a^-1 = {a * a.inverse()}\")\n",
    "# 나눗셈 테스트\n",
    "print(f\"a / b = {a / b}\")\n"
   ]
  },
  {
   "cell_type": "code",
   "execution_count": 113,
   "metadata": {},
   "outputs": [],
   "source": [
    "class EllipticCurve:\n",
    "    def __init__(self, a, b, prime):\n",
    "        '''y^2 = x^3 + ax + b mod prime'''\n",
    "        self.a = a\n",
    "        self.b = b\n",
    "        self.prime = prime\n",
    "        self.infinity = None\n",
    "        self.points = [self.infinity]\n",
    "\n",
    "        if isinstance(a, FiniteField) and isinstance(b, FiniteField):\n",
    "            self.field_type = \"FiniteField\"\n",
    "            self.r = None\n",
    "            self.discriminant = (FiniteField(4, self.prime) * (self.a * self.a * self.a) + \n",
    "                                FiniteField(27, self.prime) * (self.b * self.b)).value\n",
    "            if self.discriminant % self.prime == 0:\n",
    "                raise ValueError(\"This curve is not elliptic (discriminant is zero)\")\n",
    "\n",
    "            for x_val in range(self.prime):\n",
    "                for y_val in range(self.prime):\n",
    "                    x = FiniteField(x_val, self.prime)\n",
    "                    y = FiniteField(y_val, self.prime)\n",
    "                    if self.is_point_on_curve(x, y):\n",
    "                        self.points.append((x, y))\n",
    "                        \n",
    "        elif isinstance(a, FiniteFieldExtension) and isinstance(b, FiniteFieldExtension):\n",
    "            self.field_type = \"FiniteFieldExtension\"\n",
    "            self.r = a.r.value\n",
    "            self.discriminant = (FiniteFieldExtension(4, 0, self.prime, self.r) * (self.a * self.a * self.a) + \n",
    "                                FiniteFieldExtension(27, 0, self.prime, self.r) * (self.b * self.b))\n",
    "            if self.discriminant.b.value == 0 and self.discriminant.c.value == 0:\n",
    "                raise ValueError(\"This curve is not elliptic (discriminant is zero)\")\n",
    "\n",
    "            squares = set()\n",
    "            for b_val_y in range(self.prime):\n",
    "                for c_val_y in range(self.prime):\n",
    "                    y = FiniteFieldExtension(b_val_y, c_val_y, self.prime, self.r)\n",
    "                    y2 = y * y\n",
    "                    squares.add((y2.b.value, y2.c.value))\n",
    "\n",
    "            for b_val in range(self.prime):\n",
    "                for c_val in range(self.prime):\n",
    "                    x = FiniteFieldExtension(b_val, c_val, self.prime, self.r)\n",
    "                    rhs = x * x * x + self.a * x + self.b\n",
    "                    if (rhs.b.value, rhs.c.value) in squares:\n",
    "                        for b_val_y in range(self.prime):\n",
    "                            for c_val_y in range(self.prime):\n",
    "                                y = FiniteFieldExtension(b_val_y, c_val_y, self.prime, self.r)\n",
    "                                lhs = y * y\n",
    "                                if lhs.b.value == rhs.b.value and lhs.c.value == rhs.c.value:\n",
    "                                    self.points.append((x, y))\n",
    "        else:\n",
    "            raise ValueError(\"a and b must both be either FiniteField or FiniteFieldExtension instances\")\n",
    "\n",
    "    def is_point_on_curve(self, x, y):\n",
    "        left = (y * y)\n",
    "        right = (x * x * x + self.a * x + self.b)\n",
    "        if self.field_type == \"FiniteField\":\n",
    "            return left.value == right.value % self.prime\n",
    "        else:\n",
    "            return left.b.value == right.b.value and left.c.value == right.c.value\n",
    "\n",
    "    def add_points(self, p1, p2):\n",
    "        if p1 not in self.points or p2 not in self.points:\n",
    "            raise ValueError(f\"Points are not on the curve: p1={p1}, p2={p2}\")\n",
    "        \n",
    "        if p1 is self.infinity:\n",
    "            return p2\n",
    "        if p2 is self.infinity:\n",
    "            return p1     \n",
    "        \n",
    "        x1, y1 = p1\n",
    "        x2, y2 = p2\n",
    "        \n",
    "        if x1 == x2 and y1 != y2:\n",
    "            return self.infinity\n",
    "        \n",
    "        if p1 == p2:\n",
    "            if (isinstance(y1, FiniteField) and y1.value == 0) or \\\n",
    "            (isinstance(y1, FiniteFieldExtension) and y1.b.value == 0 and y1.c.value == 0):\n",
    "                return self.infinity\n",
    "            if self.field_type == \"FiniteField\":\n",
    "                slope = (FiniteField(3, self.prime) * x1 * x1 + self.a) / (FiniteField(2, self.prime) * y1)\n",
    "            else:\n",
    "                three = FiniteFieldExtension(3, 0, self.prime, self.r)\n",
    "                two = FiniteFieldExtension(2, 0, self.prime, self.r)\n",
    "                slope = (three * x1 * x1 + self.a) / (two * y1)\n",
    "        else:\n",
    "            if x1 == x2:\n",
    "                return self.infinity\n",
    "            slope = (y2 - y1) / (x2 - x1)\n",
    "            \n",
    "        x3 = slope * slope - x1 - x2\n",
    "        y3 = slope * (x1 - x3) - y1\n",
    "        if self.field_type == \"FiniteFieldExtension\":\n",
    "            x3 = FiniteFieldExtension(x3.b.value % self.prime, x3.c.value % self.prime, self.prime, self.r)\n",
    "            y3 = FiniteFieldExtension(y3.b.value % self.prime, y3.c.value % self.prime, self.prime, self.r)\n",
    "            \n",
    "        result = (x3, y3)\n",
    "        if not self.is_point_on_curve(x3, y3):\n",
    "            raise ValueError(f\"Invalid add. Add result is not in the curve: {result}.\\n p1:{p1}, p2:{p2} \\n points: {self.points}\")\n",
    "        return result\n",
    "    \n",
    "    def multiply_point(self, p, n):\n",
    "        if p is None:\n",
    "            return self.infinity  # None 대신 항등원 반환\n",
    "        if n == 0:\n",
    "            return self.infinity  # 0배는 항등원\n",
    "        if n < 0:\n",
    "            return self.multiply_point((-p[0], -p[1]), -n)  # 음수 스칼라 지원\n",
    "        \n",
    "        result = self.infinity  # 초기값을 항등원으로 설정\n",
    "        temp = p\n",
    "        n = n % self.prime  # 모듈로 p로 줄임 (선택 사항, 큰 n 방지)\n",
    "        \n",
    "        while n > 0:\n",
    "            if n % 2 == 1:\n",
    "                result = self.add_points(result, temp)\n",
    "            temp = self.add_points(temp, temp)\n",
    "            n //= 2\n",
    "        return result\n",
    "    \n",
    "    def find_points_of_order_n(self, n):\n",
    "        result = []\n",
    "        for point in self.points:\n",
    "            if point is None:\n",
    "                continue\n",
    "            if self.multiply_point(point, n) == self.infinity:\n",
    "                order = 1\n",
    "                current = point\n",
    "                while current != self.infinity and order <= n:\n",
    "                    current = self.add_points(current, point)\n",
    "                    order += 1\n",
    "                if order == n:\n",
    "                    result.append(point)\n",
    "        return result\n",
    "    \n",
    "    def is_linear_independent(self, p1, p2, n=6):\n",
    "        if p1 == self.infinity or p2 == self.infinity:\n",
    "            return False\n",
    "        \n",
    "        # p1을 F_p^2로 확장\n",
    "        x1, y1 = p1\n",
    "        if isinstance(x1, FiniteField) and isinstance(y1, FiniteField):\n",
    "            extended_p1 = (x1.to_extension(self.r), y1.to_extension(self.r))\n",
    "        else:\n",
    "            extended_p1 = p1\n",
    "        \n",
    "        # a*p1 + b*p2 = O 확인\n",
    "        for a in range(n):\n",
    "            for b in range(n):\n",
    "                if a == 0 and b == 0:\n",
    "                    continue\n",
    "                if self.add_points(self.multiply_point(extended_p1, a), self.multiply_point(p2, b)) == self.infinity:\n",
    "                    return False\n",
    "        return True\n",
    "    \n",
    "    def __repr__(self):\n",
    "        return f\"EllipticCurve(y^2 = x^3 + {self.a}x + {self.b} over F_{self.prime})\"\n",
    "\t\t"
   ]
  },
  {
   "cell_type": "code",
   "execution_count": 114,
   "metadata": {},
   "outputs": [
    {
     "name": "stdout",
     "output_type": "stream",
     "text": [
      "[None, (FiniteFieldExtension(0 + 0*alpha, prime=5, alpha^2=2), FiniteFieldExtension(1 + 0*alpha, prime=5, alpha^2=2)), (FiniteFieldExtension(0 + 0*alpha, prime=5, alpha^2=2), FiniteFieldExtension(4 + 0*alpha, prime=5, alpha^2=2)), (FiniteFieldExtension(0 + 2*alpha, prime=5, alpha^2=2), FiniteFieldExtension(2 + 4*alpha, prime=5, alpha^2=2)), (FiniteFieldExtension(0 + 2*alpha, prime=5, alpha^2=2), FiniteFieldExtension(3 + 1*alpha, prime=5, alpha^2=2)), (FiniteFieldExtension(0 + 3*alpha, prime=5, alpha^2=2), FiniteFieldExtension(2 + 1*alpha, prime=5, alpha^2=2)), (FiniteFieldExtension(0 + 3*alpha, prime=5, alpha^2=2), FiniteFieldExtension(3 + 4*alpha, prime=5, alpha^2=2)), (FiniteFieldExtension(1 + 0*alpha, prime=5, alpha^2=2), FiniteFieldExtension(0 + 1*alpha, prime=5, alpha^2=2)), (FiniteFieldExtension(1 + 0*alpha, prime=5, alpha^2=2), FiniteFieldExtension(0 + 4*alpha, prime=5, alpha^2=2)), (FiniteFieldExtension(1 + 1*alpha, prime=5, alpha^2=2), FiniteFieldExtension(0 + 2*alpha, prime=5, alpha^2=2)), (FiniteFieldExtension(1 + 1*alpha, prime=5, alpha^2=2), FiniteFieldExtension(0 + 3*alpha, prime=5, alpha^2=2)), (FiniteFieldExtension(1 + 4*alpha, prime=5, alpha^2=2), FiniteFieldExtension(0 + 2*alpha, prime=5, alpha^2=2)), (FiniteFieldExtension(1 + 4*alpha, prime=5, alpha^2=2), FiniteFieldExtension(0 + 3*alpha, prime=5, alpha^2=2)), (FiniteFieldExtension(2 + 0*alpha, prime=5, alpha^2=2), FiniteFieldExtension(2 + 0*alpha, prime=5, alpha^2=2)), (FiniteFieldExtension(2 + 0*alpha, prime=5, alpha^2=2), FiniteFieldExtension(3 + 0*alpha, prime=5, alpha^2=2)), (FiniteFieldExtension(2 + 1*alpha, prime=5, alpha^2=2), FiniteFieldExtension(2 + 1*alpha, prime=5, alpha^2=2)), (FiniteFieldExtension(2 + 1*alpha, prime=5, alpha^2=2), FiniteFieldExtension(3 + 4*alpha, prime=5, alpha^2=2)), (FiniteFieldExtension(2 + 2*alpha, prime=5, alpha^2=2), FiniteFieldExtension(0 + 1*alpha, prime=5, alpha^2=2)), (FiniteFieldExtension(2 + 2*alpha, prime=5, alpha^2=2), FiniteFieldExtension(0 + 4*alpha, prime=5, alpha^2=2)), (FiniteFieldExtension(2 + 3*alpha, prime=5, alpha^2=2), FiniteFieldExtension(0 + 1*alpha, prime=5, alpha^2=2)), (FiniteFieldExtension(2 + 3*alpha, prime=5, alpha^2=2), FiniteFieldExtension(0 + 4*alpha, prime=5, alpha^2=2)), (FiniteFieldExtension(2 + 4*alpha, prime=5, alpha^2=2), FiniteFieldExtension(2 + 4*alpha, prime=5, alpha^2=2)), (FiniteFieldExtension(2 + 4*alpha, prime=5, alpha^2=2), FiniteFieldExtension(3 + 1*alpha, prime=5, alpha^2=2)), (FiniteFieldExtension(3 + 0*alpha, prime=5, alpha^2=2), FiniteFieldExtension(0 + 2*alpha, prime=5, alpha^2=2)), (FiniteFieldExtension(3 + 0*alpha, prime=5, alpha^2=2), FiniteFieldExtension(0 + 3*alpha, prime=5, alpha^2=2)), (FiniteFieldExtension(3 + 1*alpha, prime=5, alpha^2=2), FiniteFieldExtension(2 + 1*alpha, prime=5, alpha^2=2)), (FiniteFieldExtension(3 + 1*alpha, prime=5, alpha^2=2), FiniteFieldExtension(3 + 4*alpha, prime=5, alpha^2=2)), (FiniteFieldExtension(3 + 2*alpha, prime=5, alpha^2=2), FiniteFieldExtension(0 + 0*alpha, prime=5, alpha^2=2)), (FiniteFieldExtension(3 + 3*alpha, prime=5, alpha^2=2), FiniteFieldExtension(0 + 0*alpha, prime=5, alpha^2=2)), (FiniteFieldExtension(3 + 4*alpha, prime=5, alpha^2=2), FiniteFieldExtension(2 + 4*alpha, prime=5, alpha^2=2)), (FiniteFieldExtension(3 + 4*alpha, prime=5, alpha^2=2), FiniteFieldExtension(3 + 1*alpha, prime=5, alpha^2=2)), (FiniteFieldExtension(4 + 0*alpha, prime=5, alpha^2=2), FiniteFieldExtension(0 + 0*alpha, prime=5, alpha^2=2)), (FiniteFieldExtension(4 + 1*alpha, prime=5, alpha^2=2), FiniteFieldExtension(2 + 0*alpha, prime=5, alpha^2=2)), (FiniteFieldExtension(4 + 1*alpha, prime=5, alpha^2=2), FiniteFieldExtension(3 + 0*alpha, prime=5, alpha^2=2)), (FiniteFieldExtension(4 + 4*alpha, prime=5, alpha^2=2), FiniteFieldExtension(2 + 0*alpha, prime=5, alpha^2=2)), (FiniteFieldExtension(4 + 4*alpha, prime=5, alpha^2=2), FiniteFieldExtension(3 + 0*alpha, prime=5, alpha^2=2))]\n",
      "(FiniteFieldExtension(1 + 1*alpha, prime=5, alpha^2=2), FiniteFieldExtension(0 + 2*alpha, prime=5, alpha^2=2))\n",
      "(FiniteFieldExtension(2 + 2*alpha, prime=5, alpha^2=2), FiniteFieldExtension(0 + 1*alpha, prime=5, alpha^2=2))\n"
     ]
    }
   ],
   "source": [
    "curve_q = EllipticCurve(a=FiniteFieldExtension(0, 0, 5, 2), b=FiniteFieldExtension(1, 0, 5, 2), prime=5)\n",
    "points = curve_q.points\n",
    "add_result = curve_q.add_points(points[9], points[9])\n",
    "print(curve_q.points)\n",
    "print(points[9])\n",
    "print(add_result)"
   ]
  },
  {
   "cell_type": "code",
   "execution_count": 115,
   "metadata": {},
   "outputs": [],
   "source": [
    "from collections import Counter\n",
    "\n",
    "class Divisor:\n",
    "    def __init__(self, curve: EllipticCurve):\n",
    "        self.curve = curve\n",
    "        self.points = curve.points\n",
    "        self.prime = curve.prime\n",
    "        self.r = self.points[1][0].r.value\n",
    "        \n",
    "    def generate_equiv_divisors(self, point, point_R):\n",
    "        \"\"\"(P) - (O)와 동등한 divisor 생성: (P + R) - (R)\"\"\"\n",
    "        P_plus_R = self.curve.add_points(point, point_R)\n",
    "        divisor = Counter()\n",
    "        divisor[P_plus_R] = 1\n",
    "        divisor[point_R] = -1\n",
    "        return divisor\n",
    "    \n",
    "    def compute_divisor_of_function(self, function, is_vertical=False, is_tangent=False):\n",
    "        divisor = Counter()\n",
    "        a, b, c = function\n",
    "        number_of_zeros = 0\n",
    "\n",
    "        # 영점 계산\n",
    "        for point in self.points:\n",
    "            if point == self.curve.infinity:\n",
    "                continue\n",
    "            x, y = point\n",
    "            value = a * x + b * y + c\n",
    "            if value.b.value == 0 and value.c.value == 0:  # FiniteFieldExtension에서 0 판단\n",
    "                divisor[point] += 1  # 영점 계수 증가\n",
    "                number_of_zeros += 1\n",
    "\n",
    "        # 극점 차수 설정\n",
    "        if is_vertical:\n",
    "            # 수직선의 경우 극점 차수는 -2 (타원 곡선과 교점이 2개)\n",
    "            divisor[self.curve.infinity] = -2\n",
    "        elif is_tangent:\n",
    "            # 접선의 경우 극점 차수는 -3 (중복 교점 포함)\n",
    "            divisor[self.curve.infinity] = -3\n",
    "        else:\n",
    "            # 일반 직선의 경우 극점 차수는 -3 (타원 곡선과 교점이 3개)\n",
    "            divisor[self.curve.infinity] = -3\n",
    "\n",
    "        return divisor\n",
    "            \n",
    "    def evaluate_function(self, divisor, linear_function, is_vertical=False, is_tangent=False):\n",
    "        # 직선 함수의 divisor 계산\n",
    "        #function_divisor = self.compute_divisor_of_function(linear_function, is_vertical, is_tangent)\n",
    "        result = FiniteFieldExtension(1, 0, self.curve.prime, self.r)\n",
    "        a, b, c = linear_function\n",
    "        \n",
    "        # divisor에 따라 값 평가\n",
    "        for point, exponent in divisor.items():\n",
    "            if point == self.curve.infinity:\n",
    "                continue\n",
    "            x, y = point\n",
    "            value = a * x + b * y + c\n",
    "            #print(f\"Evaluating at {point}: {value} (function divisor at {point} = {function_divisor[point]})\")\n",
    "            if value.b.value == 0 and value.c.value == 0:\n",
    "                raise ValueError(\"Function evaluation resulted in zero, which may cause invalid pairing.\")\n",
    "            if exponent > 0:\n",
    "                for _ in range(exponent):\n",
    "                    result = result * value\n",
    "            elif exponent < 0:\n",
    "                value_inv = value.inverse()\n",
    "                for _ in range(-exponent):\n",
    "                    result = result * value_inv\n",
    "        \n",
    "        # 극점 처리 (function_divisor의 극점 차수 반영)\n",
    "        ''' \n",
    "            if function_divisor[self.curve.infinity] < 0:\n",
    "                value_at_infinity = FiniteFieldExtension(1, 0, self.curve.prime, self.r)  # 극점에서의 값은 1로 가정\n",
    "                for _ in range(-function_divisor[self.curve.infinity]):\n",
    "                    result = result / value_at_infinity\n",
    "            '''\n",
    "        return result"
   ]
  },
  {
   "cell_type": "code",
   "execution_count": 116,
   "metadata": {},
   "outputs": [],
   "source": [
    "class WeilPairing:\n",
    "    def __init__(self, curve: EllipticCurve, P, Q, R_P=None, R_Q=None):\n",
    "            self.curve = curve\n",
    "            self.P = P\n",
    "            self.Q = Q\n",
    "            self.r = self.curve.points[1][0].r.value\n",
    "            if P not in curve.points or Q not in curve.points:\n",
    "                raise ValueError(\"Points are not on the curve\")\n",
    "            self.div = Divisor(curve)\n",
    "            self.R_P = R_P\n",
    "            self.R_Q = R_Q\n",
    "            \n",
    "    def line_through_vertical(self, P):\n",
    "        # 먼저 무한대점인지 확인\n",
    "        if P == self.curve.infinity:\n",
    "                return (FiniteFieldExtension(0, 0, self.curve.prime, self.r),\n",
    "                        FiniteFieldExtension(0, 0, self.curve.prime, self.r),\n",
    "                        FiniteFieldExtension(1, 0, self.curve.prime, self.r))  # f = 1\n",
    "        # 그 다음에 언팩\n",
    "        x, y = P\n",
    "        return (FiniteFieldExtension(1, 0, self.curve.prime, self.r),\n",
    "                FiniteFieldExtension(0, 0, self.curve.prime, self.r),\n",
    "                -x)\n",
    "    \n",
    "    def line_through_points(self, P, Q):\n",
    "        # 먼저 무한대점인지 확인\n",
    "        if P == self.curve.infinity or Q == self.curve.infinity:\n",
    "                return (FiniteFieldExtension(0, 0, self.curve.prime, self.r),\n",
    "                        FiniteFieldExtension(0, 0, self.curve.prime, self.r),\n",
    "                        FiniteFieldExtension(1, 0, self.curve.prime, self.r))  # f = 1\n",
    "        \n",
    "        # 그 다음에 언팩\n",
    "        x1, y1 = P\n",
    "        x2, y2 = Q\n",
    "        \n",
    "        # 나머지 로직은 동일\n",
    "        if P == Q:\n",
    "            if (isinstance(y1, FiniteField) and y1.value == 0) or \\\n",
    "            (isinstance(y1, FiniteFieldExtension) and y1.b.value == 0 and y1.c.value == 0):\n",
    "                return (FiniteFieldExtension(1, 0, self.curve.prime, self.r),\n",
    "                        FiniteFieldExtension(0, 0, self.curve.prime, self.r),\n",
    "                        -x1)\n",
    "            slope = (FiniteFieldExtension(3, 0, self.curve.prime, self.r) * x1 * x1 + self.curve.a) / \\\n",
    "                    (FiniteFieldExtension(2, 0, self.curve.prime, self.r) * y1)\n",
    "            a = -slope\n",
    "            b = FiniteFieldExtension(1, 0, self.curve.prime, self.r)\n",
    "            c = slope * x1 - y1\n",
    "            return (a, b, c)\n",
    "        else:\n",
    "            if x1 == x2:\n",
    "                return (FiniteFieldExtension(1, 0, self.curve.prime, self.r),\n",
    "                        FiniteFieldExtension(0, 0, self.curve.prime, self.r),\n",
    "                        -x1)\n",
    "            slope = (y2 - y1) / (x2 - x1)\n",
    "            a = -slope\n",
    "            b = FiniteFieldExtension(1, 0, self.curve.prime, self.r)\n",
    "            c = y1 - slope * x1\n",
    "            return (a, b, c)\n",
    "                \n",
    "    def miller(self, order, point, divisor):\n",
    "        if point == self.curve.infinity:\n",
    "            return FiniteFieldExtension(1, 0, self.curve.prime, self.curve.r)  # e(O, Q) = 1\n",
    "        bin_order = bin(order)[2:]\n",
    "        Z = point\n",
    "        V = FiniteFieldExtension(1, 0, self.curve.prime, self.curve.r)\n",
    "        \n",
    "        for i in range(len(bin_order)):\n",
    "            #print(f\"Step {i}, Before Double: Z = {Z}, V = {V}\")\n",
    "            if Z == self.curve.infinity:\n",
    "                continue  # Z가 O일 때는 계산 건너뛰기\n",
    "            numerator = self.div.evaluate_function(divisor, self.line_through_points(Z, Z))\n",
    "            denominator = self.div.evaluate_function(divisor, self.line_through_vertical(self.curve.add_points(Z, Z)))\n",
    "            #print(f\"numerator = {numerator}, denominator = {denominator}\")\n",
    "            V = V * V * (numerator / denominator)\n",
    "            #print(f\"After Double: V = {V}\")\n",
    "            Z = self.curve.add_points(Z, Z)\n",
    "            if bin_order[i] == '1':\n",
    "                #print(f\"Step {i}, Before Add: Z = {Z}, V = {V}\")\n",
    "                if Z == self.curve.infinity:\n",
    "                    continue  # Z가 O일 때는 계산 건너뛰기\n",
    "                Z = self.curve.add_points(Z, point)\n",
    "                if Z == self.curve.infinity:\n",
    "                    continue\n",
    "                numerator = self.div.evaluate_function(divisor, self.line_through_points(Z, point))\n",
    "                denominator = self.div.evaluate_function(divisor, self.line_through_vertical(Z))\n",
    "                #print(f\"numerator = {numerator}, denominator = {denominator}\")\n",
    "                V = V * (numerator / denominator)\n",
    "                #print(f\"After Add: V = {V}\")\n",
    "        return V\n",
    "\n",
    "    def compute_pairing(self, order):\n",
    "        if self.P == self.curve.infinity or self.Q == self.curve.infinity:\n",
    "            return FiniteFieldExtension(1, 0, self.curve.prime, self.curve.r), None, None\n",
    "        if self.P == self.Q:\n",
    "            return FiniteFieldExtension(1, 0, self.curve.prime, self.curve.r), None, None\n",
    "        \n",
    "        max_attempts = 50\n",
    "        for _ in range(max_attempts):\n",
    "            try:\n",
    "                if self.R_P is None:\n",
    "                    R_P = random.choice([pt for pt in self.curve.points if pt != self.P and pt != self.curve.infinity])\n",
    "                else: \n",
    "                    R_P = self.R_P\n",
    "                \n",
    "                if self.R_Q is None:\n",
    "                    R_Q = random.choice([pt for pt in self.curve.points if pt != self.Q and pt != self.curve.infinity])\n",
    "                else:\n",
    "                    R_Q = self.R_Q\n",
    "\n",
    "                divisor_P = self.div.generate_equiv_divisors(self.P, R_P)\n",
    "                divisor_Q = self.div.generate_equiv_divisors(self.Q, R_Q)\n",
    "                f_P_A_Q = self.miller(order, self.P, divisor_Q)\n",
    "                f_Q_A_P = self.miller(order, self.Q, divisor_P)\n",
    "                result = f_P_A_Q / f_Q_A_P\n",
    "                # 추가 검증: 결과가 0이 아닌지 확인\n",
    "                if result.b.value != 0 or result.c.value != 0:\n",
    "                    # order가 n인지 확인\n",
    "                    power_n = result\n",
    "                    for i in range(order - 1):\n",
    "                        power_n = power_n * result\n",
    "                    if power_n == FiniteFieldExtension(1, 0, self.curve.prime, self.curve.r):\n",
    "                        return result, R_P, R_Q\n",
    "            except ValueError:\n",
    "                continue\n",
    "        raise ValueError(\"Failed to compute pairing after multiple attempts\")\n"
   ]
  },
  {
   "cell_type": "code",
   "execution_count": 135,
   "metadata": {},
   "outputs": [
    {
     "name": "stdout",
     "output_type": "stream",
     "text": [
      "[(FiniteField(1, 17), FiniteField(6, 17)), (FiniteField(1, 17), FiniteField(11, 17)), (FiniteField(3, 17), FiniteField(8, 17)), (FiniteField(3, 17), FiniteField(9, 17)), (FiniteField(6, 17), FiniteField(1, 17)), (FiniteField(6, 17), FiniteField(16, 17)), (FiniteField(11, 17), FiniteField(4, 17)), (FiniteField(11, 17), FiniteField(13, 17)), (FiniteField(14, 17), FiniteField(2, 17)), (FiniteField(14, 17), FiniteField(15, 17)), (FiniteField(16, 17), FiniteField(7, 17)), (FiniteField(16, 17), FiniteField(10, 17))]\n",
      "[(FiniteFieldExtension(1 + 0*alpha, prime=17, alpha^2=5), FiniteFieldExtension(6 + 0*alpha, prime=17, alpha^2=5)), (FiniteFieldExtension(1 + 0*alpha, prime=17, alpha^2=5), FiniteFieldExtension(11 + 0*alpha, prime=17, alpha^2=5)), (FiniteFieldExtension(3 + 0*alpha, prime=17, alpha^2=5), FiniteFieldExtension(8 + 0*alpha, prime=17, alpha^2=5)), (FiniteFieldExtension(3 + 0*alpha, prime=17, alpha^2=5), FiniteFieldExtension(9 + 0*alpha, prime=17, alpha^2=5)), (FiniteFieldExtension(6 + 0*alpha, prime=17, alpha^2=5), FiniteFieldExtension(1 + 0*alpha, prime=17, alpha^2=5)), (FiniteFieldExtension(6 + 0*alpha, prime=17, alpha^2=5), FiniteFieldExtension(16 + 0*alpha, prime=17, alpha^2=5)), (FiniteFieldExtension(11 + 0*alpha, prime=17, alpha^2=5), FiniteFieldExtension(4 + 0*alpha, prime=17, alpha^2=5)), (FiniteFieldExtension(11 + 0*alpha, prime=17, alpha^2=5), FiniteFieldExtension(13 + 0*alpha, prime=17, alpha^2=5)), (FiniteFieldExtension(14 + 0*alpha, prime=17, alpha^2=5), FiniteFieldExtension(2 + 0*alpha, prime=17, alpha^2=5)), (FiniteFieldExtension(14 + 0*alpha, prime=17, alpha^2=5), FiniteFieldExtension(15 + 0*alpha, prime=17, alpha^2=5)), (FiniteFieldExtension(16 + 0*alpha, prime=17, alpha^2=5), FiniteFieldExtension(7 + 0*alpha, prime=17, alpha^2=5)), (FiniteFieldExtension(16 + 0*alpha, prime=17, alpha^2=5), FiniteFieldExtension(10 + 0*alpha, prime=17, alpha^2=5))]\n"
     ]
    }
   ],
   "source": [
    "curve_p = EllipticCurve(a=FiniteField(1, 17), b=FiniteField(0, 17), prime=17)\n",
    "curve_q = EllipticCurve(a=FiniteFieldExtension(1, 0, 17, 5), b=FiniteFieldExtension(0, 0, 17, 5), prime=17)\n",
    "\n",
    "points_p_of_order_6 = [p for p in curve_p.find_points_of_order_n(4) if p is not None]\n",
    "points_q_of_order_6 = [p for p in curve_q.find_points_of_order_n(4) if p is not None]\n",
    "\n",
    "print(points_p_of_order_6)\n",
    "print(points_q_of_order_6)"
   ]
  },
  {
   "cell_type": "code",
   "execution_count": null,
   "metadata": {},
   "outputs": [],
   "source": []
  },
  {
   "cell_type": "code",
   "execution_count": 160,
   "metadata": {},
   "outputs": [],
   "source": [
    "import random\n",
    "curve_p = EllipticCurve(a=FiniteField(1, 17), b=FiniteField(0, 17), prime=17)\n",
    "curve_q = EllipticCurve(a=FiniteFieldExtension(1, 0, 17, 5), b=FiniteFieldExtension(0, 0, 17, 5), prime=17)\n",
    "extension = 5\n",
    "points_p_of_order_6 = [p for p in curve_p.find_points_of_order_n(4) if p is not None]\n",
    "points_q_of_order_6 = [p for p in curve_q.find_points_of_order_n(4) if p is not None]\n",
    "\n",
    "if not points_p_of_order_6:\n",
    "    raise ValueError(\"No point of order 6 found in E(F_p). Change order n\")\n",
    "if not points_q_of_order_6:\n",
    "    raise ValueError(\"No point of order 6 found in E(F_p^2). Change order n\")\n",
    "\n",
    "point_P = random.choice(points_p_of_order_6)\n",
    "extended_point_P = (point_P[0].to_extension(extension), point_P[1].to_extension(extension))\n",
    "point_Q = random.choice(points_q_of_order_6)\n",
    "    \n",
    "    \n",
    "def test_properties_nth_root(curve_q, point_P, point_Q):\n",
    "    print(\"Testing properties of Weil Pairing...\")\n",
    "    print(f\"Curve: {curve_q}\")\n",
    "    print(f\"Point P: {point_P}\")\n",
    "    print(f\"Point Q: {point_Q}\")\n",
    "    # 선형 독립성 확인\n",
    "    '''\n",
    "    if not curve_q.is_linear_independent(point_P, point_Q):\n",
    "        print(\"Points are linearly dependent, choosing new Q...\")\n",
    "        for q in points_q_of_order_6:\n",
    "            if curve_q.is_linear_independent(point_P, q):\n",
    "                point_Q = q\n",
    "                break\n",
    "        else:\n",
    "            raise ValueError(\"Could not find linearly independent Q\")\n",
    "    '''\n",
    "    weil_pairing = WeilPairing(curve_q, extended_point_P, point_Q)\n",
    "    result, R_P, R_Q = weil_pairing.compute_pairing(6)\n",
    "    print(f'{1}th order: {result}')\n",
    "    power_6 = result\n",
    "    print(\"----------------\")\n",
    "    for i in range(1, 6):\n",
    "        power_6 = power_6 * result\n",
    "        print(f'{i+1}th order: {power_6}')        \n",
    "    print(\"----------------\")    \n",
    "    assert power_6 == FiniteFieldExtension(1, 0, 17, extension), f\"Identity property failed: e(P, Q)^6 = {power_6} != 1\"\n",
    "    print(\"Identity property test passed!\")\n",
    "    \n",
    "    weil_pairing = WeilPairing(curve_q, extended_point_P, point_Q, R_P, R_Q)\n",
    "    result, R_P, R_Q = weil_pairing.compute_pairing(6)\n",
    "    print(f'{1}th order: {result}')\n",
    "    power_6 = result\n",
    "    print(\"----------------\")\n",
    "    for i in range(1, 6):\n",
    "        power_6 = power_6 * result\n",
    "        print(f'{i+1}th order: {power_6}')        \n",
    "    print(\"----------------\")    \n",
    "    assert power_6 == FiniteFieldExtension(1, 0, 17, extension), f\"Identity property failed: e(P, Q)^6 = {power_6} != 1\"\n",
    "    print(\"Identity property test passed!\")"
   ]
  },
  {
   "cell_type": "code",
   "execution_count": 161,
   "metadata": {},
   "outputs": [
    {
     "name": "stdout",
     "output_type": "stream",
     "text": [
      "Testing properties of Weil Pairing...\n",
      "Curve: EllipticCurve(y^2 = x^3 + FiniteFieldExtension(1 + 0*alpha, prime=17, alpha^2=5)x + FiniteFieldExtension(0 + 0*alpha, prime=17, alpha^2=5) over F_17)\n",
      "Point P: (FiniteField(6, 17), FiniteField(16, 17))\n",
      "Point Q: (FiniteFieldExtension(1 + 0*alpha, prime=17, alpha^2=5), FiniteFieldExtension(11 + 0*alpha, prime=17, alpha^2=5))\n",
      "1th order: FiniteFieldExtension(8 + 13*alpha, prime=17, alpha^2=5)\n",
      "----------------\n",
      "2th order: FiniteFieldExtension(8 + 4*alpha, prime=17, alpha^2=5)\n",
      "3th order: FiniteFieldExtension(1 + 0*alpha, prime=17, alpha^2=5)\n",
      "4th order: FiniteFieldExtension(8 + 13*alpha, prime=17, alpha^2=5)\n",
      "5th order: FiniteFieldExtension(8 + 4*alpha, prime=17, alpha^2=5)\n",
      "6th order: FiniteFieldExtension(1 + 0*alpha, prime=17, alpha^2=5)\n",
      "----------------\n",
      "Identity property test passed!\n",
      "1th order: FiniteFieldExtension(8 + 13*alpha, prime=17, alpha^2=5)\n",
      "----------------\n",
      "2th order: FiniteFieldExtension(8 + 4*alpha, prime=17, alpha^2=5)\n",
      "3th order: FiniteFieldExtension(1 + 0*alpha, prime=17, alpha^2=5)\n",
      "4th order: FiniteFieldExtension(8 + 13*alpha, prime=17, alpha^2=5)\n",
      "5th order: FiniteFieldExtension(8 + 4*alpha, prime=17, alpha^2=5)\n",
      "6th order: FiniteFieldExtension(1 + 0*alpha, prime=17, alpha^2=5)\n",
      "----------------\n",
      "Identity property test passed!\n"
     ]
    }
   ],
   "source": [
    "test_properties_nth_root(curve_q, point_P, point_Q)"
   ]
  },
  {
   "cell_type": "code",
   "execution_count": 164,
   "metadata": {},
   "outputs": [],
   "source": [
    "def test_properties_equal_points():\n",
    "    prime = 17\n",
    "    curve_p = EllipticCurve(a=FiniteField(1, prime), b=FiniteField(0, prime), prime=prime)\n",
    "    curve_q = EllipticCurve(a=FiniteFieldExtension(1, 0, prime, 5), b=FiniteFieldExtension(0, 0, prime, 5), prime=prime)\n",
    "    extension = 5\n",
    "    points_p_of_order_6 = [p for p in curve_p.find_points_of_order_n(4) if p is not None]\n",
    "    points_q_of_order_6 = [p for p in curve_q.find_points_of_order_n(4) if p is not None]\n",
    "    \n",
    "    if not points_p_of_order_6:\n",
    "        raise ValueError(\"No point of order 6 found in E(F_p). Change order n\")\n",
    "    \n",
    "    if not points_q_of_order_6:\n",
    "        raise ValueError(\"No point of order 6 found in E(F_p^2). Change order n\")\n",
    "    \n",
    "    # 다양한 점 테스트\n",
    "    for point_on_p in points_p_of_order_6:\n",
    "        extended_point_p = (point_on_p[0].to_extension(extension), point_on_p[1].to_extension(extension))\n",
    "        weil = WeilPairing(curve_q, extended_point_p, extended_point_p)\n",
    "        result, _, _ = weil.compute_pairing(6)\n",
    "        assert result == FiniteFieldExtension(1, 0, prime, extension), f\"Failed for point {point_on_p}\"\n",
    "    \n",
    "    for point_on_q in points_q_of_order_6:\n",
    "        weil = WeilPairing(curve_q, point_on_q, point_on_q)\n",
    "        result, _, _ = weil.compute_pairing(6)\n",
    "        assert result == FiniteFieldExtension(1, 0, prime, extension), f\"Failed for point {point_on_q}\""
   ]
  },
  {
   "cell_type": "code",
   "execution_count": 165,
   "metadata": {},
   "outputs": [],
   "source": [
    "test_properties_equal_points()"
   ]
  },
  {
   "cell_type": "code",
   "execution_count": 618,
   "metadata": {},
   "outputs": [],
   "source": [
    "# p = 5, n = 3 또는 n=6 일떄 서로 다른 P를 쓸경우 (P1, P2, Q)가 선형 독립인 조합 찾기 어려움\n",
    "# 따라서 P2 = O로 설정\n",
    "def test_properties_bilinear():\n",
    "    prime = 17\n",
    "    extension = 3\n",
    "    \n",
    "    curve_p = EllipticCurve(a=FiniteField(1, prime), b=FiniteField(0, prime), prime=prime)\n",
    "    curve_q = EllipticCurve(a=FiniteFieldExtension(1, 0, prime, extension), b=FiniteFieldExtension(0, 0, prime, extension), prime=prime)\n",
    "    n = 4\n",
    "    points_p_of_order_n = [p for p in curve_p.find_points_of_order_n(n) if p is not None]\n",
    "    points_q_of_order_n = [p for p in curve_q.find_points_of_order_n(n) if p is not None]\n",
    "    \n",
    "    \n",
    "    if not points_p_of_order_n:\n",
    "        raise ValueError(\"No point of order 6 found in E(F_p). Change order n\")\n",
    "    if not points_q_of_order_n:\n",
    "        raise ValueError(\"No point of order 6 found in E(F_p^2). Change order n\")\n",
    "    \n",
    "    point_P = random.choice(points_p_of_order_n)\n",
    "    extended_point_P = (point_P[0].to_extension(extension), point_P[1].to_extension(extension))\n",
    "    extended_added_point_P = curve_q.add_points(extended_point_P, curve_q.infinity)\n",
    "    point_Q = random.choice(points_q_of_order_n)\n",
    "    '''\n",
    "    if not (curve_q.is_linear_independent(extended_added_point_P, point_Q) and\n",
    "            curve_q.is_linear_independent(extended_point_P, point_Q)):\n",
    "        print(\"Points are linearly dependent, choosing new Q...\")\n",
    "        for q in points_q_of_order_n:\n",
    "            if (curve_q.is_linear_independent(extended_added_point_P, q) and\n",
    "                curve_q.is_linear_independent(extended_point_P, q)):\n",
    "                point_Q = q\n",
    "                break\n",
    "        else:\n",
    "            raise ValueError(\"Could not find linearly independent Q. Please run the test again to select new points.\")\n",
    "    '''    \n",
    "    print(f\"P = {extended_point_P}\")\n",
    "    print(f\"Q = {point_Q}\")\n",
    "    print(f\"P + Q = {extended_added_point_P}\") \n",
    "    \n",
    "    weil_pairing_lhs = WeilPairing(curve_q, extended_added_point_P, point_Q)\n",
    "    lhs, R_eaP, R_Q = weil_pairing_lhs.compute_pairing(n)\n",
    "    \n",
    "    weil_pairing_rhs1 = WeilPairing(curve_q, extended_point_P, point_Q, R_eaP, R_Q)\n",
    "    weil_pairing_rhs2 = WeilPairing(curve_q, curve_q.infinity, point_Q, None, R_Q)\n",
    "    \n",
    "    rhs1, _, R_rhsQ = weil_pairing_rhs1.compute_pairing(n)\n",
    "    rhs2, _, _ = weil_pairing_rhs2.compute_pairing(n)\n",
    "    rhs = rhs1 * rhs2\n",
    "    print(\"----------------\")\n",
    "    print(f\"e(P+Q, Q) = {lhs}, e(P, Q) = {rhs1}, e(Q, Q) = {rhs2}\")\n",
    "    print(f\"lhs = e(P+O, Q) = {lhs}, rhs = e(P, Q) * e(Q, Q) = {rhs}, lhs == rhs = {lhs == rhs}\")\n",
    "    assert R_Q == R_rhsQ, f\"Invalid R_Q lhs R_Q={R_Q}, rhs R_Q={R_rhsQ}\"\n",
    "    assert lhs == rhs, f\"Failed for bilinear test lhs={lhs}, rhs={rhs}\""
   ]
  },
  {
   "cell_type": "code",
   "execution_count": 619,
   "metadata": {},
   "outputs": [
    {
     "name": "stdout",
     "output_type": "stream",
     "text": [
      "P = (FiniteFieldExtension(6 + 0*alpha, prime=17, alpha^2=3), FiniteFieldExtension(1 + 0*alpha, prime=17, alpha^2=3))\n",
      "Q = (FiniteFieldExtension(3 + 0*alpha, prime=17, alpha^2=3), FiniteFieldExtension(9 + 0*alpha, prime=17, alpha^2=3))\n",
      "P + Q = (FiniteFieldExtension(6 + 0*alpha, prime=17, alpha^2=3), FiniteFieldExtension(1 + 0*alpha, prime=17, alpha^2=3))\n",
      "----------------\n",
      "e(P+Q, Q) = FiniteFieldExtension(16 + 0*alpha, prime=17, alpha^2=3), e(P, Q) = FiniteFieldExtension(16 + 0*alpha, prime=17, alpha^2=3), e(Q, Q) = FiniteFieldExtension(1 + 0*alpha, prime=17, alpha^2=3)\n",
      "lhs = e(P+O, Q) = FiniteFieldExtension(16 + 0*alpha, prime=17, alpha^2=3), rhs = e(P, Q) * e(Q, Q) = FiniteFieldExtension(16 + 0*alpha, prime=17, alpha^2=3), lhs == rhs = True\n"
     ]
    }
   ],
   "source": [
    "test_properties_bilinear()"
   ]
  },
  {
   "cell_type": "code",
   "execution_count": 180,
   "metadata": {},
   "outputs": [],
   "source": [
    "import random\n",
    "prime = 17\n",
    "curve_p = EllipticCurve(a=FiniteField(1, prime), b=FiniteField(0, prime), prime=prime)\n",
    "curve_q = EllipticCurve(a=FiniteFieldExtension(1, 0, prime, 5), b=FiniteFieldExtension(0, 0, prime, 5), prime=prime)\n",
    "extension = 5\n",
    "n = 4\n",
    "points_p_of_order_n = [p for p in curve_p.find_points_of_order_n(n) if p is not None]\n",
    "points_q_of_order_n = [p for p in curve_q.find_points_of_order_n(n) if p is not None]\n",
    "\n",
    "if not points_p_of_order_n:\n",
    "    raise ValueError(\"No point of order n found in E(F_p). Change order n\")\n",
    "if not points_q_of_order_n:\n",
    "    raise ValueError(\"No point of order n found in E(F_p^2). Change order n\")\n",
    "\n",
    "point_P = random.choice(points_p_of_order_n)\n",
    "extended_point_P = (point_P[0].to_extension(extension), point_P[1].to_extension(extension))\n",
    "point_Q = random.choice(points_q_of_order_n)\n",
    "    \n",
    "    \n",
    "def test_properties_alternative(curve_q, point_P, point_Q):\n",
    "    print(\"Testing properties of Weil Pairing...\")\n",
    "    print(f\"Curve: {curve_q}\")\n",
    "    print(f\"Point P: {point_P}\")\n",
    "    print(f\"Point Q: {point_Q}\")\n",
    "    # 선형 독립성 확인\n",
    "    '''\n",
    "    if not curve_q.is_linear_independent(point_P, point_Q):\n",
    "        print(\"Points are linearly dependent, choosing new Q...\")\n",
    "        for q in points_q_of_order_6:\n",
    "            if curve_q.is_linear_independent(point_P, q):\n",
    "                point_Q = q\n",
    "                break\n",
    "        else:\n",
    "            raise ValueError(\"Could not find linearly independent Q\")\n",
    "    '''\n",
    "    weil_pairing1 = WeilPairing(curve_q, extended_point_P, point_Q)\n",
    "    result1, R_P, R_Q = weil_pairing1.compute_pairing(6)\n",
    "    \n",
    "    weil_pairing2 = WeilPairing(curve_q, point_Q, extended_point_P, R_Q, R_P)\n",
    "    result2, _, __Q = weil_pairing2.compute_pairing(6)\n",
    "    \n",
    "    print(f'{result1}')\n",
    "    print(f'{result2}')\n",
    "    print(f'Alternative {result1*result2} should be 1 beacsue result1 and result2 are inverse')\n"
   ]
  },
  {
   "cell_type": "code",
   "execution_count": 181,
   "metadata": {},
   "outputs": [
    {
     "name": "stdout",
     "output_type": "stream",
     "text": [
      "Testing properties of Weil Pairing...\n",
      "Curve: EllipticCurve(y^2 = x^3 + FiniteFieldExtension(1 + 0*alpha, prime=17, alpha^2=5)x + FiniteFieldExtension(0 + 0*alpha, prime=17, alpha^2=5) over F_17)\n",
      "Point P: (FiniteField(14, 17), FiniteField(15, 17))\n",
      "Point Q: (FiniteFieldExtension(14 + 0*alpha, prime=17, alpha^2=5), FiniteFieldExtension(15 + 0*alpha, prime=17, alpha^2=5))\n",
      "FiniteFieldExtension(1 + 0*alpha, prime=17, alpha^2=5)\n",
      "FiniteFieldExtension(1 + 0*alpha, prime=17, alpha^2=5)\n",
      "Alternative FiniteFieldExtension(1 + 0*alpha, prime=17, alpha^2=5) should be 1 beacsue result1 and result2 are inverse\n"
     ]
    }
   ],
   "source": [
    "test_properties_alternative(curve_q, point_P, point_Q)"
   ]
  },
  {
   "cell_type": "markdown",
   "metadata": {},
   "source": [
    "## QAP"
   ]
  },
  {
   "cell_type": "code",
   "execution_count": 182,
   "metadata": {},
   "outputs": [],
   "source": [
    "import numpy as np\n",
    "import sympy as sp"
   ]
  },
  {
   "cell_type": "code",
   "execution_count": 183,
   "metadata": {},
   "outputs": [],
   "source": [
    "class Node:\n",
    "    def __init__(self, operation=None, left=None, right=None, value=None):\n",
    "        self.operation = operation\n",
    "        self.left = left\n",
    "        self.right = right\n",
    "        self.value = value\n",
    "        \n",
    "    def evaluate(self):\n",
    "        if self.operation is None:\n",
    "            return self.value\n",
    "        elif self.operation == '+':\n",
    "            return self.left.evaluate() + self.right.evaluate()\n",
    "        elif self.operation == '*':\n",
    "            return self.left.evaluate() * self.right.evaluate()\n",
    "        \n",
    "        \n",
    "    def __repr__(self):\n",
    "        \"\"\"노드 정보 보기 쉽게 출력\"\"\"\n",
    "        if self.operation is None:\n",
    "            return f\"({self.value})\"\n",
    "        return f\"({self.left} {self.operation} {self.right})\"\n",
    "        "
   ]
  },
  {
   "cell_type": "code",
   "execution_count": 184,
   "metadata": {},
   "outputs": [],
   "source": [
    "def find_left_selector(gate, gate_idx, c, selector):    \n",
    "    if gate.operation == None:\n",
    "        if gate.evaluate() == c:\n",
    "            selector[gate_idx] = 1        \n",
    "            print(f\"gate_idx: {gate_idx}, c: {c}, selector: {selector}\")    \n",
    "    elif gate.left.operation == None:\n",
    "        if gate.left.evaluate() == c:\n",
    "            selector[gate_idx] = 1        \n",
    "            print(f\"gate_idx: {gate_idx}, c: {c}, selector: {selector}\")\n",
    "    elif gate.left.operation == '+':\n",
    "        find_left_selector(gate.left.left, gate_idx, c, selector)\n",
    "        find_left_selector(gate.left.right, gate_idx, c, selector)\n",
    "    elif gate.operation == '*':\n",
    "        if gate.left.evaluate() == c:\n",
    "            selector[gate_idx] = 1        \n",
    "            print(f\"gate_idx: {gate_idx}, c: {c}, selector: {selector}\")\n",
    "\n",
    "    return selector\n",
    "\n",
    "def find_right_selector(gate, gate_idx, c, selector):    \n",
    "    if gate.operation == None:\n",
    "        if gate.evaluate() == c:\n",
    "            selector[gate_idx] = 1        \n",
    "            print(f\"gate_idx: {gate_idx}, c: {c}, selector: {selector}\")    \n",
    "    elif gate.right.operation == None:\n",
    "        if gate.right.evaluate() == c:\n",
    "            selector[gate_idx] = 1        \n",
    "            print(f\"gate_idx: {gate_idx}, c: {c}, selector: {selector}\")\n",
    "    elif gate.right.operation == '+':\n",
    "        find_right_selector(gate.right.right, gate_idx, c, selector)\n",
    "        find_right_selector(gate.right.left, gate_idx, c, selector)\n",
    "    elif gate.operation == '*':\n",
    "        if gate.right.evaluate() == c:\n",
    "            selector[gate_idx] = 1        \n",
    "            print(f\"gate_idx: {gate_idx}, c: {c}, selector: {selector}\")\n",
    "\n",
    "    return selector\n",
    "\n",
    "    '''\n",
    "def gate_selector(gate_list, direction, transcript_table):\n",
    "    polynomial_table = []\n",
    "    if direction == 'left':\n",
    "        for c in transcript_table:\n",
    "            selector = [0] * len(gate_list)\n",
    "            for gate_idx, gate in enumerate(gate_list):\n",
    "                find_left_selector(gate, gate_idx, c, selector)\n",
    "            polynomial_table.append(selector)\n",
    "            \n",
    "    elif direction == 'right':\n",
    "        for c in transcript_table:\n",
    "            selector = [0] * len(gate_list)\n",
    "            for gate_idx, gate in enumerate(gate_list):\n",
    "                find_right_selector(gate, gate_idx, c, selector)\n",
    "            polynomial_table.append(selector)\n",
    "            \n",
    "    return polynomial_table\n",
    "    '''"
   ]
  },
  {
   "cell_type": "code",
   "execution_count": 185,
   "metadata": {},
   "outputs": [],
   "source": [
    "def find_selector(gate, gate_idx, c, selector, direction):\n",
    "    \"\"\"Left 또는 Right Selector Polynomial을 찾는 함수\"\"\"\n",
    "    if gate is None:\n",
    "        return\n",
    "    \n",
    "    # 리프 노드라면 값을 확인\n",
    "    if gate.operation is None:\n",
    "        if gate.evaluate() == c:\n",
    "            selector[gate_idx] = 1        \n",
    "        return\n",
    "    \n",
    "    # 왼쪽 / 오른쪽 / 출력 선택\n",
    "    if direction == 'left':\n",
    "        target = gate.left \n",
    "    elif direction == 'right':\n",
    "        target = gate.right\n",
    "    elif direction == 'output':\n",
    "        target = gate\n",
    "\n",
    "    # 리프 값이 맞는 경우\n",
    "    if target and target.operation is None and target.evaluate() == c:\n",
    "        selector[gate_idx] = 1\n",
    "        return\n",
    "\n",
    "    # 덧셈 노드인 경우 재귀 호출\n",
    "    if target and target.operation == '+':\n",
    "        find_selector(target.left, gate_idx, c, selector, direction)\n",
    "        find_selector(target.right, gate_idx, c, selector, direction)\n",
    "\n",
    "    # 곱셈 노드이면서 직접 값이 맞는 경우\n",
    "    if gate.operation == '*' and target.evaluate() == c:\n",
    "        selector[gate_idx] = 1\n",
    "\n",
    "def gate_selector(gate_list, direction, transcript_table):\n",
    "    \"\"\"게이트에서 left 또는 right selector polynomial을 찾는 함수\"\"\"\n",
    "    polynomial_table = []\n",
    "    for c in transcript_table:\n",
    "        selector = [0] * len(gate_list)\n",
    "        for gate_idx, gate in enumerate(gate_list):\n",
    "            find_selector(gate, gate_idx, c, selector, direction)\n",
    "        polynomial_table.append(selector)\n",
    "    return polynomial_table\n",
    "\n"
   ]
  },
  {
   "cell_type": "code",
   "execution_count": 186,
   "metadata": {},
   "outputs": [],
   "source": [
    "def properties(transcript_table, selector_table):\n",
    "    \"\"\"주어진 selector 테이블에 대해 property 값을 계산하는 함수\"\"\"\n",
    "    def compute(x):\n",
    "        return sum(c * s for c, s in zip(transcript_table, selector_table[x]))\n",
    "    return compute\n",
    "\n",
    "def master_polynomial(transcript_table, selector_tables):\n",
    "    \"\"\"QAP의 master polynomial을 계산하는 클로저\"\"\"\n",
    "    def compute(x):\n",
    "        left_properties = properties(transcript_table, selector_tables['left'])(x)\n",
    "        right_properties = properties(transcript_table, selector_tables['right'])(x)\n",
    "        output_properties = properties(transcript_table, selector_tables['output'])(x)\n",
    "\n",
    "        return [left_properties,  right_properties, output_properties]\n",
    "\n",
    "    return compute\n"
   ]
  },
  {
   "cell_type": "code",
   "execution_count": 187,
   "metadata": {},
   "outputs": [],
   "source": [
    "\n",
    "def vanishing_polynomial(omega, n):\n",
    "    def compute(x):\n",
    "        result = 1\n",
    "        for i in range(n):\n",
    "            result *= (x - pow(omega, i + 1))\n",
    "        return result\n",
    "    return compute"
   ]
  },
  {
   "cell_type": "code",
   "execution_count": 188,
   "metadata": {},
   "outputs": [],
   "source": [
    "input_nodes = [\n",
    "    Node(value=3),\n",
    "    Node(value=2),\n",
    "    Node(value=1),\n",
    "    Node(value=7),\n",
    "    Node(value=5),\n",
    "    Node(value=4),\n",
    "]\n",
    "\n",
    "gate1 = Node(operation='*', left=input_nodes[0], right=input_nodes[1])\n",
    "gate2 = Node(operation='*', left=gate1, right=Node(operation='+', left=input_nodes[2], right=input_nodes[3]))\n",
    "gate3 = Node(operation='*', left=Node(operation='+', left=input_nodes[2], right=input_nodes[3]),  right=Node(operation='+', left=input_nodes[4], right=input_nodes[5]))\n",
    "\n",
    "transcript_table = [3, 2, 1, 7, 5, 4, 6, 48, 72]\n",
    "gate_list = [gate1, gate2, gate3]\n"
   ]
  },
  {
   "cell_type": "code",
   "execution_count": 189,
   "metadata": {},
   "outputs": [
    {
     "name": "stdout",
     "output_type": "stream",
     "text": [
      "Gate Structure:\n",
      "Gate 1: ((3) * (2))\n",
      "Gate 2: (((3) * (2)) * ((1) + (7)))\n",
      "Gate 3: (((1) + (7)) * ((5) + (4)))\n",
      "\n",
      "Evaluations:\n",
      "Gate 1 Result: 6\n",
      "Gate 2 Result: 48\n",
      "Gate 3 Result: 72\n"
     ]
    }
   ],
   "source": [
    "print(\"Gate Structure:\")\n",
    "print(f\"Gate 1: {gate1}\")\n",
    "print(f\"Gate 2: {gate2}\")\n",
    "print(f\"Gate 3: {gate3}\")\n",
    "\n",
    "print(\"\\nEvaluations:\")\n",
    "print(f\"Gate 1 Result: {gate1.evaluate()}\")\n",
    "print(f\"Gate 2 Result: {gate2.evaluate()}\")\n",
    "print(f\"Gate 3 Result: {gate3.evaluate()}\")"
   ]
  },
  {
   "cell_type": "code",
   "execution_count": 190,
   "metadata": {},
   "outputs": [
    {
     "data": {
      "text/plain": [
       "[[1, 0, 0],\n",
       " [0, 0, 0],\n",
       " [0, 0, 1],\n",
       " [0, 0, 1],\n",
       " [0, 0, 0],\n",
       " [0, 0, 0],\n",
       " [0, 1, 0],\n",
       " [0, 0, 0],\n",
       " [0, 0, 0]]"
      ]
     },
     "execution_count": 190,
     "metadata": {},
     "output_type": "execute_result"
    }
   ],
   "source": [
    "gate_selector(gate_list, 'left', transcript_table)"
   ]
  },
  {
   "cell_type": "code",
   "execution_count": 191,
   "metadata": {},
   "outputs": [
    {
     "data": {
      "text/plain": [
       "[[0, 0, 0],\n",
       " [1, 0, 0],\n",
       " [0, 1, 0],\n",
       " [0, 1, 0],\n",
       " [0, 0, 1],\n",
       " [0, 0, 1],\n",
       " [0, 0, 0],\n",
       " [0, 0, 0],\n",
       " [0, 0, 0]]"
      ]
     },
     "execution_count": 191,
     "metadata": {},
     "output_type": "execute_result"
    }
   ],
   "source": [
    "gate_selector(gate_list, 'right', transcript_table)"
   ]
  },
  {
   "cell_type": "code",
   "execution_count": 192,
   "metadata": {},
   "outputs": [
    {
     "name": "stdout",
     "output_type": "stream",
     "text": [
      "Left Selector Table:\n"
     ]
    },
    {
     "data": {
      "text/plain": [
       "[[1, 0, 0],\n",
       " [0, 0, 0],\n",
       " [0, 0, 1],\n",
       " [0, 0, 1],\n",
       " [0, 0, 0],\n",
       " [0, 0, 0],\n",
       " [0, 1, 0],\n",
       " [0, 0, 0],\n",
       " [0, 0, 0]]"
      ]
     },
     "execution_count": 192,
     "metadata": {},
     "output_type": "execute_result"
    }
   ],
   "source": [
    "# 실행 예시 (left selector 생성)\n",
    "left_selector_table = gate_selector(gate_list, 'left', transcript_table)\n",
    "print(\"Left Selector Table:\")\n",
    "left_selector_table"
   ]
  },
  {
   "cell_type": "code",
   "execution_count": 193,
   "metadata": {},
   "outputs": [
    {
     "name": "stdout",
     "output_type": "stream",
     "text": [
      "Right Selector Table:\n"
     ]
    },
    {
     "data": {
      "text/plain": [
       "[[0, 0, 0],\n",
       " [1, 0, 0],\n",
       " [0, 1, 0],\n",
       " [0, 1, 0],\n",
       " [0, 0, 1],\n",
       " [0, 0, 1],\n",
       " [0, 0, 0],\n",
       " [0, 0, 0],\n",
       " [0, 0, 0]]"
      ]
     },
     "execution_count": 193,
     "metadata": {},
     "output_type": "execute_result"
    }
   ],
   "source": [
    "# 실행 예시 (left selector 생성)\n",
    "right_selector_table = gate_selector(gate_list, 'right', transcript_table)\n",
    "print(\"Right Selector Table:\")\n",
    "right_selector_table"
   ]
  },
  {
   "cell_type": "code",
   "execution_count": 194,
   "metadata": {},
   "outputs": [
    {
     "name": "stdout",
     "output_type": "stream",
     "text": [
      "output Selector Table:\n"
     ]
    },
    {
     "data": {
      "text/plain": [
       "[[0, 0, 0],\n",
       " [0, 0, 0],\n",
       " [0, 0, 0],\n",
       " [0, 0, 0],\n",
       " [0, 0, 0],\n",
       " [0, 0, 0],\n",
       " [1, 0, 0],\n",
       " [0, 1, 0],\n",
       " [0, 0, 1]]"
      ]
     },
     "execution_count": 194,
     "metadata": {},
     "output_type": "execute_result"
    }
   ],
   "source": [
    "# 실행 예시 (left selector 생성)\n",
    "output_selector_table = gate_selector(gate_list, 'output', transcript_table)\n",
    "print(\"output Selector Table:\")\n",
    "output_selector_table"
   ]
  },
  {
   "cell_type": "markdown",
   "metadata": {},
   "source": [
    "# R1CS"
   ]
  },
  {
   "cell_type": "code",
   "execution_count": 195,
   "metadata": {},
   "outputs": [],
   "source": [
    "selector_tables = {\n",
    "    'left': left_selector_table,\n",
    "    'right': right_selector_table,\n",
    "    'output': output_selector_table\n",
    "}\n",
    "\n",
    "L = np.array(selector_tables['left']).T\n",
    "R = np.array(selector_tables['right']).T\n",
    "O = np.array(selector_tables['output']).T\n",
    "witness = np.array(transcript_table).reshape(-1, 1)"
   ]
  },
  {
   "cell_type": "code",
   "execution_count": 196,
   "metadata": {},
   "outputs": [
    {
     "name": "stdout",
     "output_type": "stream",
     "text": [
      "L:\n",
      "[[1 0 0 0 0 0 0 0 0]\n",
      " [0 0 0 0 0 0 1 0 0]\n",
      " [0 0 1 1 0 0 0 0 0]]\n",
      "R:\n",
      "[[0 1 0 0 0 0 0 0 0]\n",
      " [0 0 1 1 0 0 0 0 0]\n",
      " [0 0 0 0 1 1 0 0 0]]\n",
      "O:\n",
      "[[0 0 0 0 0 0 1 0 0]\n",
      " [0 0 0 0 0 0 0 1 0]\n",
      " [0 0 0 0 0 0 0 0 1]]\n",
      "Witness:\n",
      "[[ 3]\n",
      " [ 2]\n",
      " [ 1]\n",
      " [ 7]\n",
      " [ 5]\n",
      " [ 4]\n",
      " [ 6]\n",
      " [48]\n",
      " [72]]\n"
     ]
    }
   ],
   "source": [
    "print(f\"L:\\n{L}\")\n",
    "print(f\"R:\\n{R}\")\n",
    "print(f\"O:\\n{O}\")\n",
    "print(f\"Witness:\\n{witness}\")"
   ]
  },
  {
   "cell_type": "code",
   "execution_count": 197,
   "metadata": {},
   "outputs": [
    {
     "name": "stdout",
     "output_type": "stream",
     "text": [
      "L @ Witness:\n",
      "[[3]\n",
      " [6]\n",
      " [8]]\n",
      "R @ Witness:\n",
      "[[2]\n",
      " [8]\n",
      " [9]]\n",
      "O @ Witness:\n",
      "[[ 6]\n",
      " [48]\n",
      " [72]]\n",
      "lhs:\n",
      " [[ 6]\n",
      " [48]\n",
      " [72]]\n",
      "rhs:\n",
      " [[ 6]\n",
      " [48]\n",
      " [72]]\n",
      "lhs == rhs:\n",
      " [[ True]\n",
      " [ True]\n",
      " [ True]]\n"
     ]
    }
   ],
   "source": [
    "L_matmul_witness = L @ witness\n",
    "R_matmul_witness = R @ witness\n",
    "O_matmul_witness = O @ witness\n",
    "\n",
    "print(f\"L @ Witness:\\n{L_matmul_witness}\")\n",
    "print(f\"R @ Witness:\\n{R_matmul_witness}\")\n",
    "print(f\"O @ Witness:\\n{O_matmul_witness}\")\n",
    "lhs = L_matmul_witness * R_matmul_witness\n",
    "rhs = O_matmul_witness\n",
    "print(f\"lhs:\\n {lhs}\")\n",
    "print(f\"rhs:\\n {rhs}\")\n",
    "print(f\"lhs == rhs:\\n {lhs == rhs}\")"
   ]
  },
  {
   "cell_type": "markdown",
   "metadata": {},
   "source": [
    "## Groth16"
   ]
  },
  {
   "cell_type": "code",
   "execution_count": 563,
   "metadata": {},
   "outputs": [],
   "source": [
    "def find_nth_root_of_unity(prime, n):\n",
    "    from sympy import factorint\n",
    "    #if (prime - 1) % n != 0:\n",
    "    #    raise ValueError(f\"n={n} must be a divisor of p-1={prime-1}\")\n",
    "    g = find_generators(prime)\n",
    "    if g is None:\n",
    "        raise ValueError(f\"No generator found for prime {prime}\")\n",
    "    return pow(g, (prime-1)//n, prime)\n",
    "\n",
    "# 또는 확장체 사용 (예: p=23, n=12)\n",
    "def find_nth_root_of_unity_extended(prime, n, extension=2):\n",
    "    from sympy import factorint\n",
    "    # p^(extension) - 1에서 n이 약수인지 확인\n",
    "    p_power = pow(prime, extension) - 1\n",
    "    #if p_power % n != 0:\n",
    "    #    raise ValueError(f\"n={n} must be a divisor of p^extension-1={p_power} for extension={extension}\")\n",
    "    g = find_generators(pow(prime, extension) - 1)  # 확장체의 생성원\n",
    "    return pow(g, p_power // n, pow(prime, extension))"
   ]
  },
  {
   "cell_type": "code",
   "execution_count": 564,
   "metadata": {},
   "outputs": [],
   "source": [
    "# 입력 및 게이트 설정\n",
    "input_nodes = [Node(value=3), Node(value=2), Node(value=1), Node(value=7), Node(value=5), Node(value=4)]\n",
    "gate1 = Node(operation='*', left=input_nodes[0], right=input_nodes[1])\n",
    "gate2 = Node(operation='*', left=gate1, right=Node(operation='+', left=input_nodes[2], right=input_nodes[3]))\n",
    "gate3 = Node(operation='*', left=Node(operation='+', left=input_nodes[2], right=input_nodes[3]), right=Node(operation='+', left=input_nodes[4], right=input_nodes[5]))\n",
    "\n",
    "transcript_table = [3, 2, 1, 7, 5, 4, 6, 48, 72]\n",
    "gate_list = [gate1, gate2, gate3]\n",
    "\n",
    "# Selector Tables\n",
    "left_selector_table = gate_selector(gate_list, 'left', transcript_table)\n",
    "right_selector_table = gate_selector(gate_list, 'right', transcript_table)\n",
    "output_selector_table = gate_selector(gate_list, 'output', transcript_table)\n",
    "\n",
    "selector_tables = {'left': left_selector_table, 'right': right_selector_table, 'output': output_selector_table}"
   ]
  },
  {
   "cell_type": "code",
   "execution_count": 565,
   "metadata": {},
   "outputs": [
    {
     "data": {
      "text/plain": [
       "[[0, 0, 0],\n",
       " [0, 0, 0],\n",
       " [0, 0, 0],\n",
       " [0, 0, 0],\n",
       " [0, 0, 0],\n",
       " [0, 0, 0],\n",
       " [1, 0, 0],\n",
       " [0, 1, 0],\n",
       " [0, 0, 1]]"
      ]
     },
     "execution_count": 565,
     "metadata": {},
     "output_type": "execute_result"
    }
   ],
   "source": [
    "output_selector_table"
   ]
  },
  {
   "cell_type": "code",
   "execution_count": 566,
   "metadata": {},
   "outputs": [
    {
     "data": {
      "text/plain": [
       "array([[ 3],\n",
       "       [ 2],\n",
       "       [ 1],\n",
       "       [ 7],\n",
       "       [ 5],\n",
       "       [ 4],\n",
       "       [ 6],\n",
       "       [48],\n",
       "       [72]])"
      ]
     },
     "execution_count": 566,
     "metadata": {},
     "output_type": "execute_result"
    }
   ],
   "source": [
    "witness"
   ]
  },
  {
   "cell_type": "code",
   "execution_count": 567,
   "metadata": {},
   "outputs": [],
   "source": [
    "L = np.array(selector_tables['left']).T\n",
    "R = np.array(selector_tables['right']).T\n",
    "O = np.array(selector_tables['output']).T\n",
    "witness = np.array(transcript_table).reshape(-1, 1)"
   ]
  },
  {
   "cell_type": "code",
   "execution_count": 568,
   "metadata": {},
   "outputs": [
    {
     "data": {
      "text/plain": [
       "array([[1, 0, 0],\n",
       "       [0, 0, 0],\n",
       "       [0, 0, 1],\n",
       "       [0, 0, 1],\n",
       "       [0, 0, 0],\n",
       "       [0, 0, 0],\n",
       "       [0, 1, 0],\n",
       "       [0, 0, 0],\n",
       "       [0, 0, 0]])"
      ]
     },
     "execution_count": 568,
     "metadata": {},
     "output_type": "execute_result"
    }
   ],
   "source": [
    "L.T\n"
   ]
  },
  {
   "cell_type": "code",
   "execution_count": 569,
   "metadata": {},
   "outputs": [
    {
     "name": "stdout",
     "output_type": "stream",
     "text": [
      "L @ Witness:\n",
      "[[3]\n",
      " [6]\n",
      " [8]]\n",
      "R @ Witness:\n",
      "[[2]\n",
      " [8]\n",
      " [9]]\n",
      "O @ Witness:\n",
      "[[ 6]\n",
      " [48]\n",
      " [72]]\n",
      "lhs:\n",
      " [[ 6]\n",
      " [48]\n",
      " [72]]\n",
      "rhs:\n",
      " [[ 6]\n",
      " [48]\n",
      " [72]]\n",
      "lhs == rhs:\n",
      " [[ True]\n",
      " [ True]\n",
      " [ True]]\n"
     ]
    }
   ],
   "source": [
    "L_matmul_witness = L @ witness\n",
    "R_matmul_witness = R @ witness\n",
    "O_matmul_witness = O @ witness\n",
    "\n",
    "print(f\"L @ Witness:\\n{L_matmul_witness}\")\n",
    "print(f\"R @ Witness:\\n{R_matmul_witness}\")\n",
    "print(f\"O @ Witness:\\n{O_matmul_witness}\")\n",
    "lhs = L_matmul_witness * R_matmul_witness\n",
    "rhs = O_matmul_witness\n",
    "print(f\"lhs:\\n {lhs}\")\n",
    "print(f\"rhs:\\n {rhs}\")\n",
    "print(f\"lhs == rhs:\\n {lhs == rhs}\")"
   ]
  },
  {
   "cell_type": "code",
   "execution_count": 570,
   "metadata": {},
   "outputs": [
    {
     "name": "stdout",
     "output_type": "stream",
     "text": [
      "조건을 만족하는 첫 번째 소수: 59\n"
     ]
    }
   ],
   "source": [
    "def find_prime(start=2, limit=100):\n",
    "    \"\"\" p+1이 3으로 나누어 떨어지는 가장 작은 소수를 찾는다. \"\"\"\n",
    "    def is_prime(n):\n",
    "        if n < 2:\n",
    "            return False\n",
    "        if n in (2, 3):\n",
    "            return True\n",
    "        if n % 2 == 0 or n % 3 == 0:\n",
    "            return False\n",
    "        i = 5\n",
    "        while i * i <= n:\n",
    "            if n % i == 0 or n % (i + 2) == 0:\n",
    "                return False\n",
    "            i += 6\n",
    "        return True\n",
    "\n",
    "    for p in range(start, limit):\n",
    "        if is_prime(p) and (p + 1) % 3 == 0:\n",
    "            return p  # 조건을 만족하는 첫 번째 소수를 반환\n",
    "\n",
    "    return None  # 범위 내에서 조건을 만족하는 소수를 찾지 못한 경우\n",
    "\n",
    "# 실행 예제\n",
    "prime_number = find_prime(start=54, limit=1000)\n",
    "print(f\"조건을 만족하는 첫 번째 소수: {prime_number}\")\n"
   ]
  },
  {
   "cell_type": "code",
   "execution_count": 572,
   "metadata": {},
   "outputs": [
    {
     "name": "stdout",
     "output_type": "stream",
     "text": [
      "[(FiniteField(10, 13), FiniteField(6, 13)), (FiniteField(10, 13), FiniteField(7, 13))]\n",
      "3\n",
      "1\n"
     ]
    }
   ],
   "source": [
    "# 타원 곡선 및 매개변수\n",
    "prime = 13\n",
    "groth16_curve = EllipticCurve(a=FiniteField(1, prime), b=FiniteField(1, prime), prime=prime) \n",
    "n = 3\n",
    "points_of_order_n = [p for p in groth16_curve.find_points_of_order_n(n) if p is not None]\n",
    "print(points_of_order_n)\n",
    "g = points_of_order_n[0]\n",
    "omega = find_nth_root_of_unity(prime, n)\n",
    "print(omega)\n",
    "print(omega ** n % prime)\n",
    "tau = random.randint(0, 123456789) # 예: 4 (F_7에서 3, 2, 1 외의 값)"
   ]
  },
  {
   "cell_type": "code",
   "execution_count": 573,
   "metadata": {},
   "outputs": [],
   "source": [
    "x_values = [omega, omega ** 2 % prime, omega ** 3 % prime]\n",
    "L_poly = []\n",
    "R_poly = []\n",
    "O_poly = []\n",
    "for i in range(len(selector_tables['left'])):\n",
    "    L_coefficients = np.polyfit(x_values, selector_tables['left'][i], 2)\n",
    "    R_coefficients = np.polyfit(x_values, selector_tables['right'][i], 2)\n",
    "    O_coefficients = np.polyfit(x_values, selector_tables['output'][i], 2)\n",
    "    \n",
    "    L_poly.append(np.poly1d(L_coefficients))\n",
    "    R_poly.append(np.poly1d(R_coefficients))\n",
    "    O_poly.append(np.poly1d(O_coefficients))\n"
   ]
  },
  {
   "cell_type": "code",
   "execution_count": 574,
   "metadata": {},
   "outputs": [
    {
     "name": "stdout",
     "output_type": "stream",
     "text": [
      "L exponent: 10\n",
      "R exponent: 9\n",
      "O exponent: 11\n"
     ]
    }
   ],
   "source": [
    "def calculate_exponent(witness, poly, tau):\n",
    "    result = 0\n",
    "    for i in range(len(witness)):\n",
    "        result += (witness[i] * poly[i](tau))\n",
    "        \n",
    "    return result\n",
    "    \n",
    "L_exponent = int(calculate_exponent(witness, L_poly, tau)) % prime\n",
    "R_exponent = int(calculate_exponent(witness, R_poly, tau)) % prime\n",
    "O_exponent = int(calculate_exponent(witness, O_poly, tau)) % prime\n",
    "\n",
    "print(f\"L exponent: {L_exponent}\")\n",
    "print(f\"R exponent: {R_exponent}\")\n",
    "print(f\"O exponent: {O_exponent}\")"
   ]
  },
  {
   "cell_type": "code",
   "execution_count": 575,
   "metadata": {},
   "outputs": [
    {
     "name": "stdout",
     "output_type": "stream",
     "text": [
      "pi_1: (FiniteField(10, 13), FiniteField(6, 13))\n",
      "pi_2: None\n",
      "pi_3: (FiniteField(10, 13), FiniteField(7, 13))\n"
     ]
    }
   ],
   "source": [
    "pi_1 = groth16_curve.multiply_point(g, int(L_exponent) % prime)\n",
    "pi_2 = groth16_curve.multiply_point(g, int(R_exponent) % prime)\n",
    "pi_3 = groth16_curve.multiply_point(g, int(O_exponent) % prime)\n",
    "\n",
    "print(f\"pi_1: {pi_1}\")\n",
    "print(f\"pi_2: {pi_2}\")\n",
    "print(f\"pi_3: {pi_3}\")"
   ]
  },
  {
   "cell_type": "code",
   "execution_count": 576,
   "metadata": {},
   "outputs": [
    {
     "name": "stdout",
     "output_type": "stream",
     "text": [
      "Omega: 3, n: 3, Prime: 13\n",
      "21038227\n",
      "7\n"
     ]
    }
   ],
   "source": [
    "\n",
    "\n",
    "def vanishing_polynomial_prime(omega, n, prime):\n",
    "    def compute(x):\n",
    "        result = 1\n",
    "        for i in range(n):\n",
    "            result *= (x - pow(omega, i + 1, prime))\n",
    "        return result % prime\n",
    "    return compute\n",
    "\n",
    "print(f\"Omega: {omega}, n: {n}, Prime: {prime}\")\n",
    "V_x = vanishing_polynomial_prime(omega, n, prime)\n",
    "print(tau)\n",
    "V_tau = V_x(tau)\n",
    "print(V_tau)\n",
    "inverse_V_tau = pow(V_tau, prime - 2, prime)\n",
    "q_tau = ((L_exponent * R_exponent - O_exponent)*inverse_V_tau) % prime\n",
    "\n",
    "pi_4 = groth16_curve.multiply_point(g, int(q_tau) % prime)\n",
    "g_V_tau = groth16_curve.multiply_point(g, V_tau)"
   ]
  },
  {
   "cell_type": "code",
   "execution_count": 577,
   "metadata": {},
   "outputs": [
    {
     "name": "stdout",
     "output_type": "stream",
     "text": [
      "12\n",
      "11\n",
      "1\n",
      "1\n"
     ]
    }
   ],
   "source": [
    "print((L_exponent * R_exponent) % prime)\n",
    "print((O_exponent) % prime)\n",
    "print((L_exponent * R_exponent - O_exponent) % prime)\n",
    "print(V_tau * q_tau % prime)"
   ]
  },
  {
   "cell_type": "code",
   "execution_count": 578,
   "metadata": {},
   "outputs": [
    {
     "name": "stdout",
     "output_type": "stream",
     "text": [
      "g: (FiniteField(10, 13), FiniteField(6, 13))\n",
      "g^n: None\n"
     ]
    }
   ],
   "source": [
    "print(f\"g: {g}\")\n",
    "print(f\"g^n: {groth16_curve.multiply_point(g, n)}\")  # 항등원이면 None"
   ]
  },
  {
   "cell_type": "code",
   "execution_count": 579,
   "metadata": {},
   "outputs": [
    {
     "data": {
      "text/plain": [
       "(7, 2, (FiniteField(10, 13), FiniteField(6, 13)))"
      ]
     },
     "execution_count": 579,
     "metadata": {},
     "output_type": "execute_result"
    }
   ],
   "source": [
    "V_tau, q_tau, g_V_tau"
   ]
  },
  {
   "cell_type": "code",
   "execution_count": 580,
   "metadata": {},
   "outputs": [
    {
     "data": {
      "text/plain": [
       "((FiniteField(10, 13), FiniteField(6, 13)),\n",
       " None,\n",
       " (FiniteField(10, 13), FiniteField(7, 13)),\n",
       " (FiniteField(10, 13), FiniteField(7, 13)))"
      ]
     },
     "execution_count": 580,
     "metadata": {},
     "output_type": "execute_result"
    }
   ],
   "source": [
    "pi_1, pi_2, pi_3, pi_4"
   ]
  },
  {
   "cell_type": "code",
   "execution_count": 591,
   "metadata": {},
   "outputs": [
    {
     "name": "stdout",
     "output_type": "stream",
     "text": [
      "e(pi_1, pi_2): FiniteFieldExtension(1 + 0*alpha, prime=13, alpha^2=5)\n",
      "e(pi_3, g): FiniteFieldExtension(9 + 0*alpha, prime=13, alpha^2=5)\n",
      "e(g_V_tau, pi_4): FiniteFieldExtension(9 + 0*alpha, prime=13, alpha^2=5)\n",
      "e(pi_1, pi_2) / e(pi_3, g) == e(g_V_tau, pi_4): FiniteFieldExtension(3 + 0*alpha, prime=13, alpha^2=5) == FiniteFieldExtension(9 + 0*alpha, prime=13, alpha^2=5) => False\n"
     ]
    }
   ],
   "source": [
    "extension = 5\n",
    "extended_groth15_curve = EllipticCurve(a=FiniteFieldExtension(1, 0, prime, extension), b=FiniteFieldExtension(1, 0, prime, extension), prime=prime)\n",
    "extended_pi_1 = None if pi_1 is None else (pi_1[0].to_extension(extension), pi_1[1].to_extension(extension))\n",
    "extended_pi_2 = None if pi_2 is None else (pi_2[0].to_extension(extension), pi_2[1].to_extension(extension))\n",
    "extended_pi_3 = None if pi_3 is None else (pi_3[0].to_extension(extension), pi_3[1].to_extension(extension))\n",
    "extended_g = (g[0].to_extension(extension), g[1].to_extension(extension))\n",
    "extended_g_V_tau = None if g_V_tau is None else(g_V_tau[0].to_extension(extension), g_V_tau[1].to_extension(extension))\n",
    "extended_pi_4 = None if pi_4 is None else (pi_4[0].to_extension(extension), pi_4[1].to_extension(extension))\n",
    "\n",
    "weil_pairing_1 = WeilPairing(extended_groth15_curve, extended_pi_1, extended_pi_2)\n",
    "weil_pairing_2 = WeilPairing(extended_groth15_curve, extended_pi_3, extended_g)\n",
    "\n",
    "result1, _, _ = weil_pairing_1.compute_pairing(n)\n",
    "result2, _, R_g = weil_pairing_2.compute_pairing(n)\n",
    "\n",
    "weil_pairing_3 = WeilPairing(extended_groth15_curve, extended_g_V_tau, extended_pi_4, None, None)\n",
    "result3, _, _ = weil_pairing_3.compute_pairing(n)\n",
    "\n",
    "print(f\"e(pi_1, pi_2): {result1}\")\n",
    "print(f\"e(pi_3, g): {result2}\")\n",
    "print(f\"e(g_V_tau, pi_4): {result3}\")\n",
    "print(f\"e(pi_1, pi_2) / e(pi_3, g) == e(g_V_tau, pi_4): {result1 * result2.inverse()} == {result3} => {result1 / result2 == result3}\")"
   ]
  },
  {
   "cell_type": "code",
   "execution_count": 589,
   "metadata": {},
   "outputs": [
    {
     "name": "stdout",
     "output_type": "stream",
     "text": [
      "extended_pi_1: (FiniteFieldExtension(10 + 0*alpha, prime=13, alpha^2=5), FiniteFieldExtension(6 + 0*alpha, prime=13, alpha^2=5))\n",
      "extended_pi_2: None\n",
      "extended_pi_3:L (FiniteFieldExtension(10 + 0*alpha, prime=13, alpha^2=5), FiniteFieldExtension(7 + 0*alpha, prime=13, alpha^2=5))\n",
      "extended_g: (FiniteFieldExtension(10 + 0*alpha, prime=13, alpha^2=5), FiniteFieldExtension(6 + 0*alpha, prime=13, alpha^2=5))\n",
      "extended_g_V_tau: (FiniteFieldExtension(10 + 0*alpha, prime=13, alpha^2=5), FiniteFieldExtension(6 + 0*alpha, prime=13, alpha^2=5))\n",
      "extended_pi_4: (FiniteFieldExtension(10 + 0*alpha, prime=13, alpha^2=5), FiniteFieldExtension(7 + 0*alpha, prime=13, alpha^2=5))\n"
     ]
    }
   ],
   "source": [
    "print(f\"extended_pi_1: {extended_pi_1}\")\n",
    "print(f\"extended_pi_2: {extended_pi_2}\")\n",
    "print(f\"extended_pi_3:L {extended_pi_3}\")\n",
    "print(f\"extended_g: {extended_g}\")\n",
    "print(f\"extended_g_V_tau: {extended_g_V_tau}\")\n",
    "print(f\"extended_pi_4: {extended_pi_4}\")"
   ]
  },
  {
   "cell_type": "code",
   "execution_count": null,
   "metadata": {},
   "outputs": [],
   "source": []
  }
 ],
 "metadata": {
  "kernelspec": {
   "display_name": "Python 3",
   "language": "python",
   "name": "python3"
  },
  "language_info": {
   "codemirror_mode": {
    "name": "ipython",
    "version": 3
   },
   "file_extension": ".py",
   "mimetype": "text/x-python",
   "name": "python",
   "nbconvert_exporter": "python",
   "pygments_lexer": "ipython3",
   "version": "3.8.20"
  }
 },
 "nbformat": 4,
 "nbformat_minor": 2
}
